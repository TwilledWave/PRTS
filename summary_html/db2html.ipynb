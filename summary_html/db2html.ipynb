{
 "cells": [
  {
   "cell_type": "code",
   "execution_count": 3,
   "id": "8d535c03-54dc-46d2-a245-e7be56a27b03",
   "metadata": {},
   "outputs": [
    {
     "data": {
      "text/plain": [
       "'C:\\\\Users\\\\shiha\\\\PRTS\\\\summary_html'"
      ]
     },
     "execution_count": 3,
     "metadata": {},
     "output_type": "execute_result"
    }
   ],
   "source": [
    "import os\n",
    "os.getcwd()"
   ]
  },
  {
   "cell_type": "code",
   "execution_count": 4,
   "id": "8662aafd-8774-40d8-b205-c0240ffbe8a4",
   "metadata": {},
   "outputs": [],
   "source": [
    "import chromadb\n",
    "from json2html import *\n",
    "\n",
    "#output chapter content to html\n",
    "def run(query:str, output = \"output.html\", path=\"../db/cndb\"):\n",
    "\n",
    "    client = chromadb.PersistentClient(path=path)\n",
    "\n",
    "    #print (\"find db collection:\" + client.list_collections())\n",
    "\n",
    "    db = client.get_collection(\"langchain\")\n",
    "    data = db.get()\n",
    "    tmp = []\n",
    "    for k in range(len(data[\"ids\"])):\n",
    "        if query in data[\"metadatas\"][k][\"stage\"]:\n",
    "            this = {\"stage\": data[\"metadatas\"][k][\"stage\"], \n",
    "                    \"summary\": data[\"documents\"][k],\n",
    "                    \"cg\": data[\"metadatas\"][k][\"cg\"],\n",
    "                   }\n",
    "            tmp.append(this);\n",
    "\n",
    "    html = json2html.convert(json = tmp)\n",
    "    #convert image to display\n",
    "    html = html.replace(\"http\",\"<img src=\\\"http\")\n",
    "    html = html.replace(\"png</td>\",\"png\\\"></td>\")\n",
    "\n",
    "    with open(output, 'w', encoding=\"utf-8\") as f:\n",
    "        f.write(html)\n",
    "    \n",
    "    return(\"success: write query to output.html\")"
   ]
  },
  {
   "cell_type": "code",
   "execution_count": 7,
   "id": "985e91e2-fb25-4f11-bd27-5a998d9a2e8f",
   "metadata": {},
   "outputs": [
    {
     "data": {
      "text/plain": [
       "'success: write query to output.html'"
      ]
     },
     "execution_count": 7,
     "metadata": {},
     "output_type": "execute_result"
    }
   ],
   "source": [
    "path = \"../db/jpdb\"\n",
    "run(\"ZT-\",\"ZT_JP.html\", path=path)"
   ]
  },
  {
   "cell_type": "code",
   "execution_count": 22,
   "id": "96840705-73d7-4d4c-9368-35b50e12f7c1",
   "metadata": {},
   "outputs": [
    {
     "data": {
      "text/plain": [
       "'success: write query to output.html'"
      ]
     },
     "execution_count": 22,
     "metadata": {},
     "output_type": "execute_result"
    }
   ],
   "source": [
    "run(\"CW-\",\"LoneTrail.html\")"
   ]
  },
  {
   "cell_type": "code",
   "execution_count": 24,
   "id": "7142938b-4efa-485a-a537-9b8ebc3020c9",
   "metadata": {},
   "outputs": [
    {
     "data": {
      "text/plain": [
       "'success: write query to output.html'"
      ]
     },
     "execution_count": 24,
     "metadata": {},
     "output_type": "execute_result"
    }
   ],
   "source": [
    "run(\"HE-\",\"Hortus De Escapismo.html\")\n",
    "run(\"SL-\",\"So Long Adele.html\")\n",
    "run(\"CV-\",\"Come Catastrophes or Wakes of Vultures.html\")"
   ]
  },
  {
   "cell_type": "code",
   "execution_count": 30,
   "id": "d8b44773-ab7a-4e56-83f5-7287a4928e72",
   "metadata": {},
   "outputs": [
    {
     "data": {
      "text/plain": [
       "'success: write query to output.html'"
      ]
     },
     "execution_count": 30,
     "metadata": {},
     "output_type": "execute_result"
    }
   ],
   "source": [
    "path = \"../db/arkdb\"\n",
    "run(\"12-\",\"episode12_EN.html\",path=path)\n",
    "run(\"13-\",\"episode13_EN.html\",path=path)\n",
    "run(\"CW-\",\"LoneTrail_EN.html\",path=path)\n",
    "run(\"HE-\",\"Hortus De Escapismo_EN.html\",path=path)\n",
    "run(\"SL-\",\"So Long Adele_EN.html\",path=path)\n",
    "run(\"CV-\",\"Come Catastrophes or Wakes of Vultures_EN.html\",path=path)"
   ]
  },
  {
   "cell_type": "code",
   "execution_count": null,
   "id": "d5edec66-86b8-46d8-9634-8882c4a89186",
   "metadata": {},
   "outputs": [],
   "source": []
  }
 ],
 "metadata": {
  "kernelspec": {
   "display_name": "Python 3 (ipykernel)",
   "language": "python",
   "name": "python3"
  },
  "language_info": {
   "codemirror_mode": {
    "name": "ipython",
    "version": 3
   },
   "file_extension": ".py",
   "mimetype": "text/x-python",
   "name": "python",
   "nbconvert_exporter": "python",
   "pygments_lexer": "ipython3",
   "version": "3.11.5"
  }
 },
 "nbformat": 4,
 "nbformat_minor": 5
}
