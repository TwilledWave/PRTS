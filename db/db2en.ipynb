{
 "cells": [
  {
   "cell_type": "code",
   "execution_count": 1,
   "id": "f4c20c04-46fa-490b-91ed-76f35fa9133e",
   "metadata": {},
   "outputs": [
    {
     "name": "stderr",
     "output_type": "stream",
     "text": [
      "Using region Florida server backend.\n",
      "\n"
     ]
    }
   ],
   "source": [
    "#this converts the CN database to EN\n",
    "import translators as ts\n",
    "import time\n",
    "import configparser, os\n",
    "config = configparser.ConfigParser()\n",
    "config.read('./keys.ini')\n",
    "openai_api_key = config['OPENAI']['OPENAI_API_KEY']\n",
    "os.environ['OPENAI_API_KEY'] = openai_api_key"
   ]
  },
  {
   "cell_type": "code",
   "execution_count": 2,
   "id": "75d2f0e1-c3ec-4538-8596-5092f1d2488c",
   "metadata": {},
   "outputs": [
    {
     "data": {
      "text/plain": [
       "'C:\\\\Users\\\\shiha\\\\PRTS\\\\db'"
      ]
     },
     "execution_count": 2,
     "metadata": {},
     "output_type": "execute_result"
    }
   ],
   "source": [
    "import os\n",
    "os.getcwd()"
   ]
  },
  {
   "cell_type": "code",
   "execution_count": 3,
   "id": "a6279776-24ef-4948-a60b-2e25f9682b66",
   "metadata": {},
   "outputs": [],
   "source": [
    "#read the character json and output the dictionary for translation\n",
    "def json2dict(file = \"chars.json\"):\n",
    "    import json, time\n",
    "    dict = {}\n",
    "    # Opening JSON file\n",
    "    with open(file, encoding=\"utf-8\") as f:\n",
    "        char_list = json.load(f)\n",
    "    for l in char_list:\n",
    "        nameEN = l[\"nameEN\"];\n",
    "        nameCN = l[\"nameCN\"];\n",
    "        #don't replace name with only 1 character\n",
    "        if (nameCN != None) & (nameEN != None):\n",
    "            if len(nameCN)>1:\n",
    "                dict[nameCN]=nameEN\n",
    "    dict[\"明日方舟\"] = \"Arknights\";\n",
    "    return(dict);\n",
    "\n",
    "#replace every instance in the source by dict\n",
    "def multipleReplace(text, wordDict):\n",
    "    for key in wordDict:\n",
    "        text = text.replace(key, wordDict[key])\n",
    "    return text\n"
   ]
  },
  {
   "cell_type": "code",
   "execution_count": 5,
   "id": "abf6eeeb-1dab-42bd-9b38-6ba2cbc86e04",
   "metadata": {},
   "outputs": [],
   "source": [
    "#translate content to english and copy\n",
    "def copy_db(original = \"./cndb\", target = \"./arkdb\", limit = \"\", to_language = \"en\"):\n",
    "    from langchain.embeddings import OpenAIEmbeddings\n",
    "    from langchain.vectorstores import Chroma\n",
    "    from langchain.docstore.document import Document\n",
    "    db = Chroma(persist_directory=original, embedding_function=OpenAIEmbeddings())\n",
    "    db2 = Chroma(persist_directory=target, embedding_function=OpenAIEmbeddings())\n",
    "    data = db.get()\n",
    "    tmp = []\n",
    "    for k in range(len(data[\"ids\"])):\n",
    "        if (limit in data[\"metadatas\"][k][\"stage\"]) | (limit in data[\"metadatas\"][k][\"source\"]):\n",
    "            id = data[\"ids\"][k];\n",
    "            meta = data[\"metadatas\"][k];\n",
    "            story = data[\"documents\"][k];\n",
    "            dict1 = json2dict(file = \"chars.json\");\n",
    "            dict2 = json2dict(file = \"npc110123.json\");\n",
    "            dict = dict1 | dict2;\n",
    "            story = multipleReplace(text = story, wordDict = dict)\n",
    "            story_en = ts.translate_text(story, translator=\"google\",from_langugage=\"zh\",to_language=to_language)\n",
    "            output_doc = Document(page_content=story_en, metadata=meta);\n",
    "            print(story); print(story_en);\n",
    "            db2.add_documents([output_doc], ids = [id])\n",
    "            time.sleep(16)"
   ]
  },
  {
   "cell_type": "code",
   "execution_count": 9,
   "id": "a43964d1-9946-4e8d-89b8-d9886ceccfd6",
   "metadata": {
    "collapsed": true,
    "jupyter": {
     "outputs_hidden": true
    }
   },
   "outputs": [
    {
     "name": "stdout",
     "output_type": "stream",
     "text": [
      "故事发生在一个小镇上，阿兰娜和小锅盖是好朋友。他们一起在阿兰娜的运载车上工作，准备离开这个小镇。阿兰娜做了很多菜，为了让菜保持热，她敲碗提醒它们慢慢变凉。他们聊了很多关于食物的话题，然后听到了奇怪的声音。他们发现是一个陌生人在敲门，他们决定去看看。在路上，小锅盖不小心推车撞到了一个人，但幸运的是没有受伤。他们来到了一个百货店，阿兰娜想买一只沙地兽，而小锅盖想卖掉一些东西。百货店老板同意帮助他们，但他们需要找到特定型号的安全阀。然而，他们没有找到合适的阀门，他们决定继续寻找。故事结束时，他们决定分工，继续努力寻找所需的物品。\n",
      "\n",
      "在对话中，小锅盖想要找到一些东西，请求百货店老板帮忙看着推车。百货店老板询问阿兰娜是否还需要购买其他东西。沉默寡言的顾客没有回答。阿兰娜和小查理之间发生了一些争执，他们讨论了阿兰娜照顾小孩的问题。阿兰娜解释了她为什么要照顾小孩，并威胁要把球踢到小查理的脸上。他们继续讨论阿兰娜是否会回来，最后决定明天再谈。小锅盖去买东西，回来后发现阿兰娜已经完成了工作，并和叔叔们打球。阿兰娜解释了她为什么能这么快完成工作。他们讨论了剩下的工作和明天的行程。小锅盖提议帮忙交《停运报告书》，以便阿兰娜能多和朋友们聊一会儿。最后，小锅盖遇到一个畏畏缩缩的乘客，他们讨论了乘车时间和等待的人。小锅盖最后决定帮助乘客等待的人。\n",
      "\n",
      "在这段对话中，小锅盖正在等待进入办公室提交文件，但是时间很紧迫。她和一位名叫雷厉风行的女性聊天，女性抱怨人太多，办事效率低下。小锅盖担心文件来不及交，但是女性表示可以帮她交。小锅盖犹豫不决，但最终还是把文件交给了女性。之后，小锅盖赶上了车，但她心里还有些不安。最后，她听到广播说车要去咧嘴谷，但突然发现车被劫持了。\n",
      "The story takes place in a small town, and Alanna and the small pot are good friends. They worked on Alanna's carrier car and were ready to leave the town. Alanna made a lot of dishes. In order to keep the vegetables hot, she knocked the bowl to remind them of slowly cold. They talked a lot about food, and then heard strange voices. They found that a stranger was knocking on the door, and they decided to see it. On the road, the small pot accidentally hit a person, but fortunately it was not injured. They came to a department store, and Alanna wanted to buy a sand beast, and the small pot lid wanted to sell something. The department store owner agrees to help them, but they need to find a specific model of safety valve. However, they did not find the right valve, and they decided to continue to find. At the end of the story, they decided to divide the labor and continue to work hard to find the required items. \n",
      "\n",
      " In the dialogue, the small pot lid wanted to find something and asked the department store owner to help watch the cart. The department store owner asked whether Alanna still needed to buy other things. Silent customers did not answer. Some disputes occurred between Alanna and Xiao Charlie, and they discussed Alanna's problem of taking care of their children. Alanna explained why she took care of the child and threatened to kick the ball on Xiao Charlie's face. They continued to discuss whether Alanna would return, and finally decided to talk again tomorrow. The small pot lid went to buy things. After returning, she found that Alanna had completed her job and played with her uncle. Alanna explained why she could do her job so quickly. They discussed the remaining work and tomorrow's itinerary. The small pot lid proposed to help the \"Discover Report\" so that Alanna could talk to her friends for a while. In the end, the small pot lid met with a shrinking passenger who discussed the time and waiting for the person. The small pot finally decided to help passengers waiting. \n",
      "\n",
      " In this dialogue, the small pot lid is waiting to enter the office to submit files, but the time is very urgent. She chatted with a woman named Lei Li, and women complained that too many people had a low efficiency. The small pot lid was worried that the document was too late, but the woman said she could hand it over. The small pot lid hesitated, but eventually handed the documents to women. After that, the small pot lid caught the car, but she was still a little uneasy. In the end, she heard the broadcast saying that the car was going to grine, but suddenly found that the car was hijacked.\n",
      "这段对话发生在一个运载车上，阿兰娜是驾驶员，而劫车人是乘客。阿兰娜开始感叹自己只是一团风滚草，而劫车人则对她保持沉默。他们之间发生了一些争执，但最终达成了一种妥协。在车上的其他乘客也参与了对话，讨论了劫车人的动机和车上的安全问题。随后，运载车遇到了拥堵，阿兰娜希望能够利用这个机会夺回控制权。然而，劫车人提醒她车外的情况可能不太妙，有可能是在躲避天灾或其他危险。最后，运载车被拦下进行例行检查，阿兰娜试图反抗，但最终还是下了车。\n",
      "\n",
      "阿兰娜和劫车人被安保人员拦下，被要求下车接受调查。阿兰娜试图为乘客辩护，但安保人员态度强硬。阿兰娜注意到车上有两个隐藏的人，但她没有透露。安保人员要求检测设备响了的人下车，但突然被弩箭射击打断。劫车人趁机解救了小锅盖，并与阿兰娜一起逃离。他们决定冲关逃跑，但车身受损，风和寒冷的空气进入车内。阿兰娜发现劫车人也是感染者，但她决定暂时放下身份的区别，大家一起劫车。他们决定前往咧嘴谷，但需要补给燃料。劫车人自称莱伊，他们一起决定去移动平台补给。\n",
      "\n",
      "阿兰娜和劫车人在讨论还车时要如何向公司交代。阿兰娜问劫车人叫什么名字，劫车人回答他们在矿场都叫他莱伊。阿兰娜建议称呼他为“劫车的”。阿兰娜好奇劫车人为什么要去咧嘴谷，猜测可能是因为那里有宝藏。劫车人回答他要去找一个巨大的阴影，它会散发光线并且会说话。阿兰娜对此感到惊讶。然后出现了一个鬼怪，阿兰娜惊恐地喊出声来。\n",
      "This conversation occurred on a carrier car. Alanna was a driver and the car robber was a passenger. Alanna began to lament that she was just a breeze, and the car robber kept silent to her. There were some disputes between them, but eventually reached a compromise. Other passengers on the car also participated in the dialogue and discussed the motivation of the car robber and the safety of the car. Subsequently, the carrier car encountered congestion, and Alanna hoped to use this opportunity to recapture control. However, the car robber reminded her that the situation outside the car may not be wonderful, and it may be to avoid natural disasters or other dangers. In the end, the carrier car was stopped for routine inspection. Alanna tried to resist, but eventually got out of the car. \n",
      "\n",
      " Alanna and the car robber were stopped by security officers and were asked to get out of the car for investigation. Alanna tried to defend passengers, but security officers were tough. Alana noticed that there were two hidden people on the car, but she did not disclose. The security personnel asked for the detection of the person who rang to get out of the car, but was suddenly interrupted by the crossbow. The car robber took the opportunity to rescue the small pot lid and fled with Alanna. They decided to escape, but the body was damaged, and the wind and cold air entered the car. Alanna found that the car robber was also a infected person, but she decided to temporarily let go of her identity, and everyone robbed the car together. They decided to go to the gowns, but they needed to supply fuel. The car robber claimed to be Ley, and they decided to go to the mobile platform to supply. \n",
      "\n",
      " Alanna and the car robber explained to the company when they discussed the car. Alanna asked what the car robber named, and the robbers answered that they called him Led in the mine. Alana suggested that he was called \"the car robbery.\" Alanna was curious why the car robber went to grin, guessing that it might be because there was a treasure there. The car robber answered that he was going to find a huge shadow, which would emit light and speak. Alanna was surprised by this. Then a ghost appeared, and Alanna shouted in horror.\n",
      "这段对话发生在一个运载车上，杰里和阿兰娜讨论是否要经过大风滩。杰里提到了大风滩的危险和可能导致车辆损坏的因素。阿兰娜不太在意，她认为他们只需要伪装成一辆普通的运货车就可以了。他们还讨论了保险和阿兰娜的过去经历。之后，他们遇到了一些穿制服的工作人员，但最终顺利通过了检查。\n",
      "\n",
      "在另一段对话中，杰里和莱伊讨论了他们的背景和目的地。最后，他们遇到了一个陌生的女性，她似乎对他们有所怀疑。\n",
      "\n",
      "在对话中，莱伊和穿制服的工作人员讨论了一些事情，包括笔录的作废和莱伊对于月度促销杂志的疑问。接着，Amiya和Savage姐姐谈论了雷姆必拓和Amiya的回忆。之后，Amiya和Savage姐姐来到了雷姆必拓，回忆起了童年的一些事情。接着，他们遇到了一些陌生人，一起逃离了追捕。最后，Amiya和陌生女性讨论了逃跑的计划。\n",
      "\n",
      "在这段对话中，莱伊告诉阿兰娜他无法拿武器，因为物资补给清单上列的东西太多。阿兰娜表示希望不再出事，因为检查站的事已经够难受的了。接着，杰里和一位陌生的女性谈论了逃婚和家庭的话题。杰里向陌生女性提出了一个关于保险的问题，希望她成为他购买保险的受益人。陌生女性同意了，并表示这种方式更符合她的想法。随后，他们继续谈论了家庭的经验和长辈的安排。最后，小锅盖突然消失了，阿兰娜怀疑她可能在动力室。\n",
      "This dialogue occurred on a carrier car, and Jerry and Alanna discussed whether to pass the wind beach. Jerry mentioned the risk of the Great Wind Beach and the factors that may cause vehicle damage. Alanna didn't care much, she thought they only needed to disguise it as an ordinary car truck. They also discussed the past experience of insurance and Alanna. After that, they encountered some workers wearing uniforms, but eventually passed the inspection. \n",
      "\n",
      " In another dialogue, Jerry and Lyi discussed their background and destination. In the end, they met a strange woman, and she seemed to have doubts about them. \n",
      "\n",
      " In the dialogue, Lai and the staff of wearing uniforms discussed some things, including the invalidation of the transcript and the question of Laiy's monthly promotional magazine. Then, AMIYA and Savage talked about the memories of Rambone and Amiya. After that, Amiya and Savage came to Ram Bituo, recalling some of their childhood things. Then, they met some strangers and fled together. Finally, Amiya and strange women discussed their plans to escape. \n",
      "\n",
      " In this dialogue, Ley told Alanna that he could not get weapons because there were too many things on the material supply list. Alanna expressed her hope that she would not happen again, because the inspection station was uncomfortable. Then, Jerry talked about the topic of escape and family with a strange woman. Jery proposed an insurance question to strange women, hoping that she would become the beneficiary of his purchase insurance. Strange women agreed and said that this method is more in line with her thoughts. Subsequently, they continued to talk about family experience and the arrangements of their elders. In the end, the small pot suddenly disappeared, and Alanna suspected that she might be in the power room.\n",
      "Amiya和Savage在雷姆必拓的荒野上旅行，遇到了一辆冒烟的运载车，车上有一位叫小锅盖的感染者。阿兰娜是小锅盖的照顾者，试图治疗小锅盖的矿石病，但方法无效。Amiya使用法术帮助小锅盖入睡，减轻她的痛苦。Amiya问Doctor是否还需要她的帮助，Doctor回答不需要。阿兰娜问小温米是否没问题了，Amiya回答潜意识的施术行为停止了，但还需要观察一段时间。阿兰娜感谢他们救了小温米，Amiya建议前往罗德岛办事处做更全面的检查。阿兰娜找到了名片上的标志，是挖掘机挖斗的标志。Amiya提到如果雷姆必拓的企业能提升对矿石病防护的意识，患者可能不会遇到危险。阿兰娜同意驾驶车前往移动城市。阿兰娜说车情况特殊，无法折返，Savage提到前面是无人区，阿兰娜说他们要去找巨兽。小锅盖问能不能跟着一起找巨兽，莱伊没有回答。Amiya说她听过巨兽的故事，Doctor回忆起以前讲过的童话故事。Savage问Doctor是否还醒着，Doctor说他在想起一些旧书里的故事。Savage向Doctor要过一个承诺，希望Doctor能对Amiya好。Savage问Doctor是否需要他的帮助，Doctor说有需要会告诉他。Savage提到Amiya一直在那边坐着，问Doctor是否认为她是潜在危险。\n",
      "Amiya and Savage traveled on the wilderness of Remuke, and met a smoky carrier, and there was a infected person called a small pot. Alanna is the caregiver of the small pot lid. She tried to treat the ore disease of the small pot lid, but the method was invalid. AMIYA uses spells to help the small pot to sleep to reduce her pain. Amiya asked DOCTOR if she still needed her help, doctor answered does not need. Alanna asked Xiaowenmi whether it was okay. AMIYA answered the surgical behavior of subconscious consciousness, but she still needed to observe for a while. Alanna thanked them for saving Xiaowenmi, and Amiya suggested to go to the Rhodes Island Office for a more comprehensive inspection. Alanna found the logo on the business card, which is the symbol of the excavator. AMIYA mentioned that if Romito's companies can improve their awareness of the protection of ore disease, patients may not encounter danger. Alana agreed to drive a car to the mobile city. Alanna said that the car was special and could not be returned. Savage mentioned that there was an uninhabited area before, and Alana said they were going to find a giant beast. The small pot lid asked if he could find a giant beast with him, and Roy did not answer. Amiya said that she had heard the story of a giant beast, and Doctor recalled the fairy tale story that had been talked about before. SAVAGE asked whether the Doctor was awake, and Doctor said he was thinking of some stories in some old books. Savage has a promise to DOCTOR, hoping that Doctor can be good for Amiya. SAVAGE asked DOCTOR if he needed his help, doctor said he would tell him if necessary. Savage mentioned that Amiya has been sitting there and asking if DOCTOR believes that she is potentially dangerous.\n",
      "莱伊每天早上去矿场工作，有一只沙地兽作为伴侣。矿井发生毒气泄漏和结构破坏，莱伊和沙地兽勇敢面对困难。他们发现了一个充满活着的沙地兽的地方，带来希望和勇气。莱伊误认了一个沙地兽，阿兰娜找到他们并询问原因。阿兰娜发现周围有很多沙地兽，询问Doctor是否能理解探测器的数据。Doctor建议快回到车上离开。阿兰娜意识到可能有天灾即将来临，但Amiya认为还来得及离开。他们决定尽快离开并行动。逃离过程中遇到困难，但最终成功逃离。莱伊注意到周围一切都被摧毁，阿兰娜抱怨他们跑得太慢。莱伊意识到自己可以成为他们的庇护所，并带领他们前进。他们找到庇护所，但莱伊被困在岩石中。最后，他们发现了一个巨兽，莱伊意识到这就是他一直在寻找的光。\n",
      "Lyi went to work every morning, and there was a sand beast as a partner. Poisonous gas leakage and structural destruction occurred in the mine, and Lai and the sand beast bravely faced difficulties. They found a place full of living sand beasts, bringing hope and courage. Led mistakenly recognized a sand beast, and Alan found them and asked the reason. Alanina found that there were many sand beasts around, asking whether DOCTOR could understand the data of the detector. Doctor recommends that he will return to the car and leave. Alanna realized that there may be natural disasters that are coming, but Amiya believes that they have time to leave. They decided to leave and act as soon as possible. During the escape, he encountered difficulties, but eventually escaped. Roy noticed that everything around was destroyed, and Alanna complained that they ran too slowly. Led realized that they could become their asylum and led them to move forward. They found the asylum, but Lai was trapped in the rock. In the end, they discovered a giant beast, and Roy realized that it was the light he had been looking for.\n",
      "阿兰娜和小锅盖讨论旅行经历和Doctor动机。阿兰娜提到被劫持的经历和对Doctor的好奇。杰里加入对话，询问是否找到莱伊所说的东西。阿兰娜解释没有找到，并描述莱伊的奇怪行为。继续讨论旅途中看到的事物。小锅盖和Savage姐讨论学习法杖进展，遇到阿兰娜和杰里，提到婚礼和小货车。决定等待阿兰娜一起去罗德岛。继续讨论法杖使用，遇到阿兰娜，带来生态箱作为礼物。Amiya和Doctor讨论咧嘴谷和莱伊所说的巨兽。遇到莱伊，表达感激并愿意加入罗德岛。莱伊喜欢罗德岛的身份牌，Amiya表示罗德岛可以成为她的家。莱伊问为什么向往亮光，回忆在咧嘴谷遇到巨兽和亮光的经历。Amiya看见罗德岛被挖掘出来的景象，描述罗德岛的行进和希望。问莱伊是通过谁的眼睛看到这一切的，莱伊回答是自己的幻觉。Amiya说信任Doctor，并描述Doctor的愿望和罗德岛的定义。Amiya问Doctor是否相信她，并表示愿意努力。\n",
      "Alanna and small pots discuss travel experience and DOCTOR motivation. Alanna mentioned the hijacking experience and curiosity about DOCTOR. Jerry joined the dialogue and asked if he found what Lai said. Alanna explained that she could not be found and described Roy's strange behavior. Continue to discuss what you see during the journey. The small pot lid and Savage discussed the progress of the learning staff. When they met Alanna and Jerry, they mentioned weddings and vans. I decided to wait for Alanna to go to Rhode. Continue to discuss the use of the staff and meet Alanna, bringing an ecological box as a gift. Amiya and Doctor discussed the giant beasts that Riyi said. When I met Roy, I was grateful and willing to join Rhode. Riy likes Rhode's identity card, and Amiya said Rhode Island can become her home. Lyi asked why he yearn for Liangguang, and recalled his experience of meeting the giant and light in the grievances. AMIYA saw the scene of Rhode Island's excavation, describing Rhode Island's travel and hope. Ask Lai's eyes to see it all through, Lyi answered his own illusion. Amiya said to trust DOCTOR and describes DOCTOR's wishes and the definition of Rhode. Amiya asked DOCTOR if she believed her and expressed her willingness to work.\n"
     ]
    }
   ],
   "source": [
    "copy_db(limit = \"TG-\")"
   ]
  },
  {
   "cell_type": "code",
   "execution_count": 10,
   "id": "063a1eca-2265-4e9d-a353-3f835e0420bb",
   "metadata": {
    "collapsed": true,
    "jupyter": {
     "outputs_hidden": true
    }
   },
   "outputs": [
    {
     "name": "stdout",
     "output_type": "stream",
     "text": [
      "故事发生在一个小镇上，阿兰娜和小锅盖是好朋友。他们一起在阿兰娜的运载车上工作，准备离开这个小镇。阿兰娜做了很多菜，为了让菜保持热，她敲碗提醒它们慢慢变凉。他们聊了很多关于食物的话题，然后听到了奇怪的声音。他们发现是一个陌生人在敲门，他们决定去看看。在路上，小锅盖不小心推车撞到了一个人，但幸运的是没有受伤。他们来到了一个百货店，阿兰娜想买一只沙地兽，而小锅盖想卖掉一些东西。百货店老板同意帮助他们，但他们需要找到特定型号的安全阀。然而，他们没有找到合适的阀门，他们决定继续寻找。故事结束时，他们决定分工，继续努力寻找所需的物品。\n",
      "\n",
      "在对话中，小锅盖想要找到一些东西，请求百货店老板帮忙看着推车。百货店老板询问阿兰娜是否还需要购买其他东西。沉默寡言的顾客没有回答。阿兰娜和小查理之间发生了一些争执，他们讨论了阿兰娜照顾小孩的问题。阿兰娜解释了她为什么要照顾小孩，并威胁要把球踢到小查理的脸上。他们继续讨论阿兰娜是否会回来，最后决定明天再谈。小锅盖去买东西，回来后发现阿兰娜已经完成了工作，并和叔叔们打球。阿兰娜解释了她为什么能这么快完成工作。他们讨论了剩下的工作和明天的行程。小锅盖提议帮忙交《停运报告书》，以便阿兰娜能多和朋友们聊一会儿。最后，小锅盖遇到一个畏畏缩缩的乘客，他们讨论了乘车时间和等待的人。小锅盖最后决定帮助乘客等待的人。\n",
      "\n",
      "在这段对话中，小锅盖正在等待进入办公室提交文件，但是时间很紧迫。她和一位名叫雷厉风行的女性聊天，女性抱怨人太多，办事效率低下。小锅盖担心文件来不及交，但是女性表示可以帮她交。小锅盖犹豫不决，但最终还是把文件交给了女性。之后，小锅盖赶上了车，但她心里还有些不安。最后，她听到广播说车要去咧嘴谷，但突然发现车被劫持了。\n",
      "物語は小さな町で行われ、アラナと小さなポットは良い友達です。 彼らはアラナのキャリアカーに取り組み、町を出る準備ができていました。 アラナはたくさんの料理を作りました。野菜を熱く保つために、彼女はボウルをノックしてゆっくりと寒いことを思い出させました。 彼らは食べ物について多くのことを話し、それから奇妙な声を聞いた。 彼らは、見知らぬ人がドアをノックしていることを発見し、それを見ることにしました。 道路では、小さな鍋が誤って人を襲ったが、幸いなことに負傷しなかった。 彼らはデパートに来て、アラナは砂の獣を買いたかったので、小さな鍋のふたが何かを売りたいと思っていました。 デパートの所有者は彼らを助けることに同意しますが、安全バルブの特定のモデルを見つける必要があります。 しかし、彼らは適切なバルブを見つけることができず、見つけ続けることにしました。 物語の終わりに、彼らは労働を分割し、必要なアイテムを見つけるために一生懸命働き続けることにしました。 \n",
      "\n",
      " 対話では、小さなポットのふたが何かを見つけたいと思っていて、デパートの所有者にカートを見るのを手伝うように頼みました。 デパートの所有者は、アラナがまだ他のものを買う必要があるかどうか尋ねました。 静かな顧客は答えませんでした。 アラナとXiaoチャーリーの間でいくつかの紛争が発生し、彼らは子供たちの世話をするというアラナの問題について議論しました。 アラナは、なぜ彼女が子供の世話をしたのかを説明し、シャオ・チャーリーの顔にボールを蹴ると脅した。 彼らはアラナが戻ってくるかどうかについて議論し続け、最終的に明日また話すことにしました。 小さなポットのふたが物を買いに行きました。戻った後、彼女はアラナが仕事を完了し、叔父と遊んだことを発見しました。 アラナは、なぜ彼女が彼女の仕事を迅速に行うことができるのかを説明しました。 彼らは残りの作品と明日の旅程について議論しました。 アラナがしばらくの間彼女の友人と話すことができるように、「発見レポート」を支援することを提案しました。 最終的に、小さな鍋のふたは、時間について話し合い、その人を待っている縮小する乗客と会いました。 小さなポットはついに乗客が待つのを助けることにしました。 \n",
      "\n",
      " この対話では、小さなポットの蓋がファイルを送信するためにオフィスに入るのを待っていますが、時間は非常に緊急です。 彼女はレイリーという名前の女性とおしゃべりをし、女性はあまりにも多くの人々が効率が低いと不満を言いました。 小さな鍋のふたは、文書が遅すぎるのではないかと心配していましたが、女性はそれを引き渡すことができると言いました。 小さな鍋の蓋はためらいましたが、最終的には女性に文書を渡しました。 その後、小さな鍋のふたが車を捕まえましたが、彼女はまだ少し不安でした。 最終的に、彼女は車がグラインになると言っている放送を聞いたが、突然、車がハイジャックされていることを発見した。\n",
      "这段对话发生在一个运载车上，阿兰娜是驾驶员，而劫车人是乘客。阿兰娜开始感叹自己只是一团风滚草，而劫车人则对她保持沉默。他们之间发生了一些争执，但最终达成了一种妥协。在车上的其他乘客也参与了对话，讨论了劫车人的动机和车上的安全问题。随后，运载车遇到了拥堵，阿兰娜希望能够利用这个机会夺回控制权。然而，劫车人提醒她车外的情况可能不太妙，有可能是在躲避天灾或其他危险。最后，运载车被拦下进行例行检查，阿兰娜试图反抗，但最终还是下了车。\n",
      "\n",
      "阿兰娜和劫车人被安保人员拦下，被要求下车接受调查。阿兰娜试图为乘客辩护，但安保人员态度强硬。阿兰娜注意到车上有两个隐藏的人，但她没有透露。安保人员要求检测设备响了的人下车，但突然被弩箭射击打断。劫车人趁机解救了小锅盖，并与阿兰娜一起逃离。他们决定冲关逃跑，但车身受损，风和寒冷的空气进入车内。阿兰娜发现劫车人也是感染者，但她决定暂时放下身份的区别，大家一起劫车。他们决定前往咧嘴谷，但需要补给燃料。劫车人自称莱伊，他们一起决定去移动平台补给。\n",
      "\n",
      "阿兰娜和劫车人在讨论还车时要如何向公司交代。阿兰娜问劫车人叫什么名字，劫车人回答他们在矿场都叫他莱伊。阿兰娜建议称呼他为“劫车的”。阿兰娜好奇劫车人为什么要去咧嘴谷，猜测可能是因为那里有宝藏。劫车人回答他要去找一个巨大的阴影，它会散发光线并且会说话。阿兰娜对此感到惊讶。然后出现了一个鬼怪，阿兰娜惊恐地喊出声来。\n",
      "この会話はキャリア車で発生しました。アラナは運転手であり、車の強盗は乗客でした。 アラナは彼女がただのそよ風だと嘆き始め、車の強盗は彼女に沈黙を保った。 それらの間にいくつかの紛争がありましたが、最終的に妥協に達しました。 車の他の乗客も対話に参加し、車の強盗の動機と車の安全性について議論しました。 その後、キャリア車は混雑に遭遇し、アラナはこの機会を利用してコントロールを取り戻すことを望んでいました。 しかし、車の強盗は、車の外の状況は素晴らしいものではないかもしれないことを彼女に思い出させました、そしてそれは自然災害や他の危険を避けるためかもしれません。 最終的に、キャリア車は日常的な検査のために停止しました。アラナは抵抗しようとしましたが、最終的には車から降りました。 \n",
      "\n",
      " アラナと車の強盗は警備員に止められ、調査のために車から出るように求められました。 アラナは乗客を守ろうとしましたが、警備員は大変でした。 アラナは、車に隠された2人の人がいることに気づきましたが、彼女は明らかにしませんでした。 警備員は、車から降りるために鳴ったが、クロスボウによって突然中断された人の検出を求めました。 車の強盗は、小さな鍋のふたを救助する機会を得て、アラナと逃げました。 彼らは逃げることに決めましたが、体は損傷し、風と冷たい空気が車に入りました。 アラナは、車の強盗も感染した人であることを発見しましたが、彼女は一時的に自分の身元を手放すことにし、誰もが一緒に車を奪いました。 彼らはガウンに行くことを決めましたが、燃料を供給する必要がありました。 車の強盗はレイであると主張し、彼らは供給するためにモバイルプラットフォームに行くことにしました。 \n",
      "\n",
      " アラナと車の強盗は、彼らが車について議論したときに会社に説明しました。 アラナは車の強盗が何を名前にしたのか尋ね、強盗は彼が鉱山で彼を率いて電話したと答えた。 アラナは、彼が「車の強盗」と呼ばれていると示唆した。 アラナは、なぜ車の強盗が笑ったのか興味があり、それはそこに宝物があったからかもしれないと推測しました。 車の強盗は、彼が大きな影を見つけようとしていると答えました。 アラナはこれに驚いた。 それから幽霊が現れ、アラナは恐怖で叫んだ。\n",
      "这段对话发生在一个运载车上，杰里和阿兰娜讨论是否要经过大风滩。杰里提到了大风滩的危险和可能导致车辆损坏的因素。阿兰娜不太在意，她认为他们只需要伪装成一辆普通的运货车就可以了。他们还讨论了保险和阿兰娜的过去经历。之后，他们遇到了一些穿制服的工作人员，但最终顺利通过了检查。\n",
      "\n",
      "在另一段对话中，杰里和莱伊讨论了他们的背景和目的地。最后，他们遇到了一个陌生的女性，她似乎对他们有所怀疑。\n",
      "\n",
      "在对话中，莱伊和穿制服的工作人员讨论了一些事情，包括笔录的作废和莱伊对于月度促销杂志的疑问。接着，Amiya和Savage姐姐谈论了雷姆必拓和Amiya的回忆。之后，Amiya和Savage姐姐来到了雷姆必拓，回忆起了童年的一些事情。接着，他们遇到了一些陌生人，一起逃离了追捕。最后，Amiya和陌生女性讨论了逃跑的计划。\n",
      "\n",
      "在这段对话中，莱伊告诉阿兰娜他无法拿武器，因为物资补给清单上列的东西太多。阿兰娜表示希望不再出事，因为检查站的事已经够难受的了。接着，杰里和一位陌生的女性谈论了逃婚和家庭的话题。杰里向陌生女性提出了一个关于保险的问题，希望她成为他购买保险的受益人。陌生女性同意了，并表示这种方式更符合她的想法。随后，他们继续谈论了家庭的经验和长辈的安排。最后，小锅盖突然消失了，阿兰娜怀疑她可能在动力室。\n",
      "この対話はキャリア車で発生し、ジェリーとアラナはウィンドビーチを通過するかどうかを議論しました。 ジェリーは、グレートウィンドビーチのリスクと車両の損傷を引き起こす可能性のある要因に言及しました。 アラナはあまり気にしませんでした、彼女はそれを普通の自動車トラックに変装するだけであると思った。 彼らはまた、保険とアラナの過去の経験について議論しました。 その後、彼らは制服を着ている労働者に出会いましたが、最終的に検査に合格しました。 \n",
      "\n",
      " 別の対話で、ジェリーとLYIは彼らの背景と目的地について議論しました。 最終的に、彼らは奇妙な女性に会いました、そして、彼女は彼らについて疑問を持っているようでした。 \n",
      "\n",
      " 対話の中で、LAIと制服を着たスタッフは、トランスクリプトの無効化やLaiyの毎月のプロモーション雑誌の問題など、いくつかのことを議論しました。 その後、amiyaとSavageはRamboneとAmiyaの思い出について話しました。 その後、アミヤとサベージはラム・ビトーに来て、彼らの子供時代のことを思い出しました。 それから、彼らは何人かの見知らぬ人に会い、一緒に逃げました。 最後に、アミヤと奇妙な女性は逃げる計画について議論しました。 \n",
      "\n",
      " この対話の中で、レイはアラナに、材料供給リストにあまりにも多くのものがあったので武器を手に入れることができないと語った。 アラナは、検査場が不快だったので、彼女が二度と起こらないだろうという希望を表明しました。 その後、ジェリーは奇妙な女性と脱出と家族のトピックについて話しました。 ジェリーは、彼女が彼の購入保険の受益者になることを望んで、奇妙な女性に保険の質問を提案しました。 奇妙な女性は同意し、この方法は彼女の考えにもっと沿っていると言いました。 その後、彼らは家族の経験と長老たちの取り決めについて話し続けました。 最終的に、小さな鍋が突然消え、アラナは彼女がパワールームにいるのではないかと疑った。\n",
      "Amiya和Savage在雷姆必拓的荒野上旅行，遇到了一辆冒烟的运载车，车上有一位叫小锅盖的感染者。阿兰娜是小锅盖的照顾者，试图治疗小锅盖的矿石病，但方法无效。Amiya使用法术帮助小锅盖入睡，减轻她的痛苦。Amiya问Doctor是否还需要她的帮助，Doctor回答不需要。阿兰娜问小温米是否没问题了，Amiya回答潜意识的施术行为停止了，但还需要观察一段时间。阿兰娜感谢他们救了小温米，Amiya建议前往罗德岛办事处做更全面的检查。阿兰娜找到了名片上的标志，是挖掘机挖斗的标志。Amiya提到如果雷姆必拓的企业能提升对矿石病防护的意识，患者可能不会遇到危险。阿兰娜同意驾驶车前往移动城市。阿兰娜说车情况特殊，无法折返，Savage提到前面是无人区，阿兰娜说他们要去找巨兽。小锅盖问能不能跟着一起找巨兽，莱伊没有回答。Amiya说她听过巨兽的故事，Doctor回忆起以前讲过的童话故事。Savage问Doctor是否还醒着，Doctor说他在想起一些旧书里的故事。Savage向Doctor要过一个承诺，希望Doctor能对Amiya好。Savage问Doctor是否需要他的帮助，Doctor说有需要会告诉他。Savage提到Amiya一直在那边坐着，问Doctor是否认为她是潜在危险。\n",
      "amiyaとSavageはRemukeの荒野を旅し、煙のようなキャリアに会いました。 アラナは小さな鍋の蓋の介護者です。彼女は小さな鍋の蓋の鉱石病を治療しようとしましたが、この方法は無効でした。 amiyaは呪文を使用して、小さな鍋が眠りにつくために痛みを軽減します。 amiyaは医師に彼女の助けが必要かどうか尋ねた、と医師は答えたと答えた。 アラナはXiaowenmiにそれが大丈夫かどうか尋ねました。Amiyaは潜在意識の外科的行動に答えましたが、彼女はまだしばらく観察する必要がありました。 アラナはXiaowenmiを救ってくれたことに感謝し、Amiyaはより包括的な検査のためにロードス島のオフィスに行くことを提案しました。 アラナは、掘削機のシンボルである名刺にロゴを見つけました。 Amiyaは、ロミートの企業が鉱石病の保護に対する認識を向上させることができれば、患者は危険に遭遇しない可能性があると述べました。 アラナは車をモバイルシティに運転することに同意しました。 アラナは、この車は特別であり、返還できないと言った。サベージは以前に無人エリアがあったと述べ、アラナは巨大な獣を見つけるつもりだと言った。 小さな鍋のふたは、彼が彼と一緒に巨大な獣を見つけることができるかどうか尋ねました、そして、ロイは答えませんでした。 アミヤは、巨大な獣の物語を聞いたことがあると言い、医師は以前に話されていたおとぎ話の物語を思い出しました。 サベージは医者が目を覚ましているかどうか尋ね、医師は彼がいくつかの古い本でいくつかの物語を考えていると言いました。 サベージは医師に約束があり、医師がamiyaに良いことを望んでいます。 サベージは医師に彼の助けが必要かどうか尋ねた、医師は彼が必要に応じて彼に話すと言った。 サベージは、アミヤがそこに座って、医者が彼女が潜在的に危険であると信じているかどうか尋ねてきたと述べました。\n",
      "莱伊每天早上去矿场工作，有一只沙地兽作为伴侣。矿井发生毒气泄漏和结构破坏，莱伊和沙地兽勇敢面对困难。他们发现了一个充满活着的沙地兽的地方，带来希望和勇气。莱伊误认了一个沙地兽，阿兰娜找到他们并询问原因。阿兰娜发现周围有很多沙地兽，询问Doctor是否能理解探测器的数据。Doctor建议快回到车上离开。阿兰娜意识到可能有天灾即将来临，但Amiya认为还来得及离开。他们决定尽快离开并行动。逃离过程中遇到困难，但最终成功逃离。莱伊注意到周围一切都被摧毁，阿兰娜抱怨他们跑得太慢。莱伊意识到自己可以成为他们的庇护所，并带领他们前进。他们找到庇护所，但莱伊被困在岩石中。最后，他们发现了一个巨兽，莱伊意识到这就是他一直在寻找的光。\n",
      "Lyiは毎朝仕事に行きました、そして、パートナーとして砂の獣がいました。 鉱山では有毒ガスの漏れと構造的破壊が発生し、ライと砂の獣は勇敢に困難に直面しました。 彼らは生きている砂の獣でいっぱいの場所を見つけ、希望と勇気をもたらしました。 リードは誤って砂の獣を認識し、アランはそれらを見つけて理由を尋ねました。 アラニーナは、医師が検出器のデータを理解できるかどうかを尋ねる多くの砂の獣が周りにいることを発見しました。 医師は、彼が車に戻って去ることを勧めます。 アラナは、自然の災害が来るかもしれないことに気づきましたが、アミヤは彼らが去る時間があると信じています。 彼らはできるだけ早く去り、行動することにしました。 脱出中、彼は困難に遭遇しましたが、最終的に逃げました。 ロイは、周りのすべてが破壊されていることに気づき、アラナは彼らがあまりにもゆっくりと走っていると不満を言いました。 リードは、彼らが彼らの亡命になる可能性があることに気づき、彼らを前進させるように導いた。 彼らは亡命を見つけましたが、ライは岩に閉じ込められていました。 結局、彼らは巨大な獣を発見し、ロイはそれが彼が探していた光であることに気づきました。\n",
      "阿兰娜和小锅盖讨论旅行经历和Doctor动机。阿兰娜提到被劫持的经历和对Doctor的好奇。杰里加入对话，询问是否找到莱伊所说的东西。阿兰娜解释没有找到，并描述莱伊的奇怪行为。继续讨论旅途中看到的事物。小锅盖和Savage姐讨论学习法杖进展，遇到阿兰娜和杰里，提到婚礼和小货车。决定等待阿兰娜一起去罗德岛。继续讨论法杖使用，遇到阿兰娜，带来生态箱作为礼物。Amiya和Doctor讨论咧嘴谷和莱伊所说的巨兽。遇到莱伊，表达感激并愿意加入罗德岛。莱伊喜欢罗德岛的身份牌，Amiya表示罗德岛可以成为她的家。莱伊问为什么向往亮光，回忆在咧嘴谷遇到巨兽和亮光的经历。Amiya看见罗德岛被挖掘出来的景象，描述罗德岛的行进和希望。问莱伊是通过谁的眼睛看到这一切的，莱伊回答是自己的幻觉。Amiya说信任Doctor，并描述Doctor的愿望和罗德岛的定义。Amiya问Doctor是否相信她，并表示愿意努力。\n",
      "アラナと小さなポットは、旅行の経験と医師の動機について議論しています。 アラナは、医師についてのハイジャックの経験と好奇心について言及しました。 ジェリーは対話に参加し、ライが言ったことを見つけたかどうか尋ねました。 アラナは、彼女が見つからないと説明し、ロイの奇妙な行動を説明した。 旅行中に見えるものについて話し合い続けてください。 小さな鍋のふたとサベージは、学習スタッフの進歩について議論しました。彼らがアラナとジェリーに会ったとき、彼らは結婚式とバンに言及しました。 私はアラナがロードに行くのを待つことにしました。 スタッフの使用について話し合い続け、アラナに会い、贈り物として生態学的な箱を持ってきてください。 amiyaと医師は、Riyiが言った巨大な獣について議論しました。 ロイに会ったとき、私はロードに感謝し、喜んで参加しました。 RiyはRhodeの身分証明書が好きで、Amiyaはロードアイランドが彼女の家になることができると言いました。 Lyiは、なぜ彼がLiangguangに憧れているのかと尋ね、不満の中で巨人と光に会った経験を思い出しました。 アミヤはロードアイランドの発掘シーンを見て、ロードアイランドの旅行と希望を説明しています。 Laiの目にそれを見てもらい、Lyiは彼自身の幻想に答えました。 amiyaは医師を信頼すると言って、医師の希望とロードの定義について説明しています。 amiyaは医師に彼女が彼女を信じているかどうか尋ね、仕事をする意欲を表明した。\n"
     ]
    }
   ],
   "source": [
    "copy_db(limit = \"TG-\", target = './jpdb', to_language = 'ja')"
   ]
  },
  {
   "cell_type": "code",
   "execution_count": 98,
   "id": "f1774f99-e5f2-4920-a760-5f7a66edaae1",
   "metadata": {},
   "outputs": [
    {
     "data": {
      "text/plain": [
       "'Ling Bo stepped slightly, and Luo socks were dusty.'"
      ]
     },
     "execution_count": 98,
     "metadata": {},
     "output_type": "execute_result"
    }
   ],
   "source": [
    "ts.translate_text(\"凌波微步，罗袜生尘。\", translator=\"bing\",from_langugage=\"zh\",to_language=\"en\")"
   ]
  },
  {
   "cell_type": "code",
   "execution_count": null,
   "id": "999a4324-3df4-4466-abb7-416f0406d437",
   "metadata": {},
   "outputs": [],
   "source": []
  }
 ],
 "metadata": {
  "kernelspec": {
   "display_name": "Python 3 (ipykernel)",
   "language": "python",
   "name": "python3"
  },
  "language_info": {
   "codemirror_mode": {
    "name": "ipython",
    "version": 3
   },
   "file_extension": ".py",
   "mimetype": "text/x-python",
   "name": "python",
   "nbconvert_exporter": "python",
   "pygments_lexer": "ipython3",
   "version": "3.11.5"
  }
 },
 "nbformat": 4,
 "nbformat_minor": 5
}
