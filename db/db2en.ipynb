{
 "cells": [
  {
   "cell_type": "code",
   "execution_count": 7,
   "id": "f4c20c04-46fa-490b-91ed-76f35fa9133e",
   "metadata": {},
   "outputs": [],
   "source": [
    "#this converts the CN database to EN\n",
    "import translators as ts\n",
    "import time\n",
    "import configparser, os\n",
    "config = configparser.ConfigParser()\n",
    "config.read('./keys.ini')\n",
    "openai_api_key = config['OPENAI']['OPENAI_API_KEY']\n",
    "os.environ['OPENAI_API_KEY'] = openai_api_key"
   ]
  },
  {
   "cell_type": "code",
   "execution_count": 8,
   "id": "75d2f0e1-c3ec-4538-8596-5092f1d2488c",
   "metadata": {},
   "outputs": [
    {
     "data": {
      "text/plain": [
       "'C:\\\\Users\\\\shiha\\\\PRTS\\\\db'"
      ]
     },
     "execution_count": 8,
     "metadata": {},
     "output_type": "execute_result"
    }
   ],
   "source": [
    "import os\n",
    "os.getcwd()"
   ]
  },
  {
   "cell_type": "code",
   "execution_count": 9,
   "id": "a6279776-24ef-4948-a60b-2e25f9682b66",
   "metadata": {},
   "outputs": [],
   "source": [
    "#read the character json and output the dictionary for translation\n",
    "def json2dict(file = \"chars.json\"):\n",
    "    import json, time\n",
    "    dict = {}\n",
    "    # Opening JSON file\n",
    "    with open(file, encoding=\"utf-8\") as f:\n",
    "        char_list = json.load(f)\n",
    "    for l in char_list:\n",
    "        nameEN = l[\"nameEN\"];\n",
    "        nameCN = l[\"nameCN\"];\n",
    "        #don't replace name with only 1 character\n",
    "        if (nameCN != None) & (nameEN != None):\n",
    "            if len(nameCN)>1:\n",
    "                dict[nameCN]=nameEN\n",
    "    dict[\"明日方舟\"] = \"Arknights\";\n",
    "    return(dict);\n",
    "\n",
    "#replace every instance in the source by dict\n",
    "def multipleReplace(text, wordDict):\n",
    "    for key in wordDict:\n",
    "        text = text.replace(key, wordDict[key])\n",
    "    return text\n"
   ]
  },
  {
   "cell_type": "code",
   "execution_count": 10,
   "id": "abf6eeeb-1dab-42bd-9b38-6ba2cbc86e04",
   "metadata": {},
   "outputs": [],
   "source": [
    "#translate content to english and copy\n",
    "def copy_db(original = \"./cndb\", target = \"./arkdb\", limit = \"\"):\n",
    "    from langchain.embeddings import OpenAIEmbeddings\n",
    "    from langchain.vectorstores import Chroma\n",
    "    from langchain.docstore.document import Document\n",
    "    db = Chroma(persist_directory=original, embedding_function=OpenAIEmbeddings())\n",
    "    db2 = Chroma(persist_directory=target, embedding_function=OpenAIEmbeddings())\n",
    "    data = db.get()\n",
    "    tmp = []\n",
    "    for k in range(len(data[\"ids\"])):\n",
    "        if limit in data[\"metadatas\"][k][\"stage\"]:\n",
    "            id = data[\"ids\"][k];\n",
    "            meta = data[\"metadatas\"][k];\n",
    "            story = data[\"documents\"][k];\n",
    "            dict1 = json2dict(file = \"chars.json\");\n",
    "            dict2 = json2dict(file = \"npc110123.json\");\n",
    "            dict = dict1 | dict2;\n",
    "            story = multipleReplace(text = story, wordDict = dict)\n",
    "            story_en = ts.translate_text(story, translator=\"google\",from_langugage=\"zh\",to_language=\"en\")\n",
    "            output_doc = Document(page_content=story_en, metadata=meta);\n",
    "            print(story); print(story_en);\n",
    "            db2.add_documents([output_doc], ids = [id])\n",
    "            time.sleep(16)"
   ]
  },
  {
   "cell_type": "code",
   "execution_count": 11,
   "id": "a43964d1-9946-4e8d-89b8-d9886ceccfd6",
   "metadata": {},
   "outputs": [
    {
     "name": "stdout",
     "output_type": "stream",
     "text": [
      "故事的第一部分发生在一个帐篷内，有两个人物在对话。他们讨论了一个感染者武装力量的小事，以及一个可能是德拉克的幸存者的身份。Eblana提到她的妹妹即将回到她身边。然后，他们得知有目标出现在沼泽地，于是Eblana决定亲自去处理。\n",
      "\n",
      "第二部分发生在沼泽地，Talulah和一个疲惫的感染者在一起。他们讨论了沼泽地的困难和感染者的困境。Talulah提到她不希望再有人因为她而受伤。突然，一团死亡的烈火从沼泽深处燃起，包围了他们。整合运动的成员们惊慌失措，但Talulah冷静地面对。然后，一位德拉克感染者出现并帮助他们。\n",
      "\n",
      "第三部分发生在火焰中，Eblana试图说服Talulah加入她的一方。她提到Talulah是维多利亚王座的合法继承人，但Talulah拒绝了她的提议。他们之间的对话充满了愤怒和冲突。\n",
      "\n",
      "第四部分发生在火焰中，Talulah指责Eblana是一个虚伪的暴君，她不相信Eblana的意图。Eblana试图说服Talulah加入她的一方，但Talulah坚决拒绝。九也加入了对话，表示他们会杀死Eblana。最后，Eblana提到她和Talulah的终点都在她身上，无论Talulah是否接受她的提议。\n",
      "\n",
      "Eblana和Talulah在对话，Eblana希望他们停止发展事态，但Talulah的愤怒和反抗仍然指向Eblana。\n",
      "\n",
      "陈和感染者们在洞穴里对话，陈帮助他们生火并提供帮助，感染者们对陈表示感谢并询问他是否需要帮助。\n",
      "\n",
      "维多利亚士兵们在讨论战局，他们提到了整合运动和Talulah，并讨论了战争的严峻性。\n",
      "\n",
      "Bagpipe和受伤的士兵在对话，Bagpipe提到了典范军和Talulah，并表达了对战争的担忧。\n",
      "\n",
      "Duke of Caster和高多汀公爵在对话，他们讨论了战局和Duke of Wellington的参与，高多汀公爵对Duke of Wellington的能力表示怀疑，Duke of Caster则表示信任。\n",
      "\n",
      "这是一组文档，描述了一系列对话和场景。故事的背景是在一个名为伦蒂尼姆的城市中，发生了一系列的事件。Duke of Caster和高多汀公爵之间的对话揭示了他们对老威灵顿的看法和回忆。另一组对话是可露希尔和自救军战士之间的通讯，他们讨论了伦蒂尼姆的情况和需要援助的请求。接下来是两个佣兵之间的对话，他们讨论了伦蒂尼姆的归属和奇怪的声音。然后是Theresa和曼弗Red (NPC)之间的对话，他们谈论了卡兹戴尔和萨卡兹的阴云。Theresa表达了对未来的担忧和希望。整个故事充满了紧张和不确定性，展示了角色们面对困境时的思考和反应。\n",
      "The first part of the story occurred in a tent, and two characters were talking. They discussed a trivial matter of armed forces in the infected person and a survivor of Draque. Eblana mentioned that her sister was about to return to her. Then they learned that there was a goal in the swamp, so eblana decided to deal with it in person. \n",
      "\n",
      " The second part happened in the swamp, Talulah was together with a tired infected person. They discussed the difficulties of the swamp and the dilemma of infected people. Talulah mentioned that she didn't want someone to be injured because of her. Suddenly, a fire of death ignited from the depths of the swamp and surrounded them. The members of the integrated movement were panicked, but Talulah faced calmly. A Draque infected man then appeared and helped them. \n",
      "\n",
      " The third part happened in the flame, and eblana tried to convince Talulah to join her. She mentioned that Talulah was the legal heir of the Victorian throne, but Talulah rejected her proposal. The conversation between them is full of anger and conflict. \n",
      "\n",
      " The fourth part happened in the flame. Talulah accused eblana of being a hypocritical tyrant. She did not believe in Eblana's intention. Eblana tried to convince Talulah to join her, but Talulah resolutely refused. Nine also joined the dialogue, saying that they would kill eblana. In the end, eblana mentioned that her and Talulah's end point was on her, whether Talulah accepted her proposal. \n",
      "\n",
      " Eblana and Talulah are in a dialogue. Eblana hopes that they will stop the development, but Talulah's anger and resistance still point to Eblana. \n",
      "\n",
      " Chen He's infected people talked in the cave, and Chen helped them fire and help. The infected people thanked Chen and asked him if he needed help. \n",
      "\n",
      " Victorian soldiers are discussing the war situation. They mentioned the integration movement and TALALH, and discussed the severe nature of the war. \n",
      "\n",
      " Bagpipe and the injured soldiers were talking, Bagpipe mentioned the models of the Fan Fan and Talulah, and expressed concerns about the war. \n",
      "\n",
      " Duke of Caster and Duke of Gauthin were talking. They discussed the participation of the war situation and Duke of Wellington. Duke of Duke of Gauotin doubted Duke of Wellington's ability, while Duke of Caster expressed trust. \n",
      "\n",
      " This is a set of documents, describing a series of dialogue and scenes. The background of the story is a series of incidents in a city called Lenteim. The dialogue between Duke of Caster and Duke of Gauogo revealed their views and memories of Old Wellington. Another group of dialogue is the communication between Kelhir and the Self -Rescue Army soldiers. They discussed the situation and requests for the situation and required for assistance. Next is a conversation between the two mercenaries, and they discuss the ownership and strange sound of Lenteim. Then there was a conversation between TheResa and Manfu Red (NPC), and they talked about the clouds of Kazdell and Sakaz. Theresa expressed concerns and hope for the future. The whole story is full of tension and uncertainty, showing the characters' thinking and reactions when facing the dilemma.\n"
     ]
    }
   ],
   "source": [
    "copy_db(limit = \"13-22\")"
   ]
  },
  {
   "cell_type": "code",
   "execution_count": 98,
   "id": "f1774f99-e5f2-4920-a760-5f7a66edaae1",
   "metadata": {},
   "outputs": [
    {
     "data": {
      "text/plain": [
       "'Ling Bo stepped slightly, and Luo socks were dusty.'"
      ]
     },
     "execution_count": 98,
     "metadata": {},
     "output_type": "execute_result"
    }
   ],
   "source": [
    "ts.translate_text(\"凌波微步，罗袜生尘。\", translator=\"bing\",from_langugage=\"zh\",to_language=\"en\")"
   ]
  },
  {
   "cell_type": "code",
   "execution_count": null,
   "id": "999a4324-3df4-4466-abb7-416f0406d437",
   "metadata": {},
   "outputs": [],
   "source": []
  }
 ],
 "metadata": {
  "kernelspec": {
   "display_name": "Python 3 (ipykernel)",
   "language": "python",
   "name": "python3"
  },
  "language_info": {
   "codemirror_mode": {
    "name": "ipython",
    "version": 3
   },
   "file_extension": ".py",
   "mimetype": "text/x-python",
   "name": "python",
   "nbconvert_exporter": "python",
   "pygments_lexer": "ipython3",
   "version": "3.11.5"
  }
 },
 "nbformat": 4,
 "nbformat_minor": 5
}
