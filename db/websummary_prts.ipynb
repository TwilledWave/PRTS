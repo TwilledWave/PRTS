{
 "cells": [
  {
   "cell_type": "code",
   "execution_count": 1,
   "id": "ea5767a8-2b30-417c-bd8e-c83fd1b31270",
   "metadata": {},
   "outputs": [],
   "source": [
    "#this script summarizes the webpage from URL; writes its page content, meta data into a vector db\n",
    "\n",
    "from langchain.tools import Tool\n",
    "from langchain.utilities import GoogleSearchAPIWrapper\n",
    "from langchain.chat_models import ChatOpenAI\n",
    "\n",
    "\n",
    "import configparser, os, re\n",
    "config = configparser.ConfigParser()\n",
    "config.read('./keys.ini')\n",
    "os.environ['GOOGLE_API_KEY'] = config['GOOGLE']['GOOGLE_API_KEY']\n",
    "os.environ['GOOGLE_CSE_ID'] = config['GOOGLE']['GOOGLE_CSE_ID']\n",
    "openai_api_key = config['OPENAI']['OPENAI_API_KEY']\n",
    "os.environ['OPENAI_API_KEY'] = openai_api_key\n",
    "\n",
    "from langchain.document_loaders import WebBaseLoader\n",
    "from langchain.text_splitter import RecursiveCharacterTextSplitter\n",
    "\n",
    "#web loader and split\n",
    "def web_loader_docs(link:str):\n",
    "    #input: link of the web page url\n",
    "    #web loader\n",
    "    loader = WebBaseLoader(link)\n",
    "    docs = loader.load()\n",
    "    #splitter\n",
    "    #text_splitter = RecursiveCharacterTextSplitter(chunk_size = 25000, chunk_overlap = 500)\n",
    "    #docs = text_splitter.split_documents(docs)\n",
    "    return docs\n",
    "\n",
    "\n",
    "#story summary chain\n",
    "from langchain.chains.llm import LLMChain\n",
    "from langchain.prompts import PromptTemplate\n",
    "from langchain.chains.combine_documents.stuff import StuffDocumentsChain\n",
    "from langchain.chains.mapreduce import MapReduceChain\n",
    "from langchain.chains import ReduceDocumentsChain, MapReduceDocumentsChain\n",
    "#summary the story dialogue from main page content of the URL\n",
    "def story_summary(docs):\n",
    "    #input: docs of the web page\n",
    "    # Define LLM chain\n",
    "    llm = ChatOpenAI(temperature=0, model_name=\"gpt-3.5-turbo-16k\")\n",
    "    # Map\n",
    "    map_template = \"\"\"Summarize the dialogue in the docs.\n",
    "        {docs}\n",
    "        只输出中文。只输出总结，不需要评论故事。\n",
    "        输出:\"\"\"\n",
    "    map_prompt = PromptTemplate.from_template(map_template)\n",
    "    map_chain = LLMChain(llm=llm, prompt=map_prompt)\n",
    "    \n",
    "    # Reduce\n",
    "    reduce_template = \"\"\"依次陈列这几段故事情节。\n",
    "        {doc_summaries}\n",
    "        只输出中文。只输出故事，不需要评论故事。不要输出重复片段!\n",
    "        输出:\"\"\"\n",
    "    reduce_prompt = PromptTemplate.from_template(reduce_template)\n",
    "    reduce_chain = LLMChain(llm=llm, prompt=reduce_prompt)\n",
    "    # Takes a list of documents, combines them into a single string, and passes this to an LLMChain\n",
    "    combine_documents_chain = StuffDocumentsChain(\n",
    "        llm_chain=reduce_chain, document_variable_name=\"doc_summaries\"\n",
    "    )\n",
    "    # Combines and iteravely reduces the mapped documents\n",
    "    reduce_documents_chain = ReduceDocumentsChain(\n",
    "        # This is final chain that is called.\n",
    "        combine_documents_chain=combine_documents_chain,\n",
    "        # If documents exceed context for `StuffDocumentsChain`\n",
    "        collapse_documents_chain=combine_documents_chain,\n",
    "        # The maximum number of tokens to group documents into.\n",
    "        token_max=6000,\n",
    "    )\n",
    "\n",
    "    # Combining documents by mapping a chain over them, then combining results\n",
    "    map_reduce_chain = MapReduceDocumentsChain(\n",
    "        # Map chain\n",
    "        llm_chain=map_chain,\n",
    "        # Reduce chain\n",
    "        reduce_documents_chain=reduce_documents_chain,\n",
    "        # The variable name in the llm_chain to put the documents in\n",
    "        document_variable_name=\"docs\",\n",
    "        # Return the results of the map steps in the output\n",
    "        return_intermediate_steps=False,\n",
    "    )\n",
    "    #return the summary from the map and reduce procedure\n",
    "    return map_reduce_chain.run(docs)\n",
    "\n",
    "#use one 1 chain to summary the story dialogue from main page content of the URL\n",
    "def story_summary_stuff(docs):\n",
    "    #input: docs of the web page\n",
    "\n",
    "    # Define prompt\n",
    "    prompt_template = \"\"\"Summarize the dialogue in the text。\n",
    "    \"{text}\"\n",
    "    只输出中文。只输出故事，不需要评论故事。不要输出重复片段!\n",
    "    输出:\"\"\"\n",
    "    prompt = PromptTemplate.from_template(prompt_template)\n",
    "\n",
    "    # Define LLM chain\n",
    "    llm = ChatOpenAI(temperature=0, model_name=\"gpt-3.5-turbo-16k\")\n",
    "    llm_chain = LLMChain(llm=llm, prompt=prompt)\n",
    "\n",
    "    # Define StuffDocumentsChain\n",
    "    stuff_chain = StuffDocumentsChain(\n",
    "        llm_chain=llm_chain, document_variable_name=\"text\"\n",
    "    )\n",
    "    \n",
    "    return stuff_chain.run(docs)\n",
    "\n",
    "#summarize a web page from scappy meta data\n",
    "def websummary_meta(meta:dict, overwrite = False, runlm = True):\n",
    "    #input: meta data dictionary of the target page\n",
    "    link = meta['source']\n",
    "    #meta['characters'] = ','.join(meta['characters'])\n",
    "    if (meta['stage'] == None):\n",
    "        meta['stage'] = \"\"\n",
    "    #load vector db for summary data\n",
    "    from langchain.embeddings import OpenAIEmbeddings\n",
    "    from langchain.vectorstores import Chroma\n",
    "    db = Chroma(persist_directory=\"./cndb\", embedding_function=OpenAIEmbeddings())\n",
    "    #get the db existing id set\n",
    "    tmp = db.get()['ids']\n",
    "    this_db_list = [x.split(\"_\")[0] for x in tmp]\n",
    "    this_db_set = set(this_db_list)\n",
    "    #check whether the hash link is in the db already\n",
    "    import hashlib\n",
    "    this_id = str(int(hashlib.sha1(link.encode(\"utf-8\")).hexdigest(), 16) % (10 ** 8))\n",
    "    if this_id in this_db_set:\n",
    "        if overwrite == False:\n",
    "            return(link+\" link already in the db, skip\");\n",
    "        else:\n",
    "            index = this_db_list.index(this_id)\n",
    "            story = db.get()['documents'][index]\n",
    "    \n",
    "    #load\n",
    "    docs_org = web_loader_docs(link)\n",
    "    text_splitter = RecursiveCharacterTextSplitter(chunk_size = 20000, chunk_overlap = 500)\n",
    "    docs = text_splitter.split_documents(docs_org)\n",
    "\n",
    "    #find CG page from the webpage\n",
    "    cg_link = get_cg(docs_org)\n",
    "    meta['cg'] = cg_link\n",
    "\n",
    "    #summarize the story\n",
    "    if runlm == True:\n",
    "        if len(docs) > 2:\n",
    "            story = story_summary(docs);\n",
    "        else:\n",
    "            story = story_summary_stuff(docs);\n",
    "    \n",
    "    #write to vector db\n",
    "    meta['indexed'] = True\n",
    "    from langchain.docstore.document import Document\n",
    "    output_doc = Document(page_content=story, metadata=meta);\n",
    "    db.add_documents([output_doc], ids = [this_id])\n",
    "    \n",
    "    # #load the database for original page text\n",
    "    # db2 = Chroma(persist_directory=\"./arkpage\", embedding_function=OpenAIEmbeddings())\n",
    "    # text_splitter = RecursiveCharacterTextSplitter(chunk_size = 5000, chunk_overlap = 0)\n",
    "    # docs2 = text_splitter.split_documents(docs_org)\n",
    "    # this_list =[this_id + \"_\" + \"{0:0=4d}\".format(x) for x in range(len(docs2))]\n",
    "    # output_docs2 =[Document(page_content=docs2[x].page_content, metadata=meta) for x in range(len(docs2))]\n",
    "    # db2.add_documents(output_docs2, ids = this_list)\n",
    "    \n",
    "    return(output_doc)\n",
    "\n",
    "#return CG link from the story\n",
    "def get_cg(docs):\n",
    "    #get the page link from dialogue\n",
    "    regex=r'(?<=\\[Image\\(image=\\\")[\\w_]+'\n",
    "    pics = re.findall(regex, docs[0].page_content)\n",
    "    if len(pics)==0:\n",
    "        return(\"\");\n",
    "    link = \"https://prts.wiki/w/%E6%96%87%E4%BB%B6:Avg_\"+pics[0]+\".png\"\n",
    "    print(link)\n",
    "    #get the 640px pic from the pic link\n",
    "    from urllib.request import urlopen\n",
    "    try:\n",
    "        html_page = urlopen(link).read()\n",
    "    except:\n",
    "        return(\"\");\n",
    "    pics = re.findall(r'https://[\\w./-]+',str(html_page))\n",
    "    if len(pics)==0:\n",
    "        return(\"\");\n",
    "    if len(pics)>3:\n",
    "        if '640' in pics[2]:\n",
    "            return(pics[2]);\n",
    "    return(pics[0]);\n",
    "\n",
    "#main function, summarize a list of web pages from the scapy json\n",
    "def run_scapy(file = \"quotes.json\", limit = \"\", overwrite = False, runlm = True):\n",
    "    import json, time\n",
    "    # Opening JSON file\n",
    "    with open(file, encoding=\"utf-8\") as f:\n",
    "        scapy_list = json.load(f)\n",
    "\n",
    "    for l in range(len(scapy_list)):\n",
    "        if limit in scapy_list[l][\"stage\"]:\n",
    "            print(scapy_list[l])\n",
    "            print(websummary_meta(scapy_list[l], overwrite, runlm))\n",
    "            scapy_list[l]['indexed'] = True;\n",
    "            with open(file, \"w\", encoding=\"utf-8\") as outfile:\n",
    "                outfile.write(json.dumps(scapy_list))\n",
    "            time.sleep(1)\n"
   ]
  },
  {
   "cell_type": "code",
   "execution_count": 2,
   "id": "e51c7dd8-3de1-4805-96d4-512be4980506",
   "metadata": {
    "collapsed": true,
    "jupyter": {
     "outputs_hidden": true
    }
   },
   "outputs": [
    {
     "name": "stdout",
     "output_type": "stream",
     "text": [
      "{'source': 'https://prts.wiki/index.php?title=RS-ST-1_%E5%80%99%E8%BD%A6%E5%A4%A7%E5%8E%85/NBT&action=edit', 'indexed': False, 'stage': 'RS-ST-1 候车大厅'}\n",
      "https://prts.wiki/w/%E6%96%87%E4%BB%B6:Avg_45_i01_2.png\n"
     ]
    },
    {
     "name": "stderr",
     "output_type": "stream",
     "text": [
      "Retrying langchain.chat_models.openai.ChatOpenAI.completion_with_retry.<locals>._completion_with_retry in 4.0 seconds as it raised Timeout: Request timed out: HTTPSConnectionPool(host='api.openai.com', port=443): Read timed out. (read timeout=600).\n"
     ]
    },
    {
     "name": "stdout",
     "output_type": "stream",
     "text": [
      "page_content='在这段对话中，谢拉格的领导人恩希欧迪斯与维多利亚子爵讨论了耶拉冈德像的落成仪式。恩希欧迪斯表示希望一切顺利，而维多利亚子爵则表达了对谢拉格的喜爱和对合作的期望。然而，恩希欧迪斯也提到了一些隐忧，包括耶拉冈德像的脸是否符合古代记载以及与公爵的合作是否会顺利进行。最后，他们约定在两天后的仪式上再继续讨论。\\n\\n老练的士兵告诉哈洛德他要忙去了，让哈洛德应付那群老爷。哈洛德问他们是不是又喝酒不带上他了，然后问他们把奶酪锅放哪了。接着，烈夏在火车上休息，然后听到广播宣布即将到达谢拉格圣山脚下。她下车后看到了驮兽和牧民，对驮兽很感兴趣。然后她遇到了哈洛德，他告诉她他们都是来观光的，然后邀请她一起去看耶拉冈德像。烈夏接受了邀请，他们一起踏上观光之旅。' metadata={'source': 'https://prts.wiki/index.php?title=RS-ST-1_%E5%80%99%E8%BD%A6%E5%A4%A7%E5%8E%85/NBT&action=edit', 'indexed': True, 'stage': 'RS-ST-1 候车大厅', 'cg': 'https://prts.wiki/images/thumb/4/44/Avg_45_i01_2.png/640px-Avg_45_i01_2.png'}\n",
      "{'source': 'https://prts.wiki/index.php?title=RS-1_%E6%B3%A8%E6%84%8F%E4%BA%8B%E9%A1%B9/BEG&action=edit', 'indexed': False, 'stage': 'RS-1 注意事项 行动前'}\n",
      "page_content='这段对话是明日方舟游戏中的剧情对话，具体内容包括角色之间的对话和动作描述。对话中涉及到一些角色的名字和动作，以及一些背景音效和特效的描述。' metadata={'source': 'https://prts.wiki/index.php?title=RS-1_%E6%B3%A8%E6%84%8F%E4%BA%8B%E9%A1%B9/BEG&action=edit', 'indexed': True, 'stage': 'RS-1 注意事项 行动前', 'cg': ''}\n",
      "{'source': 'https://prts.wiki/index.php?title=RS-1_%E6%B3%A8%E6%84%8F%E4%BA%8B%E9%A1%B9/END&action=edit', 'indexed': False, 'stage': 'RS-1 注意事项 行动后'}\n",
      "https://prts.wiki/w/%E6%96%87%E4%BB%B6:Avg_45_i03.png\n",
      "page_content='故事中描述了烈夏和哈洛德在火车上的对话。他们谈论了烈夏在谢拉格出生的事情，以及她要去送一个盒子到山顶的任务。他们还讨论了烈夏可能去找她的父亲的事情。在故事的最后，一个神秘的人出现并询问有关逃走的羽兽的情况。' metadata={'source': 'https://prts.wiki/index.php?title=RS-1_%E6%B3%A8%E6%84%8F%E4%BA%8B%E9%A1%B9/END&action=edit', 'indexed': True, 'stage': 'RS-1 注意事项 行动后', 'cg': 'https://prts.wiki/images/thumb/b/b9/Avg_45_i03.png/640px-Avg_45_i03.png'}\n",
      "{'source': 'https://prts.wiki/index.php?title=RS-2_%E5%90%8C%E8%BD%A6%E5%BC%82%E5%9B%BE/BEG&action=edit', 'indexed': False, 'stage': 'RS-2 同车异图 行动前'}\n",
      "page_content='这段对话发生在明日方舟游戏中的剧情中。烈夏和哈洛德在火车上聊天，烈夏提到了喝了一种蜂蜜饮料后感觉很甜，但是对她来说只是一般般，她的朋友却喝醉了。哈洛德听到后有些迟疑，烈夏试图和他交流，但哈洛德似乎心事重重。他们讨论了一些关于醉蜜和蜂蜜饮料的话题，然后哈洛德突然离开了，说要去解决一些事情。接下来的对话发生在另一个场景中，锏和“灰礼帽”在火车上交谈，锏问“灰礼帽”为什么要参观火车的包厢，他回答说这是他的工作。他们讨论了火车的变化和谢拉格的发展。然后锏问“灰礼帽”为什么要亲自出手，他回答说解决了一些小麻烦。接着他们的对话被打断了，哈洛德突然出现并指出“灰礼帽”是他的同事。哈洛德和烈夏加入了对话，哈洛德告诉烈夏要回包厢，但烈夏拒绝了。最后，他们决定一起去餐车品尝蜂蜜饮料，同时躲避一些缠人的人。' metadata={'source': 'https://prts.wiki/index.php?title=RS-2_%E5%90%8C%E8%BD%A6%E5%BC%82%E5%9B%BE/BEG&action=edit', 'indexed': True, 'stage': 'RS-2 同车异图 行动前', 'cg': ''}\n",
      "{'source': 'https://prts.wiki/index.php?title=RS-2_%E5%90%8C%E8%BD%A6%E5%BC%82%E5%9B%BE/END&action=edit', 'indexed': False, 'stage': 'RS-2 同车异图 行动后'}\n",
      "page_content='这段对话发生在明日方舟中的一个剧情中，名为“RS-2 同车异图/END”。对话中的角色包括“精神的游客”、“发抖的游客”、“哈洛德”和“锏”。他们在一列火车上观赏风景，并发生了一些有趣的对话和事件。其中，精神的游客拍到了一位神秘女子的照片，大家还讨论了谢拉格的风俗和一些其他话题。最后，他们到达了终点站银心湖站。' metadata={'source': 'https://prts.wiki/index.php?title=RS-2_%E5%90%8C%E8%BD%A6%E5%BC%82%E5%9B%BE/END&action=edit', 'indexed': True, 'stage': 'RS-2 同车异图 行动后', 'cg': ''}\n",
      "{'source': 'https://prts.wiki/index.php?title=RS-3_%E4%B8%B4%E6%97%B6%E5%81%9C%E8%BD%A6/BEG&action=edit', 'indexed': False, 'stage': 'RS-3 临时停车 行动前'}\n",
      "https://prts.wiki/w/%E6%96%87%E4%BB%B6:Avg_45_i05.png\n"
     ]
    },
    {
     "name": "stderr",
     "output_type": "stream",
     "text": [
      "Retrying langchain.chat_models.openai.ChatOpenAI.completion_with_retry.<locals>._completion_with_retry in 4.0 seconds as it raised Timeout: Request timed out: HTTPSConnectionPool(host='api.openai.com', port=443): Read timed out. (read timeout=600).\n",
      "Retrying langchain.chat_models.openai.ChatOpenAI.completion_with_retry.<locals>._completion_with_retry in 4.0 seconds as it raised Timeout: Request timed out: HTTPSConnectionPool(host='api.openai.com', port=443): Read timed out. (read timeout=600).\n"
     ]
    },
    {
     "name": "stdout",
     "output_type": "stream",
     "text": [
      "page_content='1. 列车到达终点站银心湖，介绍了银心湖的美景和耶拉冈德像。\\n2. 哈洛德和锏之间发生了一些误会，但最终解开了。\\n3. 烈夏加入了对话，询问了银心湖和弗根山的情况。\\n4. 休露丝邀请烈夏参加耶拉冈德像的落成仪式。\\n5. 恩希欧迪斯与一个富商讨论与喀兰贸易的合作。\\n6. 烈夏遇到了休露丝，两人进行了一段对话。\\n7. 灰礼帽点了一杯驮兽奶茶。\\n8. 休露丝对菈塔托丝的任务感到困惑，她被要求盯着一个小女孩，并且需要继续接触对方。\\n9. 休露丝觉得这个小女孩有点眼熟。\\n10. 尤卡坦问休露丝是否需要帮忙，休露丝回答说事情交给她就可以了。\\n11. 他们决定回去问菈塔托丝关于这个叫罗莎琳的小女孩的来历。' metadata={'source': 'https://prts.wiki/index.php?title=RS-3_%E4%B8%B4%E6%97%B6%E5%81%9C%E8%BD%A6/BEG&action=edit', 'indexed': True, 'stage': 'RS-3 临时停车 行动前', 'cg': 'https://prts.wiki/images/thumb/5/5a/Avg_45_i05.png/640px-Avg_45_i05.png'}\n",
      "{'source': 'https://prts.wiki/index.php?title=RS-3_%E4%B8%B4%E6%97%B6%E5%81%9C%E8%BD%A6/END&action=edit', 'indexed': False, 'stage': 'RS-3 临时停车 行动后'}\n",
      "page_content='1. 罗莎琳和她的妈妈一起向耶拉冈德祈祷。\\n2. 烈夏来到耶拉冈德像前，试图祈祷，但不记得具体的步骤。老修士教她正确的姿势，并告诉她在耶拉冈德面前要闭上眼睛和默念耶拉冈德的名字。\\n3. 烈夏开始祈祷，但突然变得激动起来，请求耶拉冈德保佑她的妈妈。老修士对烈夏的行为感到惊讶，但最终同意她的请求。\\n4. 烈夏决定上山探险，老修士提供了住宿的地方。\\n5. 山雪鬼们在监视烈夏，并讨论她的行动。\\n6. 雅儿和恩雅讨论了耶拉冈德像的设计，雅儿希望能对雕像进行一些改动，但恩雅驳回了她的请求。' metadata={'source': 'https://prts.wiki/index.php?title=RS-3_%E4%B8%B4%E6%97%B6%E5%81%9C%E8%BD%A6/END&action=edit', 'indexed': True, 'stage': 'RS-3 临时停车 行动后', 'cg': ''}\n",
      "{'source': 'https://prts.wiki/index.php?title=RS-4_%E9%87%8D%E5%9B%9E%E6%AD%A3%E8%BD%A8/BEG&action=edit', 'indexed': False, 'stage': 'RS-4 重回正轨 行动前'}\n",
      "page_content='故事中发生了一系列对话。在第一个场景中，两个士兵在打牌时发现了一个藏牌的士兵。接着，他们开始争吵，但最终和解并继续打牌。在第二个场景中，士兵们聊起了他们在战场上的经历和生活。在第三个场景中，士兵们继续打牌，但他们的上级军官突然出现并责备他们。最后，在第四个场景中，士兵们继续打牌，但他们的上级军官突然回来并责备他们。故事的剩余部分涉及到一个贵族家庭的晚宴和一个老修士与一个年轻女孩的对话。' metadata={'source': 'https://prts.wiki/index.php?title=RS-4_%E9%87%8D%E5%9B%9E%E6%AD%A3%E8%BD%A8/BEG&action=edit', 'indexed': True, 'stage': 'RS-4 重回正轨 行动前', 'cg': ''}\n",
      "{'source': 'https://prts.wiki/index.php?title=RS-4_%E9%87%8D%E5%9B%9E%E6%AD%A3%E8%BD%A8/END&action=edit', 'indexed': False, 'stage': 'RS-4 重回正轨 行动后'}\n",
      "https://prts.wiki/w/%E6%96%87%E4%BB%B6:Avg_45_i07.png\n"
     ]
    },
    {
     "name": "stderr",
     "output_type": "stream",
     "text": [
      "Retrying langchain.chat_models.openai.ChatOpenAI.completion_with_retry.<locals>._completion_with_retry in 4.0 seconds as it raised Timeout: Request timed out: HTTPSConnectionPool(host='api.openai.com', port=443): Read timed out. (read timeout=600).\n"
     ]
    },
    {
     "name": "stdout",
     "output_type": "stream",
     "text": [
      "page_content='在这段对话中，魏斯给恩希欧迪斯送来了一封信，信是由哈洛德子爵托他转交的。恩希欧迪斯询问了魏斯关于哈洛德子爵的情况，并表示对他的态度感到好奇。魏斯回答说，哈洛德子爵对他们的监视已经了解得很清楚，并且通过这封信表达了一种态度。接着，魏斯向恩希欧迪斯汇报了他对维多利亚军队的观察，认为他们对当地人很尊重，值得尊重。恩希欧迪斯则表示对哈洛德子爵的态度和他们的行动感到好奇，并让魏斯继续观察。随后，他们讨论了信封中的内容，发现是一封邀请恩希欧迪斯和圣女大人参加晚宴的请帖。恩希欧迪斯决定亲自去取酒，表示要回应哈洛德子爵的诚意。接着，对话转到了另一个场景，阿克托斯和烈夏喝酒，但阿克托斯的酒变质了，烈夏却喝得很开心。最后，老修士让烈夏停止喝酒，并叫医生来检查她的情况。烈夏表示自己没事，因为她曾经吃过更糟糕的东西。\\n在这段对话中，阿克托斯责备烈夏喝变质的酒，但烈夏表示自己曾经吃过更糟糕的东西。阿克托斯对此感到惊讶，但烈夏希望不再谈论过去的事情。她认为这瓶酒对阿克托斯来说很重要，不应该因为变质就丢掉。随后，哈洛德和油滑的士兵讨论晚宴的酒不够好，但哈洛德表示自己有一瓶珍藏的红酒。恩希欧迪斯和哈洛德交谈后，恩希欧迪斯送给哈洛德一瓶珍藏的酒。哈洛德感到惊喜，称赞这是一瓶好酒。恩希欧迪斯解释了酒的背景，并邀请哈洛德参加晚宴。在晚宴上，恩雅同意将这瓶酒作为正餐酒。哈洛德表示欢迎，晚宴正式开始。' metadata={'source': 'https://prts.wiki/index.php?title=RS-4_%E9%87%8D%E5%9B%9E%E6%AD%A3%E8%BD%A8/END&action=edit', 'indexed': True, 'stage': 'RS-4 重回正轨 行动后', 'cg': 'https://prts.wiki/images/thumb/8/8c/Avg_45_i07.png/640px-Avg_45_i07.png'}\n",
      "{'source': 'https://prts.wiki/index.php?title=RS-ST-2_%E7%99%BB%E5%B1%B1%E9%93%81%E9%81%93/NBT&action=edit', 'indexed': False, 'stage': 'RS-ST-2 登山铁道'}\n",
      "https://prts.wiki/w/%E6%96%87%E4%BB%B6:Avg_45_i06.png\n",
      "page_content='1. 油滑的士兵回来了，他和老练的士兵开始聊天，提到了老图里尔的女儿在后厨做饭。\\n2. 服务员解释了菜还没有上的原因，老练的士兵提出要帮忙，但被拒绝了。\\n3. 雅儿出现并命令侍女帮忙，油滑的士兵和老练的士兵也表示愿意帮忙。\\n4. 场景转到厨房，侍女长雅儿让侍女们帮忙准备菜肴。\\n5. 诺希斯和恩雅开始对话，讨论了谢拉格的现状和合作的可能性。\\n6. 哈洛德加入对话，提到了喀兰贸易对谢拉格的支持和合作的重要性。\\n7. 恩雅表示她对谢拉格的现状负有责任，恩希欧迪斯也表示他对谢拉格的看重。\\n8. 哈洛德希望恩雅能说服恩希欧迪斯合作，但恩雅表示她无法否定谢拉格的现状。\\n9. 哈洛德请他们用餐，对话结束。\\n\\n10. 恩雅和恩希欧迪斯品尝了奶酪卷饼，并回忆起了以前的味道。\\n11. 他们讨论了维多利亚军队的到来以及圣女大人是否应该亲自出面。\\n12. 哈洛德离开后，恩雅再次品尝了奶酪卷饼，并表示确实是那个味道。\\n13. 哈洛德思考了自己的行程，并提到要给夫人和女儿买纪念品。\\n14. 锏出现并与哈洛德交谈，之后恩希欧迪斯和诺希斯也加入了对话。\\n15. 他们决定回去休息，准备明天的事情。' metadata={'source': 'https://prts.wiki/index.php?title=RS-ST-2_%E7%99%BB%E5%B1%B1%E9%93%81%E9%81%93/NBT&action=edit', 'indexed': True, 'stage': 'RS-ST-2 登山铁道', 'cg': 'https://prts.wiki/images/thumb/8/88/Avg_45_i06.png/640px-Avg_45_i06.png'}\n",
      "{'source': 'https://prts.wiki/index.php?title=RS-5_%E9%80%83%E7%A5%A8%EF%BC%9F/BEG&action=edit', 'indexed': False, 'stage': 'RS-5 逃票？ 行动前'}\n",
      "page_content='阿克托斯醒来后发现自己睡在会客厅地板上，地上有很多空酒瓶。他的父亲告诉他，他们昨晚喝醉了，罗莎琳早上就上山去了。阿克托斯想起昨晚自己喝醉了，但对罗莎琳的长相已经记不清了。他决定上山找罗莎琳，并询问关于塔季扬娜的事情。然而，他的父亲告诉他，塔季扬娜和罗莎琳已经离开了谢拉格，并留下了一些遗物。阿克托斯感到震惊和困惑，不知道该如何面对这个事实。\\n\\n老修士告诉主角他听不见也不能指导他，希望主角能清扫耶拉冈德的尘土度过余生。阿克托斯听到塔季扬娜和罗莎琳的名字后陷入沉思。古罗告诉阿克托斯菈塔托丝夫人来访，说有急事要谈。菈塔托丝来提醒阿克托斯关于他的女儿罗莎琳的事情，她可能已经被维多利亚的密探盯上了。然后故事转到烈夏，她到达了山顶附近，发现周围没有人，听到奇怪的声音后发现了一个陷阱。一个叫“灰礼帽”的人出现并请求烈夏帮助他脱离陷阱。' metadata={'source': 'https://prts.wiki/index.php?title=RS-5_%E9%80%83%E7%A5%A8%EF%BC%9F/BEG&action=edit', 'indexed': True, 'stage': 'RS-5 逃票？ 行动前', 'cg': ''}\n",
      "{'source': 'https://prts.wiki/index.php?title=RS-5_%E9%80%83%E7%A5%A8%EF%BC%9F/END&action=edit', 'indexed': False, 'stage': 'RS-5 逃票？ 行动后'}\n",
      "page_content='这段对话发生在明日方舟游戏中的剧情中。烈夏和约翰·史密斯在山上相遇，烈夏救了约翰·史密斯，他们开始一起上山。在爬山的过程中，他们发现了一对奇怪的树，并开始怀疑对方的真实身份。突然，阿克托斯出现并袭击了他们。最后，烈夏和约翰·史密斯决定合作对抗阿克托斯。' metadata={'source': 'https://prts.wiki/index.php?title=RS-5_%E9%80%83%E7%A5%A8%EF%BC%9F/END&action=edit', 'indexed': True, 'stage': 'RS-5 逃票？ 行动后', 'cg': ''}\n",
      "{'source': 'https://prts.wiki/index.php?title=RS-6_%E8%A1%A5%E7%A5%A8%EF%BC%81/BEG&action=edit', 'indexed': False, 'stage': 'RS-6 补票！ 行动前'}\n",
      "page_content='1. 罗莎琳被孤立的孩子们欺负，但她反击了。\\n2. 烈夏和阿克托斯发现彼此的关系。\\n3. \"灰礼帽\"和锏之间发生了冲突。\\n4. \"灰礼帽\"和谢拉格人一起滑冰并享受乐趣。\\n5. 灰礼帽学会了滑冰，并表示回国后要推广这项运动。\\n6. 谢拉格人们惊讶地评论灰礼帽学得如此快，并提供给他滑冰鞋。\\n7. 锏接受了谢拉格人们的好意，并表示感谢。\\n8. 谢拉格人们对锏的滑冰速度感到惊讶。' metadata={'source': 'https://prts.wiki/index.php?title=RS-6_%E8%A1%A5%E7%A5%A8%EF%BC%81/BEG&action=edit', 'indexed': True, 'stage': 'RS-6 补票！ 行动前', 'cg': ''}\n",
      "{'source': 'https://prts.wiki/index.php?title=RS-6_%E8%A1%A5%E7%A5%A8%EF%BC%81/END&action=edit', 'indexed': False, 'stage': 'RS-6 补票！ 行动后'}\n",
      "https://prts.wiki/w/%E6%96%87%E4%BB%B6:Avg_45_i09.png\n",
      "page_content='故事发生在二十多年前的谢拉格，那年的冬天异常寒冷，雪下个不停。主人公阿克托斯决定上山打猎，但迷路后与其他人失散。在山上，他遇到了塔季扬娜。两人相爱并生下了女儿罗莎琳。然而，由于种种原因，阿克托斯被迫离开了塔季扬娜和罗莎琳，他们被送到了乌萨斯。现在，阿克托斯和罗莎琳重逢，阿克托斯希望能够重新建立父女关系。\\n\\n阿克托斯向烈夏表达了他对她和她母亲的爱，并希望她能称呼他为父亲。烈夏对此感到愤怒，指责阿克托斯让她母亲在敌对的环境中受苦多年，并拒绝原谅他。烈夏还告诉阿克托斯她母亲还活着，并解释了她为什么一个人来到这里。最后，烈夏踹了阿克托斯一脚，他从悬崖上摔下去。烈夏决定将这件事告诉罗德岛的博士。' metadata={'source': 'https://prts.wiki/index.php?title=RS-6_%E8%A1%A5%E7%A5%A8%EF%BC%81/END&action=edit', 'indexed': True, 'stage': 'RS-6 补票！ 行动后', 'cg': 'https://prts.wiki/images/thumb/9/9a/Avg_45_i09.png/640px-Avg_45_i09.png'}\n",
      "{'source': 'https://prts.wiki/index.php?title=RS-7_%E5%88%B6%E5%8A%A8%E5%A4%B1%E7%81%B5/BEG&action=edit', 'indexed': False, 'stage': 'RS-7 制动失灵 行动前'}\n",
      "https://prts.wiki/w/%E6%96%87%E4%BB%B6:Avg_45_i10.png\n",
      "page_content='休露丝和雅儿讨论了雕像的修复和恩希欧迪斯的立场。他们还谈到了锏和“灰礼帽”之间的战斗，以及锏的武器选择的原因。接着，对话转移到了恩雅和雅儿之间的约定，以及恩雅对圣女的责任感。最后，哈洛德和烈夏出现在湖面上，准备救援被砸入湖中的人。\\n哈洛德和罗莎琳见到了烈夏，烈夏借给哈洛德武器救人。围观的谢拉格人也加入了帮忙。他们成功将“死尸”捞上来，但发现他还没死。哈洛德担心事情会变得麻烦，烈夏说下手的人可能留手了。他们决定将他搬到温暖的地方。然后他们去了一个温暖的地方，哈洛德借用了烤炉。烈夏问哈洛德这两天干了什么，哈洛德说他原本是代表维多利亚来祝贺耶拉冈德像落成的，然后他们讨论了约翰的事情。约翰说他刚才见到了他死去的外祖父。烈夏问他怎么变成这样，约翰说这是说来话长了。然后初雪出现了，提醒他们今晚有个篝火晚会，他们都答应参加。' metadata={'source': 'https://prts.wiki/index.php?title=RS-7_%E5%88%B6%E5%8A%A8%E5%A4%B1%E7%81%B5/BEG&action=edit', 'indexed': True, 'stage': 'RS-7 制动失灵 行动前', 'cg': 'https://prts.wiki/images/thumb/9/9d/Avg_45_i10.png/640px-Avg_45_i10.png'}\n",
      "{'source': 'https://prts.wiki/index.php?title=RS-7_%E5%88%B6%E5%8A%A8%E5%A4%B1%E7%81%B5/END&action=edit', 'indexed': False, 'stage': 'RS-7 制动失灵 行动后'}\n",
      "page_content='1. 雅儿和锏讨论锏的动机和对谢拉格的忠诚，以及恩希欧迪斯的野心和耶拉冈德的存在。\\n2. 哈洛德和灰礼帽讨论晚会和他们的友谊，哈洛德被灰礼帽叫走，烈夏感到失望。\\n3. 烈夏发现约翰不见了，老牧民告诉她约翰被一个穿黑衣服的朋友叫走了，烈夏感到不安。\\n4. 灰礼帽告诉哈洛德湖心岛下面有秘密，哈洛德对此表示怀疑，但灰礼帽给他看了一些情报，证明了他的说法，烈夏震惊不已。\\n5. 宴会继续进行，哈洛德感到冷，决定去喝酒，回军营的路上遇到士兵，回到房间继续研究情报。\\n6. 哈洛德下令士兵准备行动，目标是耶拉冈德像，故事以哈洛德的命令和麦浪声的停止结束。' metadata={'source': 'https://prts.wiki/index.php?title=RS-7_%E5%88%B6%E5%8A%A8%E5%A4%B1%E7%81%B5/END&action=edit', 'indexed': True, 'stage': 'RS-7 制动失灵 行动后', 'cg': ''}\n",
      "{'source': 'https://prts.wiki/index.php?title=RS-8_%E6%9E%81%E9%99%90%E6%97%B6%E9%80%9F/BEG&action=edit', 'indexed': False, 'stage': 'RS-8 极限时速 行动前'}\n",
      "https://prts.wiki/w/%E6%96%87%E4%BB%B6:Avg_45_i11.png\n",
      "page_content='1. 恩希欧迪斯和诺希斯在银心湖欣赏冬季美景，讨论跟随圣女前往耶拉冈德像的旅程。\\n2. 锏承认自己的失误并提出解决方案，但诺希斯认为已经太迟了。\\n3. 对话转移到湖心岛上的观礼活动，休露丝在火车上等待客人的到来，开始感到不安。\\n4. 维多利亚士兵准备摧毁耶拉冈德像，休露丝在火车站等待她的计划的实施。\\n5. 维多利亚士兵试图进入耶拉冈德像的区域，但被锏拦住。\\n6. 锏准备与哈洛德对峙。' metadata={'source': 'https://prts.wiki/index.php?title=RS-8_%E6%9E%81%E9%99%90%E6%97%B6%E9%80%9F/BEG&action=edit', 'indexed': True, 'stage': 'RS-8 极限时速 行动前', 'cg': 'https://prts.wiki/images/thumb/a/ad/Avg_45_i11.png/640px-Avg_45_i11.png'}\n",
      "{'source': 'https://prts.wiki/index.php?title=RS-8_%E6%9E%81%E9%99%90%E6%97%B6%E9%80%9F/END&action=edit', 'indexed': False, 'stage': 'RS-8 极限时速 行动后'}\n",
      "https://prts.wiki/w/%E6%96%87%E4%BB%B6:Avg_45_i04.png\n"
     ]
    },
    {
     "name": "stderr",
     "output_type": "stream",
     "text": [
      "Retrying langchain.chat_models.openai.ChatOpenAI.completion_with_retry.<locals>._completion_with_retry in 4.0 seconds as it raised Timeout: Request timed out: HTTPSConnectionPool(host='api.openai.com', port=443): Read timed out. (read timeout=600).\n"
     ]
    },
    {
     "name": "stdout",
     "output_type": "stream",
     "text": [
      "page_content='1. 维多利亚士兵A和士兵B遭到袭击，维多利亚士兵C警告其他人小心。\\n2. 锏女士出现并与维多利亚士兵战斗。\\n3. 哈洛德与锏女士对话，讨论暴力与胜利的关系。\\n4. 角峰和魏斯被绑在军营里，莫希出现并解救了他们。\\n5. 恩雅和恩希欧迪斯讨论锏女士的能力和计划。\\n6. 恩希欧迪斯和诺希斯讨论保护黑骑士和决策后果的问题。\\n7. 锏继续战斗并受伤，但坚信自己能坚持下去。\\n8. 锏和哈洛德讨论战争的必要性和后果。\\n9. 锏决定继续战斗，哈洛德给恩希欧迪斯最后一次机会。\\n10. \"灰礼帽\"遇到罗德岛的成员，并与他们交谈。\\n11. 休露丝夫人邀请征战骑士参加耶拉冈德像的建成仪式。\\n12. 莫布代表商业联合会表示愿意与贵公司合作。\\n13. 锏和哈洛德讨论公爵阁下与希瓦艾什的恩怨以及卡西米尔的大饕餮们对喀兰贸易的看法。\\n14. 锏决定回去，因为有人在等她。' metadata={'source': 'https://prts.wiki/index.php?title=RS-8_%E6%9E%81%E9%99%90%E6%97%B6%E9%80%9F/END&action=edit', 'indexed': True, 'stage': 'RS-8 极限时速 行动后', 'cg': 'https://prts.wiki/images/thumb/0/04/Avg_45_i04.png/640px-Avg_45_i04.png'}\n",
      "{'source': 'https://prts.wiki/index.php?title=RS-ST-3_%E7%BB%88%E7%82%B9%E7%AB%99/NBT&action=edit', 'indexed': False, 'stage': 'RS-ST-3 终点站'}\n",
      "https://prts.wiki/w/%E6%96%87%E4%BB%B6:Avg_45_i01_2.png\n",
      "page_content='1. 维多利亚士兵和阴沉的士兵讨论行动成功与否。\\n2. 恩雅解释行动成功与耶拉冈德无关，并邀请士兵们参加庆祝宴会。\\n3. 烈夏和博士讨论维多利亚和谢拉格之间的冲突以及他们的行动。\\n4. 烈夏向阿克托斯表示不需要他的认可，并给他一些抚养费。\\n5. 老修士和佩尔罗契家平民谈论塔季扬娜和烈夏的事情。\\n6. 哈洛德和“灰礼帽”讨论谢拉格的局势和耶拉冈德的存在。\\n7. “灰礼帽”建议不要与谢拉格进行正面武装冲突。\\n8. 灰礼帽和哈洛德讨论谢拉格的苦难和耶拉冈德的庇佑。\\n9. 哈洛德打开驮兽盲盒，发现了限量隐藏款的水晶冰封驮兽。\\n10. 恩希欧迪斯和锏讨论他们之间的关系和谢拉格的未来。\\n11. 恩雅和缪尔赛思讨论在圣山上建立发射井的问题。\\n12. 哈洛德和征战骑士们互动，引发了一场小型粉丝见面会。\\n13. 诺希斯和菈塔托丝讨论圣女大人的宴会和莱茵生命的技术引进。\\n14. 诺希斯提到给舰船取名为“小坚果”的传闻。\\n15. 烈夏和塔季扬娜谈论塔季扬娜的伤势和未来的冒险计划。' metadata={'source': 'https://prts.wiki/index.php?title=RS-ST-3_%E7%BB%88%E7%82%B9%E7%AB%99/NBT&action=edit', 'indexed': True, 'stage': 'RS-ST-3 终点站', 'cg': 'https://prts.wiki/images/thumb/4/44/Avg_45_i01_2.png/640px-Avg_45_i01_2.png'}\n"
     ]
    }
   ],
   "source": [
    "run_scapy(file = \"prts120523.json\", limit = \"RS-\", overwrite = False, runlm = True)"
   ]
  },
  {
   "cell_type": "code",
   "execution_count": 140,
   "id": "d6b83611-ac5a-4236-b5d7-4d3d477317bf",
   "metadata": {},
   "outputs": [],
   "source": [
    "from langchain.embeddings import OpenAIEmbeddings\n",
    "from langchain.vectorstores import Chroma\n",
    "db = Chroma(persist_directory=\"./cndb\", embedding_function=OpenAIEmbeddings())"
   ]
  },
  {
   "cell_type": "code",
   "execution_count": 105,
   "id": "798611c0-b9f5-4e90-84f6-9ab2da9331ee",
   "metadata": {},
   "outputs": [
    {
     "data": {
      "text/plain": [
       "{'cg': 'https://prts.wiki/images/thumb/f/f6/Avg_32_i03.png/640px-Avg_32_i03.png',\n",
       " 'indexed': True,\n",
       " 'source': 'https://prts.wiki/index.php?title=13-6_%E5%85%B8%E8%8C%83%E4%B9%8B%E5%90%8D/END&action=edit',\n",
       " 'stage': '13-6 典范之名 行动后'}"
      ]
     },
     "execution_count": 105,
     "metadata": {},
     "output_type": "execute_result"
    }
   ],
   "source": [
    "db.get()['metadatas'][10]"
   ]
  },
  {
   "cell_type": "code",
   "execution_count": 8,
   "id": "4ada65f5-de2b-4013-8303-21bfa8d160a5",
   "metadata": {},
   "outputs": [],
   "source": [
    "link = \"https://prts.wiki/index.php?title=ZT-1_%E6%B8%85%E5%94%B1%E2%80%9C%E6%99%B4%E7%A9%BA%E4%B9%8B%E6%AD%8C%E2%80%9D/BEG&action=edit\"\n",
    "res = web_loader_docs(link)\n"
   ]
  },
  {
   "cell_type": "code",
   "execution_count": 9,
   "id": "abb7d1dc-78c5-4805-9dec-d4ba0cfebce0",
   "metadata": {
    "collapsed": true,
    "jupyter": {
     "outputs_hidden": true
    }
   },
   "outputs": [
    {
     "data": {
      "text/plain": [
       "[Document(page_content='\\n\\n\\n\\n查看“ZT-1 清唱“晴空之歌”/BEG”的源代码 - PRTS - 玩家共同构筑的明日方舟中文Wiki\\n\\n\\n\\n\\n\\n\\n\\n\\n\\n\\n\\n\\n\\n\\n\\n\\n\\n\\n\\n\\n\\n\\n\\n\\n\\n\\n\\n\\n\\n\\n\\n\\n\\n\\n\\n\\n\\n\\n\\n\\n\\n\\n\\n\\n\\n\\n\\n\\n\\n\\n查看“ZT-1 清唱“晴空之歌”/BEG”的源代码\\n\\n←ZT-1 清唱“晴空之歌”/BEG\\n\\n\\n跳到导航\\n跳到搜索\\n因为以下原因，您没有权限编辑本页：\\n\\n\\n您请求的操作仅限属于这些用户组的用户执行：用户、\\u200bEditor\\n\\n\\n您可以查看和复制此页面的源代码。\\n{{剧情模拟器|图片数据={{Widget:Data_Image}}|角色数据={{Widget:Data_Char}}|音频数据={{Widget:Data_Audio}}|文本数据=\\n[HEADER(key=\"title_test\", is_skippable=true, fit_mode=\"BLACK_MASK\")]\\n[Blocker(a=1, r=0, g=0, b=0, fadetime=0, block=true)]\\n[stopmusic]\\n[Dialog]\\n[Delay(time=1)]\\n[playMusic(intro=\"$loneliness_intro\",key=\"$loneliness_loop\", volume=0.6)]\\n[Background(image=\"bg_ltroom\",screenadapt=\"coverall\")]\\n[Blocker(a=0, r=0, g=0, b=0, fadetime=1, block=true)]\\n[Delay(time=1)]\\n[name=\"贵族侍从\"]夫人，您该休息了。\\n[name=\"贵族侍从\"]这是......第多少遍了？您画了这么多遍，还是......\\n[name=\"贵族侍从\"]要不要我联系下美术馆的人，让他们把画展时间延后？\\n[name=\"贵族侍从\"]自从那位音乐家小姐来了以后，您比往常精神了许多。但您的病还没好透，就一直在画这幅......这幅......\\n[name=\"贵族侍从\"]您画的是......黑夜？为什么这么黑，我什么都瞧不清楚......\\n[Dialog]\\n[Delay(time=1)]\\n[PlaySound(key=\"$d_gen_walk_n\",volume=0.7)]\\n[charslot(slot=\"m\",name=\"avg_245_cello_1#1$1\",bstart=0.15,bend=0.6,duration=1)]\\n[Delay(time=2)]\\n[name=\"？？？\"]多么令人难忘的夜色啊，您的画就快完成了。\\n[name=\"？？？\"]然而，是强烈的情感支撑着您不断地作画，您的身体早已经不起这样的损耗。\\n[name=\"？？？\"]您真的想......让我继续演奏下去吗？\\n[name=\"？？？\"]好吧，我听见了您的回答。\\n[name=\"？？？\"]我也听见了，您的痛苦、遗憾、悔恨、痴迷......在您心中，莱塔尼亚与您一同在画中的这一夜死去。\\n[name=\"？？？\"]那就请容许我，为您奏响这首迟到了二十多年的挽歌吧。\\n[stopmusic(fadetime=2)]\\n[Dialog]\\n[Blocker(a=1, r=0, g=0, b=0, fadetime=3, block=true)]\\n[charslot]\\n[delay(time=1)]\\n[Background(image=\"44_g6_towerterrace\",screenadapt=\"coverall\")]\\n[Blocker(a=0, r=0, g=0, b=0, fadetime=2, block=true)]\\n[playMusic(intro=\"$m_act29side_sys_intro\",key=\"$m_act29side_sys_loop\", volume=0.6)]\\n[delay(time=1)]\\n莱塔尼亚首都崔林特尔梅，城市中心\\n[Dialog]\\n[charslot(slot=\"m\",name=\"avg_npc_487_1#2$1\",duration=1.5)]\\n[delay(time=2)]\\n[name=\"金色的女性\"]你听。\\n[name=\"金色的女性\"]每天的这个时间，城市里总是充满了各种各样的乐声呢。\\n[name=\"金色的女性\"]放学回家的学生们在琴行外面驻足，讨论着哪一款新上的乐器有着更稳定的回路。\\n[name=\"金色的女性\"]下班路上的行人们放慢脚步，硬币落在街头艺术家面前的琴匣里，叮当作响。\\n[name=\"金色的女性\"]餐厅里年轻恋人们酒杯相碰，家中厨房里炉灶冒着热气......\\n[charslot(slot=\"m\",name=\"avg_npc_487_1#10$1\")]\\n[name=\"金色的女性\"]每一样都很动人。\\n[charslot(slot=\"m\",name=\"avg_npc_1113_1#10$1\")]\\n[name=\"珂拉\"]崔林特尔梅的傍晚，向来是许多大音乐家的灵感来源。\\n[charslot(slot=\"m\",name=\"avg_npc_487_1#1$1\")]\\n[name=\"金色的女性\"]嗯......要不要在庆典上多加几首曲子呢？\\n[name=\"金色的女性\"]每年都是从奏响金律乐章开始，按部就班演绎经典作品，民众们也会越来越不感兴趣的吧？\\n[charslot(slot=\"m\",name=\"avg_npc_1113_1#10$1\")]\\n[name=\"珂拉\"]庆典上的曲目都由陛下们决定。\\n[charslot(slot=\"m\",name=\"avg_npc_487_1#12$1\")]\\n[name=\"金色的女性\"]那之后再找指挥家和首席们聊聊看吧。\\n[name=\"金色的女性\"]对了，我记得你说要带一位年轻女士来见我。\\n[charslot(slot=\"m\",name=\"avg_npc_1113_1#10$1\")]\\n[name=\"珂拉\"]是的，陛下。\\n[Dialog]\\n[charslot(slot=\"m\",posfrom = \"0,0\", posto = \"-200,0\",duration = 1)]\\n[delay(time=1)]\\n[charslot(slot=\"r\",name=\"avg_4098_vvana_1#1$1\",duration=1)]\\n[delay(time=1.5)]\\n[charslot(slot=\"m\",name=\"avg_npc_1113_1#10$1\",focus=\"m\")]\\n[name=\"珂拉\"]这位就是沃尔纳的女儿，薇薇安娜小姐。\\n[charslot(slot=\"r\",name=\"avg_4098_vvana_1#1$1\",focus=\"r\")]\\n[name=\"薇薇安娜\"]很高兴见到您，伊维格娜德——女皇陛下。\\n[charslot]\\n[charslot(slot=\"m\",name=\"avg_npc_487_1#10$1\")]\\n[name=\"伊维格娜德\"]啊，比预想的还要出色呢。从卡西米尔回到莱塔尼亚，可还习惯？\\n[charslot(slot=\"m\",name=\"avg_4098_vvana_1#1$1\")]\\n[name=\"薇薇安娜\"]感谢您的关心，莱塔尼亚......远比我记忆中的更优雅美丽。\\n[charslot(slot=\"m\",name=\"avg_npc_487_1#10$1\")]\\n[name=\"伊维格娜德\"]不用这么拘谨。我和珂拉也常常像这样在女皇塔外见面聊天。\\n[charslot(slot=\"m\",name=\"avg_npc_487_1#5$1\")]\\n[name=\"伊维格娜德\"]沃尔纳刚刚离去，你一定很伤心。要不是时间紧迫，我真想让你先在城内好好休息一阵。\\n[charslot(slot=\"m\",name=\"avg_4098_vvana_1#4$1\")]\\n[name=\"薇薇安娜\"]您指让我担任......\\n[charslot(slot=\"m\",name=\"avg_npc_487_1#1$1\")]\\n[name=\"伊维格娜德\"]......女皇之声。\\n[name=\"伊维格娜德\"]珂拉同你说过了，这是沃尔纳的请求。\\n[charslot(slot=\"m\",name=\"avg_4098_vvana_1#1$1\")]\\n[name=\"薇薇安娜\"]这是我的......无上荣幸。\\n[charslot(slot=\"m\",name=\"avg_npc_487_1#1$1\")]\\n[name=\"伊维格娜德\"]虽然贵族们更喜欢把十岁左右的末子送到我身边，但我相信你完全具有这个资质。\\n[name=\"伊维格娜德\"]在见到你之后，我更加确信这一点了。\\n[charslot(slot=\"m\",name=\"avg_4098_vvana_1#3$1\")]\\n[name=\"薇薇安娜\"]您的夸赞令我赧然。\\n[charslot(slot=\"m\",name=\"avg_npc_487_1#1$1\")]\\n[name=\"伊维格娜德\"]谦虚是美德，勇于袒露心声也是。\\n[name=\"伊维格娜德\"]我很乐意答应沃尔纳，但我也想听听你的想法。\\n[name=\"伊维格娜德\"]你对自己，对莱塔尼亚，对我们眼前的未来，究竟作何感想？\\n[charslot(slot=\"m\",name=\"avg_4098_vvana_1#7$1\")]\\n[name=\"薇薇安娜\"]......\\n[Dialog]\\n[charslot]\\n[PlaySound(key=\"$d_gen_walk_n\")]\\n[charslot(slot=\"m\",name=\"avg_npc_1117_1#2$1\",duration=1)]\\n[delay(time=1.5)]\\n[name=\"金律法卫\"]......陛下，我不知道还有其他人正在觐见。\\n[charslot(slot=\"m\",name=\"avg_npc_487_1#1$1\")]\\n[name=\"伊维格娜德\"]没关系，布兰特，是我让你在这时候过来的。说说你在施彤领的发现吧。\\n[charslot(slot=\"m\",name=\"avg_npc_1117_1#2$1\")]\\n[name=\"金律法卫\"]属于施彤领的金律乐章副本，被人从选帝侯的高塔中窃走了。\\n[name=\"金律法卫\"]偷盗乐章的人，与谋害选帝侯的人，极有可能是同一拨。他们将自己称作“赫尔昏佐伦的余音”。\\n[charslot(slot=\"m\",name=\"avg_npc_487_1#8$1\")]\\n[name=\"伊维格娜德\"]赫尔昏佐伦......“始源之角”。我很久没听过这个名字了。\\n[charslot(slot=\"m\",name=\"avg_npc_1117_1#2$1\")]\\n[name=\"金律法卫\"]......巫王残党。\\n[name=\"金律法卫\"]我审问了其中一人。他们将乐章副本送到了崔林特尔梅。\\n[charslot(slot=\"m\",name=\"avg_npc_487_1#9$1\")]\\n[name=\"伊维格娜德\"]这里啊......\\n[name=\"伊维格娜德\"]珂拉，女皇庆典......举行过多少年了？\\n[charslot(slot=\"m\",name=\"avg_npc_1113_1#2$1\")]\\n[name=\"珂拉\"]今年是第二十三年，陛下。\\n[charslot(slot=\"m\",name=\"avg_npc_487_1#9$1\")]\\n[name=\"伊维格娜德\"]他已经死去二十三年了。\\n[name=\"伊维格娜德\"]依旧孜孜不倦地以他的名义制造惨剧的人，有多少曾亲眼见过他？\\n[name=\"伊维格娜德\"]有件事始终令我难过。如今的莱塔尼亚......究竟为何令他们如此不满呢？\\n[charslot(slot=\"m\",name=\"avg_npc_1113_1#9$1\")]\\n[name=\"珂拉\"]怨恨从来都不是理智的，陛下。\\n[charslot(slot=\"m\",name=\"avg_npc_487_1#9$1\")]\\n[name=\"伊维格娜德\"]或许我该取消今年的活动。\\n[charslot(slot=\"m\",name=\"avg_npc_487_1#8$1\")]\\n[name=\"伊维格娜德\"]假如他们真的想利用乐章，在崔林特尔梅制造混乱......我不希望为了庆典赶到这里的人们受到伤害。\\n[charslot(slot=\"m\",name=\"avg_npc_1117_1#2$1\")]\\n[name=\"金律法卫\"]还有三天时间。\\n[name=\"金律法卫\"]我会找到他们，寻回乐章。\\n[charslot(slot=\"m\",name=\"avg_npc_487_1#9$1\")]\\n[name=\"伊维格娜德\"]我本该派出几位女皇之声共同负责此事......\\n[charslot(slot=\"m\",name=\"avg_4098_vvana_1#2$1\")]\\n[name=\"薇薇安娜\"]......让我去吧，陛下。\\n[name=\"薇薇安娜\"]女皇之声代表着您与另一位陛下的荣光与威仪，频繁地现身于城中各处，一定会引起居民与敌人的注意。\\n[name=\"薇薇安娜\"]而我......人们所熟知的我，与这一切都并无关联。\\n[charslot(slot=\"m\",name=\"avg_npc_487_1#1$1\")]\\n[name=\"伊维格娜德\"]很有趣的提议。\\n[charslot(slot=\"m\",name=\"avg_npc_1117_1#2$1\")]\\n[name=\"金律法卫\"]陛下，我不认为一位未经训练的......\\n[charslot(slot=\"m\",name=\"avg_npc_487_1#1$1\")]\\n[name=\"伊维格娜德\"]布兰特，我相信，你和薇薇安娜会帮我解决这个麻烦。\\n[charslot(slot=\"m\",name=\"avg_npc_1117_1#2$1\")]\\n[name=\"金律法卫\"]......是。\\n[charslot(slot=\"m\",name=\"avg_npc_487_1#1$1\")]\\n[name=\"伊维格娜德\"]还有，女皇之声刚从瓦瑟领大区带回来几首有趣的新曲子。帮我问问希尔德加德，等忙完之后，愿不愿意来我的塔里听一听。\\n[name=\"伊维格娜德\"]反正......你马上就会去找她，对吧？\\n[charslot(slot=\"m\",name=\"avg_npc_1117_1#2$1\")]\\n[name=\"金律法卫\"]......是的，陛下。\\n[Dialog]\\n[charslot(duration=0.5)]\\n[PlaySound(key=\"$d_gen_walk_n\")]\\n[charslot(slot = \"m\",posfrom = \"0,0\", posto = \"-200,0\",duration = 1)]\\n[delay(time=2)]\\n[charslot]\\n[charslot(slot=\"m\",name=\"avg_npc_487_1#1$1\")]\\n[name=\"伊维格娜德\"]伊奥莱塔宗师把你教得很好。我有一种预感，你会成为我最喜爱的女皇之声。\\n[charslot(slot=\"m\",name=\"avg_4098_vvana_1#1$1\")]\\n[name=\"薇薇安娜\"]感谢您。\\n[charslot(slot=\"m\",name=\"avg_npc_487_1#12$1\")]\\n[name=\"伊维格娜德\"]不过......未必是现在。从今天开始，我允许你以女皇之声的身份行事，但按照惯例，新的女皇之声将在庆典之后进入高塔。\\n[name=\"伊维格娜德\"]到那时，我依然期待先前那个问题的答案。\\n[charslot(slot=\"m\",name=\"avg_4098_vvana_1#7$1\")]\\n[name=\"薇薇安娜\"]我的真实想法......\\n[charslot]\\n[Dialog]\\n[playsound(key=\"$d_avg_pipeorgantimer\", loop=true, channel=\"bgs\",volume=0.4)]\\n[delay(time=2)]\\n[StopSound(channel=\"bgs\", fadetime=0.5)]\\n[delay(time=1)]\\n[charslot(slot=\"m\",name=\"avg_npc_487_1#1$1\")]\\n[name=\"伊维格娜德\"]会面的时间就像晚霞一样短暂。\\n[name=\"伊维格娜德\"]啊，等一下。\\n[name=\"伊维格娜德\"]时间到了。你看见了吗？\\n[Dialog]\\n[playsound(key=\"$d_avg_mnwtrfll\", loop=true, channel=\"a\",volume=0)]\\n[SoundVolume(volume=0.4, fadetime=2,channel=\"a\")]\\n[charslot(slot=\"m\",name=\"avg_4098_vvana_1#10$1\")]\\n[delay(time=2)]\\n[name=\"薇薇安娜\"]广场上的......喷泉？\\n[charslot(slot=\"m\",name=\"avg_npc_487_1#10$1\")]\\n[name=\"伊维格娜德\"]很美丽，对不对？\\n[name=\"伊维格娜德\"]水花并不是随着旋律而跃动，是流动的水本身奏响了这首曲子。\\n[charslot(slot=\"m\",name=\"avg_4098_vvana_1#1$1\")]\\n[name=\"薇薇安娜\"]我听说，崔林特尔梅的许多建筑与街道本身都是乐器。\\n[charslot(slot=\"m\",name=\"avg_npc_487_1#1$1\")]\\n[name=\"伊维格娜德\"]当年我花了一点时间，才琢磨出了这些能够保持几十年稳定的术式。如今看来，效果还不错。\\n[charslot(slot=\"m\",name=\"avg_4098_vvana_1#1$1\")]\\n[name=\"薇薇安娜\"]原来这些都是您亲自设计的。\\n[charslot(slot=\"m\",name=\"avg_npc_487_1#1$1\")]\\n[name=\"伊维格娜德\"]薇薇安娜，不论你最后作何选择......\\n[name=\"伊维格娜德\"]我都希望你能和我一样爱上这个地方。\\n[name=\"伊维格娜德\"]在此之前，让崔林特尔梅的晚霞给你带来一些慰藉吧。\\n[Dialog]\\n[playsound(key=\"$d_gen_walk_n\")]\\n[charslot(duration=1)]\\n[delay(time=2)]\\n[charslot(slot=\"m\",name=\"avg_4098_vvana_1#3$1\",duration=1)]\\n[delay(time=1.5)]\\n[name=\"薇薇安娜\"]......晚霞。\\n[StopSound(channel=\"a\", fadetime=2)]\\n[Dialog]\\n[Blocker(a=1, r=0, g=0, b=0, fadetime=2, block=true)]\\n[charslot]\\n[image(image=\"44_i01\",screenadapt=\"coverall\",xScale=1.1, yScale=1.1,x=0,y=30)]\\n[ImageTween( xScaleFrom=1.1, yScaleFrom=1.1, xScaleTo=1, yScaleTo=1,  yTo=0, duration=20)]\\n[Blocker(a=0, r=0, g=0, b=0, fadetime=2, block=true)]\\n[delay(time=1)]\\n她曾经想象过许多次，崔林特尔梅是一座怎样的城市。\\n她从童年阅读的小说与诗歌中揣摩。\\n她从异国他乡的电视与新闻里了解。\\n直到此刻，她第一次站在莱塔尼亚首都的中心，感受着这座城市的光与影，气味和声音。\\n[name=\"薇薇安娜\"]古典画的色彩。\\n[name=\"薇薇安娜\"]手风琴的音色。\\n[name=\"薇薇安娜\"]金盏花的香气。\\n[name=\"薇薇安娜\"]就像活着的诗篇......崔林特尔梅的傍晚，竟和我想象的如此相似。\\n[name=\"珂拉\"]你本不必这么主动地卷入这件事。\\n[name=\"薇薇安娜\"]刚刚陛下没有给我开口请求离开的机会。这意味着，我已经置身其中了。\\n[name=\"薇薇安娜\"]况且，我也有想要知道的事情。\\n[name=\"珂拉\"]你想探查你父亲去世的真相。\\n[name=\"薇薇安娜\"]不止这件事。\\n[name=\"薇薇安娜\"]我也想，在这片即将降临的夜色里......找寻我自己。\\n[name=\"珂拉\"]那你准备好走进这个夜晚了吗？\\n[name=\"薇薇安娜\"]在回来之前，我把我所有的藏书都送给了一位朋友。\\n[name=\"薇薇安娜\"]她也曾怀着某个信念，回到驱逐过自己的故土。\\n[name=\"薇薇安娜\"]说出来不怕您笑话，过去的我曾经无数次设想，她在那一刻是什么心情......\\n[name=\"薇薇安娜\"]此时此地，我大概能感受到一点点了。\\n[Dialog]\\n[Blocker(a=1, r=0, g=0, b=0, fadetime=2, block=true)]\\n[charslot]\\n[delay(time=1)]\\n[image]\\n[Background(image=\"34_g5_noblehall\",screenadapt=\"coverall\")]\\n[Blocker(a=0, r=0, g=0, b=0, fadetime=2, block=true)]\\n[delay(time=1)]\\n[charslot(slot=\"m\",name=\"avg_npc_1115_1#1$1\",duration=1.5)]\\n[delay(time=2.5)]\\n[name=\"赫琳玛特\"]你对莉泽洛特的决定有疑虑。\\n[charslot(slot=\"m\",name=\"avg_npc_1117_1#2$1\")]\\n[name=\"金律法卫\"]伊维格娜德选择的女皇之声向来极具资质，在这一点上，我不会质疑她的判断。\\n[name=\"金律法卫\"]薇薇安娜·德罗斯特女士是一位出色的术师。我在影像记录中见过她操控烛火与阴影的能力。\\n[name=\"金律法卫\"]但她......应对真正危机的经验可能有所不足。毕竟，她过去经历的战斗都发生在人为设置的舞台上。\\n[charslot(slot=\"m\",name=\"avg_npc_1115_1#1$1\")]\\n[name=\"赫琳玛特\"]布兰特·赖纳。\\n[name=\"赫琳玛特\"]你效忠的，早已并非霍赫贝格家族。\\n[charslot(slot=\"m\",name=\"avg_npc_1117_1#2$1\")]\\n[name=\"金律法卫\"]......没有人比我更清楚，陛下。\\n[name=\"金律法卫\"]若非如此，二十三年前的那一夜，我又怎会眼睁睁地看着......\\n[name=\"金律法卫\"]我没有选择的权利，早就没有了。金律法卫的剑与法术，都只属于金律乐章与莱塔尼亚。\\n[charslot(slot=\"m\",name=\"avg_npc_1115_1#1$1\")]\\n[name=\"赫琳玛特\"]金律乐章与莱塔尼亚。\\n[name=\"赫琳玛特\"]假如你只能择其一呢？\\n[charslot(slot=\"m\",name=\"avg_npc_1117_1#2$1\")]\\n[name=\"金律法卫\"]金律乐章定义了莱塔尼亚。千余年来，两者从未分割。\\n[charslot(slot=\"m\",name=\"avg_npc_1115_1#1$1\")]\\n[name=\"赫琳玛特\"]乐章的旋律由莱塔尼亚人创造，并非不可更改。\\n[name=\"赫琳玛特\"]赫尔昏佐伦就曾做到过。\\n[charslot(slot=\"m\",name=\"avg_npc_1117_1#2$1\")]\\n[name=\"金律法卫\"]......\\n[charslot(slot=\"m\",name=\"avg_npc_1115_1#1$1\")]\\n[name=\"赫琳玛特\"]承担一部分责任，就意味着必须放弃另一部分。\\n[name=\"赫琳玛特\"]想清楚，布兰特。没有人可以永远不做选择。\\n[charslot(slot=\"m\",name=\"avg_npc_1117_1#2$1\")]\\n[name=\"金律法卫\"]我会好好考虑......您的话。\\n[name=\"金律法卫\"]还有一件事。伊维格娜德让我问您，是否有空去听女皇之声的演奏。\\n[charslot(slot=\"m\",name=\"avg_npc_1115_1#1$1\")]\\n[name=\"赫琳玛特\"]我会的。\\n[Dialog]\\n[charslot(slot=\"m\",name=\"avg_npc_1117_1#2$1\")]\\n[delay(time=0.5)]\\n[charslot(duration=0.5)]\\n[PlaySound(key=\"$d_gen_walk_n\")]\\n[charslot(slot = \"m\",posfrom = \"0,0\", posto = \"-200,0\",duration = 1)]\\n[delay(time=2)]\\n[charslot]\\n[charslot(slot=\"m\",name=\"avg_npc_1115_1#1$1\")]\\n[name=\"赫琳玛特\"]......\\n[name=\"赫琳玛特\"]等我过去的时候，莉泽洛特应当已经睡下了吧。\\n[dialog]\\n[delay(time=1)]\\n[charslot(slot=\"m\",name=\"avg_npc_1115_1#2$1\")]\\n[name=\"赫琳玛特\"]米夏埃尔。\\n[charslot(slot = \"m\", focus = \"n\")]\\n[name=\"？？？\"]陛下。先说好，我不想再代表您去隔壁高塔吃晚饭。您又不是不知道，她并不喜欢我。\\n[charslot(slot=\"m\",name=\"avg_npc_1115_1#1$1\")]\\n[name=\"赫琳玛特\"]停止你的玩笑话。\\n[name=\"赫琳玛特\"]城里的事，你继续盯着。\\n[charslot(slot = \"m\", focus = \"n\")]\\n[name=\"？？？\"]您需要我和金律法卫阁下还有那位......非正式的女皇之声女士达成“合作”，还是相反？\\n[charslot(slot=\"m\",name=\"avg_npc_1115_1#1$1\")]\\n[name=\"赫琳玛特\"]我说过了。\\n[charslot(slot = \"m\", focus = \"n\")]\\n[name=\"？？？\"]“继续”，对吧？知道啦。\\n[stopmusic(fadetime=2)]\\n[Dialog]\\n[Blocker(a=1, r=0, g=0, b=0, fadetime=2, block=true)]\\n[charslot]\\n[delay(time=1)]\\n[Background(image=\"44_g5_spiralstairs\",screenadapt=\"coverall\")]\\n[playsound(key=\"$d_avg_crwddiscuss_outside\", loop=true, channel=\"bgs\",volume=0.4)]\\n[Blocker(a=0, r=0, g=0, b=0, fadetime=2, block=true)]\\n[playMusic(intro=\"$loading_intro\",key=\"$loading_loop\", volume=0.6)]\\n[delay(time=1)]\\n[StopSound(channel=\"bgs\", fadetime=5)]\\n[name=\"美术馆观众\"]你刚刚都瞧见了吗？\\n[name=\"美术馆观众\"]希曼夫人她......还有那些黑色的画面......\\n[name=\"美术馆观众\"]太可怕了！\\n[name=\"美术馆观众\"]他们都说，这是那位陛下的诅咒......\\n[Dialog]\\n[PlaySound(key=\"$d_gen_soldiersrun\")]\\n[charslot(slot = \"left\", name = \"avg_npc_1133_1#1$1\",duration = 1)]\\n[charslot(slot = \"right\", name = \"avg_npc_1134_1#1$1\",duration = 1)]\\n[delay(time=1.5)]\\n[name=\"宪兵\"]散开，都别挤在这里。\\n[name=\"宪兵\"]前面的路封上了，今天美术馆不对外开放。\\n[Dialog]\\n[charslot]\\n[PlaySound(key=\"$d_gen_walk_n\",volume=0.7)]\\n[charslot(slot = \"m\", name = \"avg_npc_1123_1#1$1\",duration = 1)]\\n[delay(time=1.5)]\\n[name=\"？？？\"]回复约瑟夫伯爵，美术馆的损失会由宪兵队承担。\\n[charslot(slot = \"m\", name = \"avg_npc_1133_1#1$1\")]\\n[name=\"宪兵\"]是，洛里斯队长。\\n[charslot(slot = \"m\", name = \"avg_npc_1123_1#1$1\")]\\n[name=\"洛里斯\"]对了，上次弄丢项链的那位夫人，电话你留了吗？女儿是《双塔艺术》主编的那一位。\\n[name=\"洛里斯\"]麻烦她在新刊上留个版面，就介绍......嗯，介绍下希曼夫人的“遗作”。\\n[charslot(slot = \"m\", name = \"avg_npc_1133_1#1$1\")]\\n[name=\"宪兵\"]怎么......介绍？\\n[charslot(slot = \"m\", name = \"avg_npc_1123_1#1$1\")]\\n[name=\"洛里斯\"]请评论家们尽情发挥想象力。\\n[name=\"洛里斯\"]希曼夫人绘制新作呕心沥血，最终不幸因过度疲劳而为艺术献出了生命——她的最后一幅作品自然配得上任何赞美之词。\\n[name=\"洛里斯\"]“只可惜，由于作品尚未完成，依据夫人遗愿，这幅伟大的作品将不会对外展出。”\\n[name=\"洛里斯\"]我唯一的期望是，文章中一个字都不要提及那位陛下的名号。\\n[Dialog]\\n[PlaySound(key=\"$d_gen_walk_n\")]\\n[charslot(slot = \"m\", focus = \"n\")]\\n[delay(time=1.5)]\\n[name=\"？？？\"]那您觉得......希曼夫人的死，究竟是什么原因呢？\\n[charslot(slot = \"m\", name = \"avg_npc_1133_1#1$1\")]\\n[multiline(name=\"宪兵\")]谁让你进来......\\n[CameraShake(duration=0.3, xstrength=30, ystrength=30, vibrato=30, randomness=90, fadeout=true, block=false)]\\n[multiline(name=\"宪兵\")]等等，烛、烛......！\\n[Dialog]\\n[charslot]\\n[charslot(slot = \"m\", name = \"avg_4098_vvana_1#1$1\",duration = 0.5)]\\n[delay(time=1)]\\n[name=\"薇薇安娜\"]退役之后，这个由卡西米尔骑士协会颁发的封号，理论上已经不属于我了。\\n[charslot(slot = \"m\", name = \"avg_npc_1133_1#1$1\")]\\n[name=\"宪兵\"]我才不管那群卡西米尔人怎么想！\\n[name=\"宪兵\"]几年前，他们把您雪藏的时候，我给散华骑士团写了好几封抗议信！后来得知您退役了，我背着队长喝了好几天闷酒......\\n[charslot(slot = \"m\", name = \"avg_npc_1123_1#8$1\")]\\n[name=\"洛里斯\"]原来这就是你那阵偷懒的理由？\\n[name=\"洛里斯\"]看在贵客的分上，我就不翻这笔旧账了。\\n[charslot(slot = \"m\", name = \"avg_4098_vvana_1#1$1\")]\\n[name=\"薇薇安娜\"]您好，洛里斯·博尔丁子爵阁下。\\n[charslot(slot = \"m\", name = \"avg_npc_1123_1#8$1\")]\\n[name=\"洛里斯\"]幸会幸会。\\n[charslot(slot = \"m\", name = \"avg_npc_1123_1#1$1\")]\\n[name=\"洛里斯\"]皮姆，传令下去，这位美丽的女士是今天美术馆内唯一的客人。都到外面去守着吧，不要干扰她的行动。\\n[charslot(slot = \"m\", name = \"avg_npc_1133_1#1$1\")]\\n[name=\"宪兵\"]是......是！\\n[Dialog]\\n[PlaySound(key=\"$rungeneral\",volume=0.6)]\\n[charslot(duration=1)]\\n[delay(time=2)]\\n[charslot]\\n[charslot(slot = \"left\", name = \"avg_4098_vvana_1#1$1\",focus=\"r\")]\\n[charslot(slot = \"right\", name = \"avg_npc_1123_1#8$1\",focus=\"r\")]\\n[name=\"洛里斯\"]洛文斯坦女士同我打招呼的时候，我还没想到，女皇陛下身边竟然多了一位如此特别的使者。\\n[charslot(slot = \"left\", name = \"avg_4098_vvana_1#1$1\",focus=\"l\")]\\n[name=\"薇薇安娜\"]还请您不要声张。\\n[charslot(slot = \"right\", name = \"avg_npc_1123_1#1$1\",focus=\"r\")]\\n[name=\"洛里斯\"]请您与陛下们放心。\\n[name=\"洛里斯\"]不过......只是一个小小的意外事件，为何会惊动一位女皇的密使？\\n[charslot(slot = \"left\", name = \"avg_4098_vvana_1#4$1\",focus=\"l\")]\\n[name=\"薇薇安娜\"]意外吗......这是宪兵队的调查结果？\\n[charslot(slot = \"right\", name = \"avg_npc_1123_1#1$1\",focus=\"r\")]\\n[name=\"洛里斯\"]法医检查过了，希曼夫人确实是死于过度疲劳。\\n[name=\"洛里斯\"]据她的侍女所说，为了完成这幅作品，夫人一连好几天不眠不休，不饮不食。\\n[name=\"洛里斯\"]如此执着的艺术家精神，就算在莱塔尼亚也并不多见，真是让人不得不敬佩啊。\\n[charslot(slot = \"left\", name = \"avg_4098_vvana_1#7$1\",focus=\"l\")]\\n[name=\"薇薇安娜\"]这幅作品，对她来说一定非常重要。\\n[charslot(slot = \"right\", name = \"avg_npc_1123_1#1$1\",focus=\"r\")]\\n[name=\"洛里斯\"]希曼夫人已有二十多年没有新作问世了。\\n[name=\"洛里斯\"]她是突然决定要画这幅画，并且提前通知了美术馆，要在展出的第一天，也就是今天亲自揭幕。\\n[name=\"洛里斯\"]结果您也知道了，观众们赶到的时候，只看到希曼夫人累倒在画作前。\\n[charslot(slot = \"left\", name = \"avg_4098_vvana_1#4$1\",focus=\"l\")]\\n[name=\"薇薇安娜\"]那幅画呢？\\n[name=\"薇薇安娜\"]完成......了吗？\\n[charslot(slot = \"right\", name = \"avg_npc_1123_1#1$1\",focus=\"r\")]\\n[name=\"洛里斯\"]这个问题很难回答。\\n[name=\"洛里斯\"]女士，您最好亲眼看看那幅画。我只能说，画面内容......出人意料。\\n[PlaySound(key=\"$d_gen_walk_n\", volume=1)]\\n[Dialog]\\n[Blocker(a=1, r=0, g=0, b=0, fadetime=2, block=true)]\\n[charslot(slot = \"m\", focus = \"all\")]\\n[Blocker(a=0, r=0, g=0, b=0, fadetime=2, block=true)]\\n[PlaySound(key=\"$d_avg_paper1\",volume=0.6)]\\n[charslot(slot = \"left\", name = \"avg_4098_vvana_1#10$1\",focus=\"l\")]\\n[delay(time=1)]\\n[name=\"薇薇安娜\"]这是......画展的宣传册？\\n[name=\"薇薇安娜\"]“巫王之死”——在作品完成之前，画家本人已经给它起好名字了吗？\\n[charslot(slot = \"right\", name = \"avg_npc_1123_1#1$1\",focus=\"r\")]\\n[name=\"洛里斯\"]不瞒您说，许多观众都是冲着这个名字来的。\\n[charslot(slot = \"left\", name = \"avg_4098_vvana_1#7$1\",focus=\"l\")]\\n[name=\"薇薇安娜\"]我还以为，“巫王”的名号在莱塔尼亚不会很受欢迎。\\n[charslot(slot = \"right\", name = \"avg_npc_1123_1#1$1\",focus=\"r\")]\\n[name=\"洛里斯\"]女士，我猜您还没有在莱塔尼亚待很长时间？\\n[charslot(slot = \"left\", name = \"avg_4098_vvana_1#2$1\",focus=\"l\")]\\n[name=\"薇薇安娜\"]嗯，我前不久刚回到莱塔尼亚。\\n[charslot(slot = \"right\", name = \"avg_npc_1123_1#8$1\",focus=\"r\")]\\n[name=\"洛里斯\"]那就难怪啦。您不知道，在莱塔尼亚，与那位陛下相关的作品可太多啦。光是演绎女皇们如何奇迹般取胜的歌剧就有上百部。\\n[charslot(slot = \"left\", name = \"avg_4098_vvana_1#7$1\",focus=\"l\")]\\n[name=\"薇薇安娜\"]是我疏忽了。这些故事的真正主角，其实是女皇陛下们。\\n[charslot(slot = \"right\", name = \"avg_npc_1123_1#8$1\",focus=\"r\")]\\n[name=\"洛里斯\"]哈哈，在莱塔尼亚，创作可是自由的，这大概是......人们真情流露的结果。\\n[name=\"洛里斯\"]希曼夫人恐怕也是想借着女皇庆典的由头，将这经典题材再搬出来一次，为这场举国瞩目的盛会增光添彩吧。\\n[charslot(slot = \"left\", name = \"avg_4098_vvana_1#10$1\",focus=\"l\")]\\n[name=\"薇薇安娜\"]可您也说了，希曼夫人的这幅画，内容“出人意料”。\\n[charslot(slot = \"right\", name = \"avg_npc_1123_1#1$1\",focus=\"r\")]\\n[name=\"洛里斯\"]画作就在前面，拐个弯就到了。\\n[name=\"洛里斯\"]等您看完，我想您也会希望这是个纯粹的意外。\\n[Dialog]\\n[charslot]\\n[playsound(key=\"$d_avg_gunsingle\",volume=0.3)]\\n[delay(time=0.4)]\\n[CameraShake(duration=0.5, xstrength=7, ystrength=5, vibrato=30, randomness=90, fadeout=true, block=false)]\\n[playsound(key=\"$d_avg_windowbreak\",channel=\"2\",volume=0.6)]\\n[delay(time=1)]\\n[charslot(slot = \"m\", name = \"avg_npc_1123_1#10$1\")]\\n[name=\"洛里斯\"]......\\n[charslot(slot = \"m\", name = \"avg_4098_vvana_1#4$1\")]\\n[name=\"薇薇安娜\"]......袭击？\\n[charslot(slot = \"m\", name = \"avg_npc_1123_1#10$1\")]\\n[name=\"洛里斯\"]女士，麻烦您留在原地。\\n[charslot(slot = \"m\", name = \"avg_4098_vvana_1#2$1\")]\\n[name=\"薇薇安娜\"]我可以帮您。\\n[charslot(slot = \"m\", name = \"avg_npc_1123_1#8$1\")]\\n[name=\"洛里斯\"]说不定只是几个喝多了的小家伙在街边试自己的新法杖，何必劳烦您动手呢？\\n[charslot(duration=0.5)]\\n[Dialog]\\n[Blocker(a=1, r=0, g=0, b=0, fadetime=2, block=true)]\\n[charslot]\\n[charslot(slot = \"l\", name = \"avg_npc_1123_1#1$1\")]\\n[Background(image=\"44_g2_marigold_n\",screenadapt=\"coverall\")]\\n[Blocker(a=0, r=0, g=0, b=0, fadetime=2, block=true)]\\n[playsound(key=\"$d_avg_gunsingle\",volume=0.3)]\\n[delay(time=0.2)]\\n[playsound(key=\"$d_avg_gunsingle\",volume=0.3,channel=\"x\")]\\n[delay(time=1)]\\n[charslot(slot = \"r\", name = \"avg_npc_1133_1#1$1\",posfrom = \"150,0\", posto = \"0,0\",duration=0.5)]\\n[delay(time=1)]\\n[charslot(slot = \"r\", name = \"avg_npc_1133_1#1$1\",focus=\"r\")]\\n[name=\"宪兵\"]队长！从方位来看，袭击者就在那边的小巷子里——\\n[charslot(slot = \"l\", name = \"avg_npc_1123_1#1$1\",focus=\"l\")]\\n[name=\"洛里斯\"]找人去另一边了么？\\n[charslot(slot = \"r\", name = \"avg_npc_1133_1#1$1\",focus=\"r\")]\\n[name=\"宪兵\"]二队过去了。但人没从那里走。\\n[charslot(slot = \"l\", name = \"avg_npc_1123_1#7$1\",focus=\"l\")]\\n[name=\"洛里斯\"]......还在原地？\\n[charslot(slot = \"r\", name = \"avg_npc_1133_1#1$1\",focus=\"r\")]\\n[name=\"宪兵\"]我们都没见过这么怪的人。他肯定听见我们的脚步声了，可愣是没跑，还在试图闯进美术馆。\\n[name=\"宪兵\"]会不会有什么大麻烦？队长，你要不要多带几个人一块过去？\\n[charslot(slot = \"l\", name = \"avg_npc_1123_1#1$1\",focus=\"l\")]\\n[name=\"洛里斯\"]不用。\\n[name=\"洛里斯\"]我都说过了，不存在什么可怕的大麻烦，只有一些疯子和年轻人在通过给我们找事来发泄不满。\\n[name=\"洛里斯\"]对了，你喜欢的那位......竞技骑士小姐，她姓什么？\\n[charslot(slot = \"r\", name = \"avg_npc_1133_1#1$1\",focus=\"r\")]\\n[name=\"宪兵\"]烛......烛......德罗斯特！\\n[charslot(slot = \"l\", name = \"avg_npc_1123_1#1$1\",focus=\"l\")]\\n[name=\"洛里斯\"]......倒是从未听过的姓氏。\\n[name=\"洛里斯\"]让其他人继续追，我们先回美术馆去，确保德罗斯特小姐没有危险。\\n[name=\"洛里斯\"]像她这样的贵族小姐，又是女皇的亲信，可比美术馆里所有的作品和秘密都要金贵。\\n[stopmusic(fadetime=2)]\\n[Dialog]\\n[Blocker(a=1, r=0, g=0, b=0, fadetime=2, block=true)]\\n[charslot]\\n[delay(time=1)]\\n[charslot(slot = \"m\", name = \"avg_4098_vvana_1#2$1\")]\\n[Background(image=\"44_g5_spiralstairs\",screenadapt=\"coverall\")]\\n[Blocker(a=0, r=0, g=0, b=0, fadetime=2, block=true)]\\n[delay(time=1)]\\n[name=\"薇薇安娜\"]......\\n[Dialog]\\n[playsound(key=\"$d_avg_walk_stage\",volume=0.8)]\\n[charslot(slot = \"m\", focus = \"n\")]\\n[delay(time=2)]\\n[charslot(slot = \"m\", name = \"avg_4098_vvana_1#10$1\")]\\n[name=\"薇薇安娜\"]脚步声......？\\n[name=\"薇薇安娜\"]还有人在前面？美术馆不是已经封锁了吗？\\n[playsound(key=\"$d_gen_walk_n\",volume=0.7)]\\n[Dialog]\\n[Blocker(a=1, r=0, g=0, b=0, fadetime=2, block=true)]\\n[charslot]\\n[delay(time=1)]\\n[playMusic(intro=\"$nervous_intro\",key=\"$nervous_loop\", volume=0.6)]\\n[Image(image=\"44_i02_1\",screenadapt=\"coverall\",xScale=1.7, yScale=1.7,y=-200)]\\n[Blocker(a=0, r=0, g=0, b=0, fadetime=3, block=true)]\\n[delay(time=1)]\\n[name=\"薇薇安娜\"]这就是那幅画。\\n[name=\"薇薇安娜\"]画的是......巫王？\\n[name=\"薇薇安娜\"]不，这并不是《巫王之死》......\\n[name=\"薇薇安娜\"]这是......唔......\\n[Dialog]\\n[Image(image=\"44_i02_1\",screenadapt=\"coverall\",xScale=1.8, yScale=1.8,y=-200,fadetime=0.3)]\\n[Blocker(a=0.8, r=0, g=0, b=0, fadetime=0.3, block=true)]\\n[PlaySound(key=\"$d_gen_heartbeat\", volume=0.8,loop=\"false\", channel=\"a\")]\\n[stopsound(fadetime=1, channel=\"a\")]\\n[Image(image=\"44_i02_1\",screenadapt=\"coverall\",xScale=1.7, yScale=1.7,y=-200,fadetime=1)]\\n[Blocker(a=0, r=0, g=0, b=0, fadetime=0.6, block=true)]\\n黑色的，混乱的，无穷无尽的扭曲线条。\\n不仅是最中间那幅被命名为《巫王之死》的作品，挂在墙上的每一幅画都被人用相同的方式涂抹了一遍又一遍。\\n那些黑色螺旋就像一个又一个漩涡，几乎脱离画幅，撑满了整个空间。\\n线条像是活了过来，一股一股地扭动着钻入眼底，在大脑深处爆发成一声又一声凄厉的哭泣。\\n人的意识被拉扯着，变形，断裂，然后陷入混沌。\\n阴影在薇薇安娜身后摇曳着。她几乎控制不住源石技艺，想要自保，想要逃离。\\n这恐怖的力量甚至不需要任何具象的文字、画面或者声音去提醒。\\n它等同于这个名号本身，直白且强行地挤入了观众的认知之中，彰显着自己的含义——\\n[stopmusic(fadetime=2)]\\n“巫王”。\\n[Dialog]\\n[Blocker(a=1, r=0, g=0, b=0, fadetime=2, block=true)]\\n[Background]\\n[image]\\n[name=\"阿尔图罗\"]真是一幅很美的作品啊。\\n[Dialog]\\n[delay(time=1)]\\n[playMusic(key=\"$wasteland_loop\", volume=0.6)]\\n[Image(image=\"44_i02_1\",screenadapt=\"coverall\",xScale=1.7, yScale=1.7,y=-200)]\\n[ImageTween(yTo=-100, duration=7)]\\n[delay(time=0.5)]\\n[Blocker(a=0, r=0, g=0, b=0, fadetime=1, block=false)]\\n[Image(image=\"44_i02_2\",screenadapt=\"coverall\",xScale=2, yScale=2,y=-200,fadetime=7)]\\n[ImageTween(xScaleFrom=2, yScaleFrom=2, xScaleTo=2, yScaleTo=2,  yTo=0, duration=50)]\\n[delay(time=3)]\\n[Image(image=\"44_i02_2\",screenadapt=\"coverall\",xScale=1.4, yScale=1.4,y=-80,fadetime=1)]\\n[ImageTween(xScaleFrom=1.4, yScaleFrom=1.4, xScaleTo=1, yScaleTo=1,  yTo=0, duration=20)]\\n[delay(time=1.5)]\\n[Image(image=\"44_i02_2\",screenadapt=\"coverall\",xScale=1.2, yScale=1.2,y=-30,fadetime=1)]\\n[ImageTween(xScaleFrom=1.2, yScaleFrom=1.2, xScaleTo=1, yScaleTo=1,  yTo=0, duration=20)]\\n[delay(time=2)]\\n一个平静的声音突兀地在展厅中央响起。\\n噪音停止了，肆虐的黑色螺旋们又回到了画幅中。\\n[name=\"薇薇安娜\"]这幅画......\\n[name=\"薇薇安娜\"]明明感受不到源石技艺......可为什么......\\n[name=\"阿尔图罗\"]会影响心志的从来不止源石技艺。\\n[name=\"阿尔图罗\"]只要足够真实，画面与旋律都能够拨动人的心弦。\\n[name=\"阿尔图罗\"]请不必畏惧它，而是......去感受。\\n[name=\"薇薇安娜\"]......很强烈。\\n[name=\"薇薇安娜\"]丰沛的，深沉的情感......流淌在这些看似凌乱的笔触中。\\n[name=\"薇薇安娜\"]我很难......保持注视。\\n[name=\"阿尔图罗\"]因为您正在注视着的，是一个人的灵魂。\\n[name=\"阿尔图罗\"]她把心中的巫王，还有自己的生命，全部呈现在了画上。\\n[name=\"薇薇安娜\"]希曼夫人......与那位陛下是什么关系？\\n[name=\"阿尔图罗\"]巫王的死改变了她的一生。\\n[name=\"阿尔图罗\"]当她还是一名少女的时候，她深深地仰慕着那个王座上的男人，如同爱上一个符号，一位神明。\\n[name=\"阿尔图罗\"]然后神明在她面前倒下了。\\n[name=\"阿尔图罗\"]她很困惑，困惑于巫王为何也是凡人。她失去了爱情，丢失了自己最纯粹的情感，几乎丧失了创作的能力。\\n[name=\"阿尔图罗\"]她被......困住了。\\n[name=\"阿尔图罗\"]直到生命即将走到尽头，她才意识到这一点。\\n[name=\"薇薇安娜\"]您说起这些话的语气，仿佛您就是她一样。\\n[name=\"阿尔图罗\"]她内心深处的情感，曾与我的旋律共鸣。我走进了她的灵魂深处，听见了她的呼救声。\\n[name=\"薇薇安娜\"]呼救声......？\\n[name=\"阿尔图罗\"]到处都是。\\n[name=\"阿尔图罗\"]在这里，许多人都被困住了，被困在某一个命运转折的时刻，走在永远看不到尽头的螺旋楼梯上。\\n[name=\"阿尔图罗\"]就像......\\n[name=\"阿尔图罗\"]......您的父亲，还有您自己。\\n[Dialog]\\n[Blocker(a=0, r=0,g=0, b=0, fadetime=0, block=true)]\\n[Blocker(a=1, r=0,g=0, b=0, fadetime=3, block=true)]\\n[stopmusic(fadetime=2)]\\n[Image]\\n[charslot]\\n}}\\n{{剧情导航}}\\n本页使用的模板：\\n\\n模板:Cbox2（查看源代码）模板:Cbox2/core（查看源代码）模板:Dot（查看源代码）模板:DrName（查看源代码）模板:Fa（查看源代码）（受保护）模板:Navbox（查看源代码）（受保护）模板:Purge（查看源代码）模板:剧情导航（查看源代码）（受保护）模板:剧情模拟器（查看源代码）（受保护）微件:Data Audio（查看源代码）（受保护）微件:Data Char（查看源代码）（受保护）微件:Data Image（查看源代码）（受保护）微件:Data Link（查看源代码）（受保护）微件:Data Override（查看源代码）模块:Arguments（查看源代码）模块:Navbox（查看源代码）（受保护）返回ZT-1 清唱“晴空之歌”/BEG。\\n首页\\n复制短链接\\n支持我们\\n赞助者一览\\n反馈与建议\\n热门页面\\n\\n\\n当前活动\\n“烛照弦鸣”签到活动\\nSideStory「崔林特尔梅之金」\\n主线动画《明日方舟：冬隐归路》开播庆祝活动\\n集成战略 #4「探索者的银凇止境」\\n新增干员NEW\\n塑心\\n薇薇安娜\\n止颂\\n深律\\n折光\\n跃跃\\n干员一览\\n菜单\\n\\n通用\\n干员一览\\n敌人一览\\n道具一览\\n后勤技能\\n关卡一览\\n剧情记录\\n家具一览\\n时装回廊\\n采购中心\\n卡池一览\\n活动一览\\n公招计算\\n档案\\n画师一览\\n配音一览\\n分支一览\\n干员密录\\n干员模组\\n干员编号\\n角色真名\\n干员预告\\n干员专精\\n干员剧情一览\\n档案信息一览\\n玩法\\n危机合约\\n集成战略\\n多维合作\\n联锁竞赛\\n保全派驻\\n引航者试炼\\n生息演算\\n尖灭测试作战\\n纷争演绎\\n系统\\n基建\\n任务列表\\n邮件记录\\n首页场景\\n界面主题\\n名片头像\\n光荣之路\\n情报处理室\\n扩展\\n基础数据\\n作战机制\\n新人入门\\n贴士一览\\n词汇一览\\n制作组通讯\\n剧情角色一览\\n游戏内容前瞻\\n剧情资源概览\\n各类信息汇总\\n趣味\\n泰拉大典\\n音乐鉴赏\\n寻访模拟\\n衍生作品\\n光荣之路模拟器\\n随机页面\\n探索\\n\\nMooncell主站\\n官方网站\\n明日方舟简中服官网\\n塞壬唱片\\n泰拉记事社\\n明日方舟日服官网\\n明日方舟美服官网\\n明日方舟台服官网\\n明日方舟韩服官网\\n友情链接\\n拖把日记\\n少前百科GFwiki\\n企鹅物流数据统计\\n管理与编辑\\n\\n最近更改\\n编辑指南\\n常用代码\\n模板一览\\n贡献分数\\n收支一览\\n特殊贡献\\nLanguages\\n\\n\\n\\n日本語\\nEnglish\\n中文工具\\n取自“https://prts.wiki/w/ZT-1_清唱“晴空之歌”/BEG”\\n\\n\\n\\n\\n导航菜单\\n\\n\\n\\n个人工具\\n\\n\\n中文（中国大陆）创建账号登录\\n\\n\\n\\n\\n\\n命名空间\\n\\n\\n页面讨论\\n\\n\\n\\n\\n\\n大陆简体\\n\\n\\n\\n\\n\\n\\n\\n\\n\\n查看\\n\\n\\n阅读查看源代码查看历史\\n\\n\\n\\n\\n\\n更多\\n\\n\\n\\n\\n\\n\\n\\n\\n搜索\\n\\n\\n\\n\\n\\n\\n\\n\\n\\n\\n\\n\\n\\n\\n\\n\\n\\n\\n\\n{{#ifeq:{{FULLPAGENAME}}|首页|{{#tsl:zh|{{#Widget:CopyURL|title=复制短链接|id=sidebar|url=https://prts.wiki/id/{{PAGEID}}}}}}{{#tsl:ja|{{#Widget:CopyURL|title=短縮URL|id=sidebar|url=https://prts.wiki/id/{{PAGEID}}}}}}{{#tsl:nozhja|{{#Widget:CopyURL|title=Short URL|id=sidebar|url=https://prts.wiki/id/{{PAGEID}}}}}}|{{#ifeq:{{NAMESPACENUMBER}}|-1|{{#tsl:zh|[[首页]]}}{{#tsl:ja|[[首页|メインページ]]}}{{#tsl:nozhja|[[首页|Main page]]}}|{{#tsl:zh|[[首页]]}}{{#tsl:ja|[[首页|メインページ]]}}{{#tsl:nozhja|[[首页|Main page]]}}\\n\\n\\n\\n\\n\\n\\n\\n{{#tsl:zh|{{#Widget:CopyURL|title=复制短链接|id=sidebar|url=https://prts.wiki/id/{{PAGEID}}}}}}{{#tsl:ja|{{#Widget:CopyURL|title=短縮URL|id=sidebar|url=https://prts.wiki/id/{{PAGEID}}}}}}{{#tsl:nozhja|{{#Widget:CopyURL|title=Short URL|id=sidebar|url=https://prts.wiki/id/{{PAGEID}}}}}}}}}}\\n\\n\\n\\n\\n\\n\\n\\n{{#tsl:zh|[[PRTS:如何帮助我们完善网站#资助我们改善访问质量|支持我们]]}}{{#tsl:ja|[[PRTS:如何帮助我们完善网站#资助我们改善访问质量|Support us]]}}{{#tsl:nozhja|[[PRTS:如何帮助我们完善网站#资助我们改善访问质量|Support us]]}}\\n\\n\\n\\n\\n\\n\\n\\n{{#tsl:zh|[[PRTS:反馈与建议|反馈与建议]]}}{{#tsl:ja|[[PRTS:反馈与建议|報告·質問掲示板]]}}{{#tsl:nozhja|[[PRTS:反馈与建议|Help and advice]]}}\\n\\n\\n\\n\\n\\n\\n\\n{{MenuSidebarAutoEvents}}\\n\\n\\n\\n\\n\\n\\n\\n\\'\\'\\'{{#tsl:zh|新增干员}}{{#tsl:ja|新オペレーター}}{{#tsl:nozhja|New Operators}}<span style=\"padding-left:10px;\"><span style=\"font-size:10px;color: #ffffff;background-color:red;padding-right: 4px;padding-left: 4px;border-radius: 3px;text-shadow: 0 0 2px rgb(0 0 0 / 40%);font-weight:bold\">NEW</span></span>\\'\\'\\'\\n\\n\\n\\n\\n\\n\\n\\n[[干员一览|{{#tsl:zh|干员一览}}{{#tsl:ja|オペレーター一覧}}{{#tsl:nozhja|Operators}}]]\\n\\n\\n\\n\\n\\n\\n\\n\\'\\'\\'{{#tsl:zh|通用}}{{#tsl:ja|基礎}}{{#tsl:nozhja|General}}\\'\\'\\'\\n\\n\\n干员一览]]敌人一览]]道具一览]]后勤技能]]关卡一览]]剧情记录]]家具一览]]时装回廊]]采购中心]]卡池一览]]活动一览]]\\n\\n\\n\\n\\n\\'\\'\\'{{#tsl:zh|档案}}{{#tsl:ja|資料}}{{#tsl:nozhja|Information}}\\'\\'\\'\\n\\n\\n画师一览]]配音一览]]分支一览]]干员密录]]干员模组]]干员编号]]角色真名]]干员预告]]干员专精]]干员剧情一览]]档案信息一览]]\\n\\n\\n\\n\\n\\'\\'\\'{{#tsl:zh|玩法}}{{#tsl:ja|ゲームモード}}{{#tsl:nozhja|Game Mode}}\\'\\'\\'\\n\\n\\n危机合约]]集成战略]]多维合作]]联锁竞赛]]保全派驻]]引航者试炼]]生息演算]]\\n\\n\\n\\n\\n\\'\\'\\'{{#tsl:zh|系统}}{{#tsl:ja|システム}}{{#tsl:nozhja|System}}\\'\\'\\'\\n\\n\\n基建]]任务列表]]邮件记录]]首页场景]]名片头像]]光荣之路]]情报处理室]]\\n\\n\\n\\n\\n\\'\\'\\'{{#tsl:zh|扩展}}{{#tsl:ja|詳細}}{{#tsl:nozhja|Expansion}}\\'\\'\\'\\n\\n\\n基础数据]]作战机制]]新人入门]]贴士一览]]词汇一览]]制作组通讯]]剧情角色一览]]游戏内容前瞻]]剧情资源概览]]各类信息汇总]]\\n\\n\\n\\n\\n\\'\\'\\'{{#tsl:zh|趣味}}{{#tsl:ja|その他}}{{#tsl:nozhja|Funny}}\\'\\'\\'\\n\\n\\n泰拉大典]]音乐鉴赏]]寻访模拟]]衍生作品]]光荣之路模拟器]]\\n\\n\\n\\n\\n[[特殊:随机|{{#tsl:zh|随机页面}}{{#tsl:ja|おまかせ表示}}{{#tsl:nozhja|Random Page}}]]\\n\\n\\n\\n\\n\\n\\n\\n\\'\\'\\'{{#tsl:zh|官方网站}}{{#tsl:ja|公式サイト}}{{#tsl:nozhja|Offical Website}}\\'\\'\\'\\n\\n\\n\\n\\n\\n\\n\\n\\'\\'\\'{{#tsl:zh|友情链接}}{{#tsl:ja|相互リンク}}{{#tsl:nozhja|Link Exchange}}\\'\\'\\'\\n\\n\\n\\n\\n\\n\\n\\n[[特殊:最近更改|{{#tsl:zh|最近更改}}{{#tsl:ja|最近の更新}}{{#tsl:nozhja|Recent Changes}}]]\\n\\n\\n\\n\\n\\n\\n\\n[[PRTS:编辑指南|{{#tsl:zh|编辑指南}}{{#tsl:ja|編集のガイドライン}}{{#tsl:nozhja|Edit Guideline}}]]\\n\\n\\n\\n\\n\\n\\n\\n[[PRTS:常用代码|{{#tsl:zh|常用代码}}{{#tsl:ja|マークアップ早見表}}{{#tsl:nozhja|Useful Codes}}]]\\n\\n\\n\\n\\n\\n\\n\\n[[:分类:PRTS模板|{{#tsl:zh|模板一览}}{{#tsl:ja|テンプレート一覧}}{{#tsl:nozhja|Templates Overview}}]]\\n\\n\\n\\n\\n\\n\\n\\n[[特殊:贡献得分|{{#tsl:zh|贡献分数}}{{#tsl:ja|貢献得点}}{{#tsl:nozhja|Contribution Scores}}]]\\n\\n\\n\\n\\n\\n\\n\\n[[PRTS:收支一览|{{#tsl:zh|收支一览}}{{#tsl:ja|収支報告}}{{#tsl:nozhja|Balance Overview}}]]\\n\\n\\n\\n\\n\\n\\n\\n{{#Widget:LangSwitcher|langCode=ja|lang=日本語}}\\n\\n\\n\\n\\n\\n\\n\\n{{#Widget:LangSwitcher|langCode=en|lang=English}}\\n\\n\\n\\n\\n\\n\\n\\n{{#Widget:LangSwitcher|langCode=zh-cn|lang=中文}}\\n\\n\\n\\n\\n\\n\\n\\n工具\\n\\n\\n链入页面相关更改特殊页面页面信息页面值\\n\\n\\n\\n\\n\\n\\n\\n\\n隐私政策\\n关于PRTS\\n免责声明\\n京ICP备20024624号-1\\n手机版视图\\n\\n\\n\\n\\n\\n\\n\\n\\n', metadata={'source': 'https://prts.wiki/index.php?title=ZT-1_%E6%B8%85%E5%94%B1%E2%80%9C%E6%99%B4%E7%A9%BA%E4%B9%8B%E6%AD%8C%E2%80%9D/BEG&action=edit', 'title': '查看“ZT-1 清唱“晴空之歌”/BEG”的源代码 - PRTS - 玩家共同构筑的明日方舟中文Wiki', 'language': 'zh-Hans-CN'})]"
      ]
     },
     "execution_count": 9,
     "metadata": {},
     "output_type": "execute_result"
    }
   ],
   "source": [
    "res"
   ]
  },
  {
   "cell_type": "code",
   "execution_count": null,
   "id": "894a5cf9-338b-48d4-a54e-236ed3ad5edd",
   "metadata": {},
   "outputs": [],
   "source": []
  }
 ],
 "metadata": {
  "kernelspec": {
   "display_name": "Python 3 (ipykernel)",
   "language": "python",
   "name": "python3"
  },
  "language_info": {
   "codemirror_mode": {
    "name": "ipython",
    "version": 3
   },
   "file_extension": ".py",
   "mimetype": "text/x-python",
   "name": "python",
   "nbconvert_exporter": "python",
   "pygments_lexer": "ipython3",
   "version": "3.11.5"
  }
 },
 "nbformat": 4,
 "nbformat_minor": 5
}
