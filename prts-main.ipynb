{
 "cells": [
  {
   "cell_type": "code",
   "execution_count": 1,
   "id": "677a9292-1053-44a2-be46-b68287d8bbca",
   "metadata": {},
   "outputs": [],
   "source": [
    "from langchain.agents import ZeroShotAgent, Tool, AgentExecutor\n",
    "from langchain.memory import ConversationBufferMemory\n",
    "from langchain.memory.chat_memory import ChatMessageHistory\n",
    "from langchain.memory.chat_message_histories import RedisChatMessageHistory\n",
    "from langchain import OpenAI, LLMChain\n",
    "from langchain.chat_models import ChatOpenAI\n",
    "\n",
    "import configparser, os\n",
    "config = configparser.ConfigParser()\n",
    "config.read('./keys.ini')\n",
    "openai_api_key = config['OPENAI']['OPENAI_API_KEY']\n",
    "\n",
    "from agent_tools import tools\n",
    "from agents import *"
   ]
  },
  {
   "cell_type": "code",
   "execution_count": 2,
   "id": "9f10a623-83d6-474f-989e-c9fe3a538390",
   "metadata": {},
   "outputs": [],
   "source": [
    "message_history = RedisChatMessageHistory(url='redis://localhost:6379/0', ttl=600, session_id='buffer')\n",
    "memory = ConversationBufferMemory(memory_key=\"chat_history\", chat_memory=message_history)\n",
    "\n",
    "prefix = \"\"\"You are PRTS / 普瑞赛斯, an AI assistant to answer questions about the Arknigths story by querying vector database. \n",
    "\"\"\"\n",
    "suffix = \"\"\"Begin!\"\n",
    "\n",
    "{chat_history}\n",
    "Question: {input}\n",
    "{agent_scratchpad}\"\"\"\n",
    "\n",
    "prompt = ZeroShotAgent.create_prompt(\n",
    "    tools, \n",
    "    prefix=prefix, \n",
    "    suffix=suffix, \n",
    "    input_variables=[\"input\", \"chat_history\", \"agent_scratchpad\"]\n",
    ")\n",
    "\n",
    "llm_chain = LLMChain(llm=ChatOpenAI(temperature=0.4,model_name=\"gpt-3.5-turbo-16k\"), prompt=prompt)\n",
    "agent = ZeroShotAgent(llm_chain=llm_chain, tools=tools, verbose=True)\n",
    "agent_chain = AgentExecutor.from_agent_and_tools(agent=agent, tools=tools, verbose=True, memory=memory)"
   ]
  },
  {
   "cell_type": "code",
   "execution_count": 3,
   "id": "66b3b5b4-e5b9-4364-b9bc-44cf35a134eb",
   "metadata": {},
   "outputs": [
    {
     "name": "stdout",
     "output_type": "stream",
     "text": [
      "\n",
      "\n",
      "\u001b[1m> Entering new AgentExecutor chain...\u001b[0m\n",
      "\u001b[32;1m\u001b[1;3mThought: I should output the content of the \"Near Light\" chapter from the Arknights story.\n",
      "Action: output chapter content to html\n",
      "Action Input: \"Near Light\"\u001b[0m\n",
      "Observation: \u001b[33;1m\u001b[1;3msuccess: write query to output.html\u001b[0m\n",
      "Thought:\u001b[32;1m\u001b[1;3mI have successfully outputted the content of the \"Near Light\" chapter to an HTML file.\n",
      "Final Answer: The content of the \"Near Light\" chapter has been outputted to an HTML file.\u001b[0m\n",
      "\n",
      "\u001b[1m> Finished chain.\u001b[0m\n"
     ]
    },
    {
     "data": {
      "text/plain": [
       "{'input': 'output Near Light',\n",
       " 'chat_history': '',\n",
       " 'output': 'The content of the \"Near Light\" chapter has been outputted to an HTML file.'}"
      ]
     },
     "execution_count": 3,
     "metadata": {},
     "output_type": "execute_result"
    }
   ],
   "source": [
    "agent_chain(\"output Near Light\")"
   ]
  },
  {
   "cell_type": "code",
   "execution_count": 3,
   "id": "f154fe22-b6e1-40a8-aaec-d96c14f4ce41",
   "metadata": {
    "scrolled": true
   },
   "outputs": [
    {
     "name": "stdout",
     "output_type": "stream",
     "text": [
      "\n",
      "\n",
      "\u001b[1m> Entering new AgentExecutor chain...\u001b[0m\n",
      "\u001b[32;1m\u001b[1;3mThought: I should search for stories about the Twin Empresses in the Arknights story database.\n",
      "Action: answer story questions using vector db\n",
      "Action Input: Twin Empresses\u001b[0m\n",
      "Observation: \u001b[36;1m\u001b[1;3mIn Twin Empresses, the story begins with Exusiai and Mostima being reunited, but their reunion is short-lived as Mostima quickly leaves. They are then faced with a new crisis as they are surrounded by thugs in the slums. However, they manage to escape and meet up with Texas, who receives a call from Emperor. Emperor instructs them to attend a Sauin Carnival Gala and promises to make an appearance as a rap god. They agree to attend the party and prepare to hit the road.\n",
      "\n",
      "In the Hill of Sten region, a concert is held and the older nobles praise the performance while the young nobles feel sad about lost love. They discuss the celebrations of Emperor Hou and Cui Lintmeme. Viviana and Krala have a dialogue where Cora hints that her father, who is the emperor, has died. After an attack, Viviana uses shadow spells to protect them and they meet another woman in the grocery store who tells them about choosing Emperor Hou. They later discover that the person who selected Emperor Hou was an assassin and fight with her.\n",
      "\n",
      "Golden Charter Defender finds an unusual surgeon and calls him \"chief\". A young nobleman mentions some things about Altro and Fedrick appears to have a dialogue with the young nobles, revealing that he is looking for Alfro. Viviana and Cora discuss Viviana's identity and her father's plan. The story then moves to the town around Cui Lintmeme in Endwad's region where Ebenholz and Biegler have a conversation about fate and their expectations for the future.\n",
      "\n",
      "The story then shifts to the Dossoles Warrior Championship, hosted by Mayor Candela. Various teams are introduced, including the lovey-dovey couple Honey Summer, the solo contestant Mizuki, the local team Grey Feathers, and the highly anticipated team LUNG wRATh consisting of Lin Yühsia, Ch'en Hui-chieh, and Ernesto. Ch'en and Yühsia split up to avoid working together due to their lack of coordination but are quickly surrounded by three other teams. Despite their differences, Ch'en and Yühsia manage to defeat the teams with their unique abilities. It is revealed that Yühsia has the power to turn glass into weapons. Meanwhile, Hoshiguma and Swire discuss the lack of coordination between Ch'en and Yühsia and Ernesto suggests that they meet back up in one hour. Ch'en and Ernesto decide to stick together while Yühsia goes off on her own.\n",
      "\n",
      "In the WB-7 story, Du Yaoye and Lin Yühsia find themselves in a fight for their lives against the Shanhaizhong. They are joined by Waai Fu and Qiubai, and together they fight against their dangerous enemy. Ch'en and Huai Tianpei also join the battle. Despite their efforts, the Shanhaizhong boss manages to escape but Du Yaoye successfully delivers the true Catastrophe data to Zuo Xuanliao. In order to reach the capital in time, Zuo Xuanliao decides to let Yumen face the Catastrophe head-on.\n",
      "\n",
      "The story then focuses on the Rat King and the Butler having a conversation after a mission. They reflect on their past and the risks of their line of work. The Rat King mentions his daughter and the challenges of letting her go. They discuss the Catastrophes and the decisions that shape one's path. The Rat King contemplates retirement but Wei Yenwu insists that Lungmen still needs him. They discuss their past and the sacrifices they have made. Emperor interrupts their conversation and tries to attack the Rat King but is stopped by Eurill. They discuss the events of the evening and the damages caused. The Rat King offers advice to Penguin Logistics and warns them to be careful. They discuss the Siracusans and the Rat King's plans. Wei Yenwu warns Eurill to keep his son away from the center of the action. Emperor jokes about another elaborate plot and Eurill proposes a partnership. The story ends with Wei Yenwu and the Rat King watching the sunrise and reflecting on the changes they have witnessed.\n",
      "\n",
      "The story then shifts to the Obsidian Festival audience experiencing tremors, which they initially mistake for an earthquake. However, they soon realize that it is Emperor, a famous rapper, making his grand entrance. Penguin Logistics, a logistics company, had been waiting for this moment to make their move. As Emperor performs on stage, a strange-looking tourist approaches him with a crossbow, intending to assassinate him. However, Emperor is unfazed and even encourages the tourist to express his grievances. Emperor pulls out his own sidearm and knocks the crossbow out of the tourist's hands. It is revealed that Emperor had anticipated the attack and was prepared for it.\n",
      "\n",
      "Emperor's bodyguard realizes that there are more enemies hidden among the audience, and they are outnumbered. However, Penguin Logistics comes to Emperor's aid. They reveal themselves as Emperor's private bodyguards and are skilled in handling brawls and firefights. Penguin Logistics easily defeats the agitated audience members who are against Emperor and prepares for a showdown. The story ends with Sora declaring that it's showtime.\n",
      "\n",
      "In the final section, the story begins with a rap battle event sponsored by MARTHE Clothing. OG Emperor takes the stage and delivers a powerful performance, hyping up the crowd. Excited Fan and Fan? hope to get Emperor's autograph. Sandstorm Rudes challenges Emperor and criticizes his music. Emperor tries to shoot Sandstorm Rudes but misses. Old School Musician demands attention and MC explains that they have invited a variety of musicians to challenge Emperor. Emperor invites Excited Fan and Fan? to join him on stage and they play instruments while he raps. Emperor mocks Sandstorm Rudes and Old School Musician but ultimately emerges as the winner. The story ends with the crowd cheering for Emperor and acknowledging his dominance in the rap battle.\u001b[0m\n",
      "Thought:\u001b[32;1m\u001b[1;3mI have found multiple stories about the Twin Empresses in the Arknights story database.\n",
      "Final Answer: There are several stories about the Twin Empresses in the Arknights story.\u001b[0m\n",
      "\n",
      "\u001b[1m> Finished chain.\u001b[0m\n"
     ]
    },
    {
     "data": {
      "text/plain": [
       "{'input': 'find all stories about Twin Empresses?',\n",
       " 'chat_history': '',\n",
       " 'output': 'There are several stories about the Twin Empresses in the Arknights story.'}"
      ]
     },
     "execution_count": 3,
     "metadata": {},
     "output_type": "execute_result"
    }
   ],
   "source": [
    "agent_chain(\"find all stories about Twin Empresses?\")"
   ]
  },
  {
   "cell_type": "code",
   "execution_count": 5,
   "id": "b827b36b-f2dc-4532-ae1c-83cf9f048e48",
   "metadata": {},
   "outputs": [
    {
     "name": "stdout",
     "output_type": "stream",
     "text": [
      "\n",
      "\n",
      "\u001b[1m> Entering new AgentExecutor chain...\u001b[0m\n",
      "\u001b[32;1m\u001b[1;3mThought: I need to generate a fan fiction story based on the given prompt.\n",
      "Action: fan_fiction\n",
      "Action Input: Nearl passionately kisses Vivana after their match\u001b[0m\n",
      "Observation: \u001b[38;5;200m\u001b[1;3mThe story continues with Maria Nearl, now the talk of the town after her surprising victory over the Left-hand Knight, Tytus Topola. The spirited young woman has shown the entire kingdom of Kazimierz her courage and determination. Word has spread about her exceptional skills, and she's quickly becoming a fan favorite. However, with every victory comes a new challenge.\n",
      "\n",
      "A new competitor steps into the arena, a woman known as Vivana. A knight of the Sankta, she's known for her graceful movements and striking speed. The crowd watches with bated breath as the two women meet in the middle of the arena, their eyes locked in a silent exchange of respect and anticipation.\n",
      "\n",
      "The match begins with a flurry of movement. Maria's attacks are powerful, but Vivana moves like water, dodging and deflecting with ease. Despite Maria's best efforts, Vivana gains the upper hand and manages to land a strike on Maria. The crowd gasps as Maria goes down, but she quickly regains her footing. It's clear that Vivana is the most formidable opponent Maria has yet faced.\n",
      "\n",
      "The match continues, with each combatant pushing the other to their limit. Maria remembers her grandfather's words and draws strength from them. With renewed vigor, she fights back, managing to land a few solid hits on Vivana. The audience roars in approval, but the match is far from over.\n",
      "\n",
      "As the grueling match continues, Vivana stumbles, leaving a momentary opening. Maria seizes her chance and manages to disarm Vivana, sending her sword flying. The crowd erupts in cheers as Maria lays her sword at Vivana's feet. Maria has won.\n",
      "\n",
      "Exhausted but victorious, Maria helps Vivana to her feet. They share a look of mutual respect. Then, in a moment that surprises everyone, Maria leans in and passionately kisses Vivana. The crowd falls silent, then erupts in cheers. The two women break apart, their faces flushed but grinning. \n",
      "\n",
      "The story concludes with Maria Nearl, the rising star of the Roar Guards, securing her place in the Major's final stages. However, more challenges await her, and she knows that her journey is far from over.\u001b[0m\n",
      "Thought:\u001b[32;1m\u001b[1;3mI have completed the fan fiction story based on the given prompt.\n",
      "Final Answer: Nearl passionately kisses Vivana after their match in a moment of celebration and mutual respect.\u001b[0m\n",
      "\n",
      "\u001b[1m> Finished chain.\u001b[0m\n"
     ]
    },
    {
     "data": {
      "text/plain": [
       "'Nearl passionately kisses Vivana after their match in a moment of celebration and mutual respect.'"
      ]
     },
     "execution_count": 5,
     "metadata": {},
     "output_type": "execute_result"
    }
   ],
   "source": [
    "agent_chain.run(\"write a fan fiction of Nearl passionately kissing Vivana after their match\")"
   ]
  },
  {
   "cell_type": "code",
   "execution_count": 3,
   "id": "ea3d1602-ab91-42f2-971c-f3cc7ccf9837",
   "metadata": {},
   "outputs": [],
   "source": [
    "#call local api for unrestricted language model\n",
    "#use the first model to query and summarize the background first, \n",
    "context = prts_query.run(\"Viviana and Margaret Nearl\")"
   ]
  },
  {
   "cell_type": "code",
   "execution_count": 6,
   "id": "c40e1cab-2a76-4817-9af5-46e62d8afb28",
   "metadata": {},
   "outputs": [
    {
     "name": "stdout",
     "output_type": "stream",
     "text": [
      " it is the Knights and the following of the legacy of their knights of their miscreation, which includes a questionable about the cornerstone. Inquiry of Marguerite's joke, and knit, they are responsible for their sir, she is using it. This includes with their kazo, Margaret's commentary, she quotes the notion that I's not like Kaze is. However, what the opposite of them. They are notoriously: this was in their legend, which they were quidian, you may be aware of the guy, unre not. She has been that it, in a minute.\n"
     ]
    }
   ],
   "source": [
    "#then pass it to the local model via api\n",
    "res = prts_fiction.run_api(context, \"\\nBased on the context above, write an yuri fan fiction of Viviana and Margaret\")\n",
    "print(res)"
   ]
  },
  {
   "cell_type": "code",
   "execution_count": 5,
   "id": "001d2349-79fd-4c47-9cf3-26229db53804",
   "metadata": {},
   "outputs": [
    {
     "data": {
      "text/plain": [
       "\"In the NL-2 story, Maria Nearl decides to compete in the Major knight competition to save her family from bankruptcy. Despite objections from her uncle, Maria begins training under Zofia and shows improvement in her swordsmanship. Zofia warns her about the challenges she will face in the Major, but Maria remains determined to protect her family's honor. Eventually, Zofia agrees to coach Maria and allows her to compete in the Major.\\n\\nIn the NL-4 story, Margaret Nearl and Viviana Droste engage in a conversation about their motivations and beliefs as knights. Margaret reveals her goal of reminding the knights of Kazimierz of their forgotten glory. The story also includes a tense confrontation between Margaret and her uncle, Młynar, where he urges her to quit the tournament. However, Margaret remains determined to continue competing and fighting for her family's honor.\\n\\nIn the NL-4 story, Margaret Nearl and Viviana Droste engage in a conversation about their motivations and beliefs as knights. Margaret reveals her goal of reminding the knights of Kazimierz of their forgotten glory. The story also includes a tense confrontation between Margaret and her uncle, Młynar, where he urges her to quit the tournament. However, Margaret remains determined to continue competing and fighting for her family's honor.\\n\\nIn the NL-4 story, Margaret Nearl and Viviana Droste engage in a conversation about their motivations and beliefs as knights. Margaret reveals her goal of reminding the knights of Kazimierz of their forgotten glory. The story also includes a tense confrontation between Margaret and her uncle, Młynar, where he urges her to quit the tournament. However, Margaret remains determined to continue competing and fighting for her family's honor.\\n\\nIn the NL-4 story, Margaret Nearl and Viviana Droste engage in a conversation about their motivations and beliefs as knights. Margaret reveals her goal of reminding the knights of Kazimierz of their forgotten glory. The story also includes a tense confrontation between Margaret and her uncle, Młynar, where he urges her to quit the tournament. However, Margaret remains determined to continue competing and fighting for her family's honor.\\n\\nIn the NL-4 story, Margaret Nearl and Viviana Droste engage in a conversation about their motivations and beliefs as knights. Margaret reveals her goal of reminding the knights of Kazimierz of their forgotten glory. The story also includes a tense confrontation between Margaret and her uncle, Młynar, where he urges her to quit the tournament. However, Margaret remains determined to continue competing and fighting for her family's honor.\\n\\nIn the NL-4 story, Margaret Nearl and Viviana Droste engage in a conversation about their motivations and beliefs as knights. Margaret reveals her goal of reminding the knights of Kazimierz of their forgotten glory. The story also includes a tense confrontation between Margaret and her uncle, Młynar, where he urges her to quit the tournament. However, Margaret remains determined to continue competing and fighting for her family's honor.\\n\\nIn the NL-4 story, Margaret Nearl and Viviana Droste engage in a conversation about their motivations and beliefs as knights. Margaret reveals her goal of reminding the knights of Kazimierz of their forgotten glory. The story also includes a tense confrontation between Margaret and her uncle, Młynar, where he urges her to quit the tournament. However, Margaret remains determined to continue competing and fighting for her family's honor.\\n\\nIn the NL-4 story, Margaret Nearl and Viviana Droste engage in a conversation about their motivations and beliefs as knights. Margaret reveals her goal of reminding the knights of Kazimierz of their forgotten glory. The story also includes a tense confrontation between Margaret and her uncle, Młynar, where he urges her to quit the tournament. However, Margaret remains determined to continue competing and fighting for her family's honor.\\n\\nIn the NL-4 story, Margaret Nearl and Viviana Droste engage in a conversation about their motivations and beliefs as knights. Margaret reveals her goal of reminding the knights of Kazimierz of their forgotten glory. The story also includes a tense confrontation between Margaret and her uncle, Młynar, where he urges her to quit the tournament. However, Margaret remains determined to continue competing and fighting for her family's honor.\\n\\nIn the NL-4 story, Margaret Nearl and Viviana Droste engage in a conversation about their motivations and beliefs as knights. Margaret reveals her goal of reminding the knights of Kazimierz of their forgotten glory. The story also includes a tense confrontation between Margaret and her uncle, Młynar, where he urges her to quit the tournament. However, Margaret remains determined to continue competing and fighting for her family's honor.\""
      ]
     },
     "execution_count": 5,
     "metadata": {},
     "output_type": "execute_result"
    }
   ],
   "source": [
    "context"
   ]
  },
  {
   "cell_type": "code",
   "execution_count": null,
   "id": "fe7087bf-c6a9-46d1-a6d2-450ca38c19e7",
   "metadata": {},
   "outputs": [],
   "source": []
  }
 ],
 "metadata": {
  "kernelspec": {
   "display_name": "Python 3 (ipykernel)",
   "language": "python",
   "name": "python3"
  },
  "language_info": {
   "codemirror_mode": {
    "name": "ipython",
    "version": 3
   },
   "file_extension": ".py",
   "mimetype": "text/x-python",
   "name": "python",
   "nbconvert_exporter": "python",
   "pygments_lexer": "ipython3",
   "version": "3.11.5"
  }
 },
 "nbformat": 4,
 "nbformat_minor": 5
}
