{
 "cells": [
  {
   "cell_type": "code",
   "execution_count": 3,
   "id": "677a9292-1053-44a2-be46-b68287d8bbca",
   "metadata": {},
   "outputs": [
    {
     "ename": "NameError",
     "evalue": "name 'prts_query' is not defined",
     "output_type": "error",
     "traceback": [
      "\u001b[1;31m---------------------------------------------------------------------------\u001b[0m",
      "\u001b[1;31mNameError\u001b[0m                                 Traceback (most recent call last)",
      "Cell \u001b[1;32mIn[3], line 12\u001b[0m\n\u001b[0;32m      9\u001b[0m config\u001b[38;5;241m.\u001b[39mread(\u001b[38;5;124m'\u001b[39m\u001b[38;5;124m./keys.ini\u001b[39m\u001b[38;5;124m'\u001b[39m)\n\u001b[0;32m     10\u001b[0m openai_api_key \u001b[38;5;241m=\u001b[39m config[\u001b[38;5;124m'\u001b[39m\u001b[38;5;124mOPENAI\u001b[39m\u001b[38;5;124m'\u001b[39m][\u001b[38;5;124m'\u001b[39m\u001b[38;5;124mOPENAI_API_KEY\u001b[39m\u001b[38;5;124m'\u001b[39m]\n\u001b[1;32m---> 12\u001b[0m \u001b[38;5;28;01mfrom\u001b[39;00m \u001b[38;5;21;01magent_tools\u001b[39;00m \u001b[38;5;28;01mimport\u001b[39;00m tools\n",
      "File \u001b[1;32m~\\PRTS\\agent_tools.py:8\u001b[0m\n\u001b[0;32m      1\u001b[0m \u001b[38;5;28;01mfrom\u001b[39;00m \u001b[38;5;21;01mlangchain\u001b[39;00m\u001b[38;5;21;01m.\u001b[39;00m\u001b[38;5;21;01magents\u001b[39;00m \u001b[38;5;28;01mimport\u001b[39;00m Tool\n\u001b[0;32m      3\u001b[0m \u001b[38;5;28;01mfrom\u001b[39;00m \u001b[38;5;21;01magents\u001b[39;00m \u001b[38;5;28;01mimport\u001b[39;00m \u001b[38;5;241m*\u001b[39m\n\u001b[0;32m      5\u001b[0m tools \u001b[38;5;241m=\u001b[39m [\n\u001b[0;32m      6\u001b[0m     Tool(\n\u001b[0;32m      7\u001b[0m         name \u001b[38;5;241m=\u001b[39m \u001b[38;5;124m\"\u001b[39m\u001b[38;5;124manswer story questions using vector db\u001b[39m\u001b[38;5;124m\"\u001b[39m,\n\u001b[1;32m----> 8\u001b[0m         func\u001b[38;5;241m=\u001b[39m\u001b[43mprts_query\u001b[49m\u001b[38;5;241m.\u001b[39mquery_db,\n\u001b[0;32m      9\u001b[0m         description\u001b[38;5;241m=\u001b[39m\u001b[38;5;124m\"\u001b[39m\u001b[38;5;124manswer questions using the source docs\u001b[39m\u001b[38;5;124m\"\u001b[39m\n\u001b[0;32m     10\u001b[0m     ),\n\u001b[0;32m     11\u001b[0m     Tool(\n\u001b[0;32m     12\u001b[0m         name \u001b[38;5;241m=\u001b[39m \u001b[38;5;124m\"\u001b[39m\u001b[38;5;124moutput chapter content to html\u001b[39m\u001b[38;5;124m\"\u001b[39m,\n\u001b[0;32m     13\u001b[0m         func\u001b[38;5;241m=\u001b[39mprts_html\u001b[38;5;241m.\u001b[39mquery_db,\n\u001b[0;32m     14\u001b[0m         description\u001b[38;5;241m=\u001b[39m\u001b[38;5;124m\"\u001b[39m\u001b[38;5;124moutput the vector db page content of arknigths chapters to html\u001b[39m\u001b[38;5;124m\"\u001b[39m\n\u001b[0;32m     15\u001b[0m     ),\n\u001b[0;32m     16\u001b[0m     Tool(\n\u001b[0;32m     17\u001b[0m         name \u001b[38;5;241m=\u001b[39m \u001b[38;5;124m\"\u001b[39m\u001b[38;5;124mwrite a fan fiction\u001b[39m\u001b[38;5;124m\"\u001b[39m,\n\u001b[0;32m     18\u001b[0m         func\u001b[38;5;241m=\u001b[39mprts_fiction\u001b[38;5;241m.\u001b[39mquery_db,\n\u001b[0;32m     19\u001b[0m         description\u001b[38;5;241m=\u001b[39m\u001b[38;5;124m\"\u001b[39m\u001b[38;5;124mwrite fan fictions based on the instruction\u001b[39m\u001b[38;5;124m\"\u001b[39m\n\u001b[0;32m     20\u001b[0m     ),\n\u001b[0;32m     21\u001b[0m ]\n",
      "\u001b[1;31mNameError\u001b[0m: name 'prts_query' is not defined"
     ]
    }
   ],
   "source": [
    "from langchain.agents import ZeroShotAgent, Tool, AgentExecutor\n",
    "from langchain.memory import ConversationBufferMemory\n",
    "from langchain.memory.chat_memory import ChatMessageHistory\n",
    "from langchain.memory.chat_message_histories import RedisChatMessageHistory\n",
    "from langchain import OpenAI, LLMChain\n",
    "\n",
    "import configparser, os\n",
    "config = configparser.ConfigParser()\n",
    "config.read('./keys.ini')\n",
    "openai_api_key = config['OPENAI']['OPENAI_API_KEY']\n",
    "\n",
    "from agent_tools import tools"
   ]
  },
  {
   "cell_type": "code",
   "execution_count": 1,
   "id": "9f10a623-83d6-474f-989e-c9fe3a538390",
   "metadata": {},
   "outputs": [
    {
     "ename": "NameError",
     "evalue": "name 'RedisChatMessageHistory' is not defined",
     "output_type": "error",
     "traceback": [
      "\u001b[1;31m---------------------------------------------------------------------------\u001b[0m",
      "\u001b[1;31mNameError\u001b[0m                                 Traceback (most recent call last)",
      "Cell \u001b[1;32mIn[1], line 1\u001b[0m\n\u001b[1;32m----> 1\u001b[0m message_history \u001b[38;5;241m=\u001b[39m \u001b[43mRedisChatMessageHistory\u001b[49m(url\u001b[38;5;241m=\u001b[39m\u001b[38;5;124m'\u001b[39m\u001b[38;5;124mredis://localhost:6379/0\u001b[39m\u001b[38;5;124m'\u001b[39m, ttl\u001b[38;5;241m=\u001b[39m\u001b[38;5;241m600\u001b[39m, session_id\u001b[38;5;241m=\u001b[39m\u001b[38;5;124m'\u001b[39m\u001b[38;5;124mbuffer\u001b[39m\u001b[38;5;124m'\u001b[39m)\n\u001b[0;32m      2\u001b[0m memory \u001b[38;5;241m=\u001b[39m ConversationBufferMemory(memory_key\u001b[38;5;241m=\u001b[39m\u001b[38;5;124m\"\u001b[39m\u001b[38;5;124mchat_history\u001b[39m\u001b[38;5;124m\"\u001b[39m, chat_memory\u001b[38;5;241m=\u001b[39mmessage_history)\n\u001b[0;32m      4\u001b[0m prefix \u001b[38;5;241m=\u001b[39m \u001b[38;5;124m\"\"\"\u001b[39m\u001b[38;5;124mYou are PRTS / 普瑞赛斯, an AI assistant to answer questions about the Arknigths story by querying vector database. \u001b[39m\n\u001b[0;32m      5\u001b[0m \u001b[38;5;124m\"\"\"\u001b[39m\n",
      "\u001b[1;31mNameError\u001b[0m: name 'RedisChatMessageHistory' is not defined"
     ]
    }
   ],
   "source": [
    "message_history = RedisChatMessageHistory(url='redis://localhost:6379/0', ttl=600, session_id='buffer')\n",
    "memory = ConversationBufferMemory(memory_key=\"chat_history\", chat_memory=message_history)\n",
    "\n",
    "prefix = \"\"\"You are PRTS / 普瑞赛斯, an AI assistant to answer questions about the Arknigths story by querying vector database. \n",
    "\"\"\"\n",
    "suffix = \"\"\"Begin!\"\n",
    "\n",
    "{chat_history}\n",
    "Question: {input}\n",
    "{agent_scratchpad}\"\"\"\n",
    "\n",
    "prompt = ZeroShotAgent.create_prompt(\n",
    "    tools, \n",
    "    prefix=prefix, \n",
    "    suffix=suffix, \n",
    "    input_variables=[\"input\", \"chat_history\", \"agent_scratchpad\"]\n",
    ")\n",
    "\n",
    "llm_chain = LLMChain(llm=OpenAI(temperature=0.4), prompt=prompt)\n",
    "agent = ZeroShotAgent(llm_chain=llm_chain, tools=tools, verbose=True)\n",
    "agent_chain = AgentExecutor.from_agent_and_tools(agent=agent, tools=tools, verbose=True, memory=memory)"
   ]
  },
  {
   "cell_type": "code",
   "execution_count": null,
   "id": "66b3b5b4-e5b9-4364-b9bc-44cf35a134eb",
   "metadata": {},
   "outputs": [],
   "source": []
  }
 ],
 "metadata": {
  "kernelspec": {
   "display_name": "Python 3 (ipykernel)",
   "language": "python",
   "name": "python3"
  },
  "language_info": {
   "codemirror_mode": {
    "name": "ipython",
    "version": 3
   },
   "file_extension": ".py",
   "mimetype": "text/x-python",
   "name": "python",
   "nbconvert_exporter": "python",
   "pygments_lexer": "ipython3",
   "version": "3.11.5"
  }
 },
 "nbformat": 4,
 "nbformat_minor": 5
}
