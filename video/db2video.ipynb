{
 "cells": [
  {
   "cell_type": "code",
   "execution_count": 1,
   "id": "bc931a3a-60dc-4dec-8664-e69b0858f82f",
   "metadata": {},
   "outputs": [
    {
     "name": "stderr",
     "output_type": "stream",
     "text": [
      "C:\\Users\\shiha\\anaconda3\\envs\\lang\\Lib\\site-packages\\torch\\nn\\utils\\weight_norm.py:30: UserWarning: torch.nn.utils.weight_norm is deprecated in favor of torch.nn.utils.parametrizations.weight_norm.\n",
      "  warnings.warn(\"torch.nn.utils.weight_norm is deprecated in favor of torch.nn.utils.parametrizations.weight_norm.\")\n"
     ]
    }
   ],
   "source": [
    "from voice import *"
   ]
  },
  {
   "cell_type": "code",
   "execution_count": 41,
   "id": "4755c8c1-504d-44dd-95f4-fdaf8420b7f8",
   "metadata": {},
   "outputs": [],
   "source": [
    "import moviepy.editor as mpy\n",
    "\n",
    "def text2audio(text:str, lang:str, target = \"./cache/audio.wav\"):\n",
    "    #audio from text\n",
    "    text = text.replace('\\r', ' ').replace('\\n', ' ')\n",
    "    o3, o4 = tts_fn(text, lang = lang)\n",
    "    from scipy.io.wavfile import write\n",
    "    write(target,o4[0],o4[1])\n",
    "\n",
    "def text2video(text:str, lang:str, target = \"./cache/audio.wav\", title = \"      \"):\n",
    "    #make audio\n",
    "    text2audio(text, lang = lang, target = target);\n",
    "    audio = mpy.AudioFileClip(target)\n",
    "    #make text\n",
    "    if lang == \"cn\":\n",
    "        txt_clip  = mpy.TextClip(text, fontsize = 20, color = \"white\", font = \"Microsoft-YaHei-&-Microsoft-YaHei-UI\")\n",
    "    else:\n",
    "        txt_clip  = mpy.TextClip(text, fontsize = 20, color = \"white\")\n",
    "    txt_clip = txt_clip.set_pos('bottom').set_duration(audio.duration)\n",
    "    title_clip  = mpy.TextClip(title, fontsize = 40, color = \"black\")\n",
    "    title_clip = title_clip.set_pos('top').set_duration(audio.duration)\n",
    "    #make video\n",
    "    clip = mpy.ImageClip(\"./cache/img.png\")\n",
    "    clip = clip.set_duration(audio.duration)\n",
    "    clip.audio = audio\n",
    "    clip  = mpy.CompositeVideoClip([clip, txt_clip, title_clip])\n",
    "    clip.fps = 12\n",
    "    #clip.write_videofile(\"video.mp4\");\n",
    "    return(clip)\n",
    "\n",
    "def json2video(json:list, lang = \"cn\", output = \"./cache/video.mp4\"):\n",
    "    videos = []\n",
    "    for l in json:\n",
    "        if l['cg'] != \"\":\n",
    "            #get cg\n",
    "            import wget\n",
    "            wget.download(l['cg'], out=\"./cache/img.png\")\n",
    "            #split text\n",
    "            text = l['summary']\n",
    "            split = text.replace('。','.').split('.')\n",
    "            clips = []\n",
    "            for s in split:\n",
    "                if len(s) > 5:\n",
    "                    clips.append(text2video(text = s, lang = lang, title = l['stage']))\n",
    "            videos.append(mpy.concatenate_videoclips(clips, method=\"compose\"))\n",
    "    concat_clip = mpy.concatenate_videoclips(videos, method=\"compose\")\n",
    "    concat_clip.write_videofile(output)\n",
    "\n",
    "#output chapter content to html\n",
    "def run(query:str, output = \"./cache/video.mp4\", path=\"../db/cndb\"):\n",
    "    import chromadb\n",
    "    client = chromadb.PersistentClient(path=path)\n",
    "    db = client.get_collection(\"langchain\")\n",
    "    data = db.get()\n",
    "    tmp = []\n",
    "    for k in range(len(data[\"ids\"])):\n",
    "        if query in data[\"metadatas\"][k][\"stage\"]:\n",
    "            this = {\"stage\": data[\"metadatas\"][k][\"stage\"], \n",
    "                    \"summary\": data[\"documents\"][k],\n",
    "                    \"cg\": data[\"metadatas\"][k][\"cg\"],\n",
    "                   }\n",
    "            tmp.append(this);\n",
    "    json2video(json = tmp)\n",
    "\n"
   ]
  },
  {
   "cell_type": "code",
   "execution_count": 42,
   "id": "985e91e2-fb25-4f11-bd27-5a998d9a2e8f",
   "metadata": {},
   "outputs": [
    {
     "name": "stdout",
     "output_type": "stream",
     "text": [
      "100% [............................................................................] 606386 / 606386Moviepy - Building video ./cache/video.mp4.\n",
      "MoviePy - Writing audio in videoTEMP_MPY_wvf_snd.mp3\n"
     ]
    },
    {
     "name": "stderr",
     "output_type": "stream",
     "text": [
      "                                                                                                                       \r"
     ]
    },
    {
     "name": "stdout",
     "output_type": "stream",
     "text": [
      "MoviePy - Done.\n",
      "Moviepy - Writing video ./cache/video.mp4\n",
      "\n"
     ]
    },
    {
     "name": "stderr",
     "output_type": "stream",
     "text": [
      "                                                                                                                       "
     ]
    },
    {
     "name": "stdout",
     "output_type": "stream",
     "text": [
      "Moviepy - Done !\n",
      "Moviepy - video ready ./cache/video.mp4\n"
     ]
    },
    {
     "name": "stderr",
     "output_type": "stream",
     "text": [
      "\r"
     ]
    }
   ],
   "source": [
    "run(\"13-22\")"
   ]
  },
  {
   "cell_type": "code",
   "execution_count": 14,
   "id": "d5edec66-86b8-46d8-9634-8882c4a89186",
   "metadata": {},
   "outputs": [],
   "source": [
    "import chromadb\n",
    "query = \"13-22\"\n",
    "path=\"../db/cndb\"\n",
    "client = chromadb.PersistentClient(path=path)\n",
    "db = client.get_collection(\"langchain\")\n",
    "data = db.get()\n",
    "tmp = []\n",
    "for k in range(len(data[\"ids\"])):\n",
    "    if query in data[\"metadatas\"][k][\"stage\"]:\n",
    "        this = {\"stage\": data[\"metadatas\"][k][\"stage\"], \n",
    "                \"summary\": data[\"documents\"][k],\n",
    "                \"cg\": data[\"metadatas\"][k][\"cg\"],\n",
    "               }\n",
    "        tmp.append(this);\n",
    "\n"
   ]
  },
  {
   "cell_type": "code",
   "execution_count": 34,
   "id": "4a108809-b2e2-4310-b9a4-a3cbc1a66de0",
   "metadata": {},
   "outputs": [
    {
     "data": {
      "text/plain": [
       "'故事的第一部分发生在一个帐篷内，有两个人物在对话'"
      ]
     },
     "execution_count": 34,
     "metadata": {},
     "output_type": "execute_result"
    }
   ],
   "source": [
    "text = tmp[0]['summary']\n",
    "text.split('。')[0]"
   ]
  },
  {
   "cell_type": "code",
   "execution_count": 38,
   "id": "e237d07f-6d4f-40ae-b299-a15ae1b8be6b",
   "metadata": {},
   "outputs": [
    {
     "name": "stdout",
     "output_type": "stream",
     "text": [
      "Moviepy - Building video video.mp4.\n",
      "MoviePy - Writing audio in videoTEMP_MPY_wvf_snd.mp3\n"
     ]
    },
    {
     "name": "stderr",
     "output_type": "stream",
     "text": [
      "                                                                                                                       \r"
     ]
    },
    {
     "name": "stdout",
     "output_type": "stream",
     "text": [
      "MoviePy - Done.\n",
      "Moviepy - Writing video video.mp4\n",
      "\n"
     ]
    },
    {
     "name": "stderr",
     "output_type": "stream",
     "text": [
      "                                                                                                                       "
     ]
    },
    {
     "name": "stdout",
     "output_type": "stream",
     "text": [
      "Moviepy - Done !\n",
      "Moviepy - video ready video.mp4\n"
     ]
    },
    {
     "name": "stderr",
     "output_type": "stream",
     "text": [
      "\r"
     ]
    }
   ],
   "source": [
    "clip = text2video(text.split('。')[0],lang='cn',title=tmp[0]['stage'])\n",
    "clip.write_videofile(\"video.mp4\");"
   ]
  },
  {
   "cell_type": "code",
   "execution_count": null,
   "id": "ae0a681e-e5f0-473b-9ae2-049d2b9524ae",
   "metadata": {},
   "outputs": [],
   "source": []
  }
 ],
 "metadata": {
  "kernelspec": {
   "display_name": "Python 3 (ipykernel)",
   "language": "python",
   "name": "python3"
  },
  "language_info": {
   "codemirror_mode": {
    "name": "ipython",
    "version": 3
   },
   "file_extension": ".py",
   "mimetype": "text/x-python",
   "name": "python",
   "nbconvert_exporter": "python",
   "pygments_lexer": "ipython3",
   "version": "3.11.5"
  }
 },
 "nbformat": 4,
 "nbformat_minor": 5
}
