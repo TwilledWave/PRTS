{
 "cells": [
  {
   "cell_type": "code",
   "execution_count": 2,
   "id": "bc931a3a-60dc-4dec-8664-e69b0858f82f",
   "metadata": {},
   "outputs": [],
   "source": [
    "from voice import *\n",
    "from voiceEN import *"
   ]
  },
  {
   "cell_type": "code",
   "execution_count": 1,
   "id": "4755c8c1-504d-44dd-95f4-fdaf8420b7f8",
   "metadata": {
    "jupyter": {
     "source_hidden": true
    }
   },
   "outputs": [],
   "source": [
    "import moviepy.editor as mpy\n",
    "from moviepy.audio.AudioClip import AudioArrayClip\n",
    "\n",
    "def audio_fadein(clips,fade_in = 0.05):\n",
    "    final_clips = [\n",
    "        clip.audio_fadein(fade_in).audio_fadeout(fade_in)\n",
    "        for clip in clips\n",
    "    ]\n",
    "    return(final_clips)\n",
    "\n",
    "def text2audio(text:str, lang:str, audio = \"./cache/audio/1.wav\"):\n",
    "    #audio from text\n",
    "    text = text.replace('\\r', ' ').replace('\\n', ' ')\n",
    "    if lang == \"en\":\n",
    "        tts.tts_to_file(text=text, file_path=audio)\n",
    "    else:\n",
    "        o3, o4 = tts_fn(text, lang = lang)\n",
    "        from scipy.io.wavfile import write\n",
    "        write(audio,o4[0],o4[1])\n",
    "    return()\n",
    "\n",
    "def text2video(text:str, lang:str, title = \"      \", folder = \"./cache/\", prefix = \"1\", img = \"\"):\n",
    "    #make audio\n",
    "    o4 = text2audio(text, lang = lang, audio = folder+\"audio/\"+prefix+\".wav\");\n",
    "    audio = mpy.AudioFileClip(folder+\"audio/\"+prefix+\".wav\")\n",
    "    #audio = AudioArrayClip(o4[1],fps = o4[0])\n",
    "    #make text\n",
    "    if lang == \"cn\":\n",
    "        txt_clip  = mpy.TextClip(text, fontsize = 10, color = \"white\", font = \"Microsoft-YaHei-&-Microsoft-YaHei-UI\")\n",
    "    elif lang == \"jp\":\n",
    "        txt_clip  = mpy.TextClip(text, fontsize = 10, color = \"white\", font = \"wqy-microhei.ttc\")\n",
    "    else:\n",
    "        txt_clip  = mpy.TextClip(text, fontsize = 10, color = \"white\")\n",
    "    txt_clip = txt_clip.set_pos('center').set_duration(audio.duration)\n",
    "    title_clip  = mpy.TextClip(title, fontsize = 40, color = \"black\")\n",
    "    title_clip = title_clip.set_pos('top').set_duration(audio.duration)\n",
    "    #make video\n",
    "    clip = mpy.ImageClip(img)\n",
    "    clip = clip.set_duration(audio.duration)\n",
    "    clip.audio = audio\n",
    "    clip  = mpy.CompositeVideoClip([clip, txt_clip, title_clip])\n",
    "    clip.fps = 12\n",
    "    #clip.write_videofile(\"./cache/clip.mp4\");\n",
    "    return(clip)\n",
    "\n",
    "def json2video(json:list, lang = \"cn\", output = \"./cache/video.mp4\"):\n",
    "    videos = []\n",
    "    count = 0;\n",
    "    for l in json:\n",
    "        if l['cg'] != \"\":\n",
    "            #get cg\n",
    "            import wget\n",
    "            img = \"./cache/img\"+str(count+1)+\".png\"\n",
    "            wget.download(l['cg'], out=img)\n",
    "            #split text\n",
    "            text = l['summary']\n",
    "            split = text.replace('。','.').split('.')\n",
    "            clips = []\n",
    "            for s in split:\n",
    "                if len(s) > 5:\n",
    "                    count = count + 1;\n",
    "                    clips.append(text2video(text = s, lang = lang, title = l['stage'], prefix = str(count), img = img))\n",
    "            clips = audio_fadein(clips)\n",
    "            videos.append(mpy.concatenate_videoclips(clips, method=\"compose\"))\n",
    "    videos = audio_fadein(videos)\n",
    "    concat_clip = mpy.concatenate_videoclips(videos, method=\"compose\")\n",
    "    concat_clip.write_videofile(output)\n",
    "\n",
    "#output chapter content to html\n",
    "def run(query:str, output = \"./cache/video.mp4\", path=\"../db/cndb\", lang = \"cn\"):\n",
    "    import chromadb\n",
    "    client = chromadb.PersistentClient(path=path)\n",
    "    db = client.get_collection(\"langchain\")\n",
    "    data = db.get()\n",
    "    tmp = []\n",
    "    for k in range(len(data[\"ids\"])):\n",
    "        if query in data[\"metadatas\"][k][\"stage\"]:\n",
    "            this = {\"stage\": data[\"metadatas\"][k][\"stage\"], \n",
    "                    \"summary\": data[\"documents\"][k],\n",
    "                    \"cg\": data[\"metadatas\"][k][\"cg\"],\n",
    "                   }\n",
    "            tmp.append(this);\n",
    "    json2video(json = tmp, lang = lang, output = output)\n",
    "\n",
    "import sys, os\n",
    "# Disable\n",
    "def blockPrint():\n",
    "    sys.stdout = open(os.devnull, 'w')\n",
    "\n",
    "import logging\n",
    "logger = logging.getLogger('my-logger')\n",
    "logger.propagate = False"
   ]
  },
  {
   "cell_type": "code",
   "execution_count": null,
   "id": "985e91e2-fb25-4f11-bd27-5a998d9a2e8f",
   "metadata": {},
   "outputs": [],
   "source": [
    "run(\"RS-\", lang = \"jp\", path=\"../db/jpdb\", output = \"./cache/RS_JP.mp4\")"
   ]
  },
  {
   "cell_type": "code",
   "execution_count": 3,
   "id": "c678400f-01db-4af4-a62e-0cb4eceab1b5",
   "metadata": {},
   "outputs": [
    {
     "name": "stderr",
     "output_type": "stream",
     "text": [
      "                                                                                                                       \r"
     ]
    }
   ],
   "source": [
    "run(\"RS-\", lang = \"en\",  path=\"../db/arkdb\", output = \"./cache/RS_EN.mp4\")"
   ]
  },
  {
   "cell_type": "code",
   "execution_count": null,
   "id": "aa06f459-7e95-43a5-b835-d8c1d51ca383",
   "metadata": {},
   "outputs": [],
   "source": [
    "run(\"RS-\", lang = \"cn\",  path=\"../db/cndb\", output = \"./cache/RS_CN.mp4\")"
   ]
  },
  {
   "cell_type": "code",
   "execution_count": null,
   "id": "899bee0d-c810-4aa8-8140-44a9beae7c84",
   "metadata": {},
   "outputs": [],
   "source": []
  }
 ],
 "metadata": {
  "kernelspec": {
   "display_name": "Python 3 (ipykernel)",
   "language": "python",
   "name": "python3"
  },
  "language_info": {
   "codemirror_mode": {
    "name": "ipython",
    "version": 3
   },
   "file_extension": ".py",
   "mimetype": "text/x-python",
   "name": "python",
   "nbconvert_exporter": "python",
   "pygments_lexer": "ipython3",
   "version": "3.11.5"
  }
 },
 "nbformat": 4,
 "nbformat_minor": 5
}
