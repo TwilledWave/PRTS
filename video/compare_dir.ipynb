{
 "cells": [
  {
   "cell_type": "code",
   "execution_count": 30,
   "id": "d24580fc-603e-458d-bdcc-bbd26eb450ee",
   "metadata": {},
   "outputs": [],
   "source": [
    "#path1 = \"C://Users/shiha/Documents/MuMu共享文件夹/CN_041024/TextAsset\"\n",
    "#path2 = \"C://Users/shiha/Documents/MuMu共享文件夹/CN_031124/TextAsset\"\n",
    "path1 = \"C://Users/shiha/Documents/MuMu共享文件夹/043024/TextAsset\"\n",
    "path2 = \"C://Users/shiha/Documents/MuMu共享文件夹/CN_041024/TextAsset\"\n",
    "\n",
    "from os import listdir\n",
    "from os.path import isfile, join\n",
    "file1 = [f for f in listdir(path1) if isfile(join(path1, f))]\n",
    "file2 = [f for f in listdir(path2) if isfile(join(path2, f))]"
   ]
  },
  {
   "cell_type": "code",
   "execution_count": 33,
   "id": "21a13ba8-410f-47f8-81aa-98c6ee975989",
   "metadata": {},
   "outputs": [
    {
     "data": {
      "text/plain": [
       "{'level_main_14-01_beg.txt',\n",
       " 'level_main_14-01_end.txt',\n",
       " 'level_main_14-02_beg.txt',\n",
       " 'level_main_14-02_end.txt',\n",
       " 'level_main_14-03_beg.txt',\n",
       " 'level_main_14-03_end.txt',\n",
       " 'level_main_14-04_beg.txt',\n",
       " 'level_main_14-04_end.txt',\n",
       " 'level_main_14-05_beg.txt',\n",
       " 'level_main_14-05_end.txt',\n",
       " 'level_main_14-06_beg.txt',\n",
       " 'level_main_14-06_end.txt',\n",
       " 'level_main_14-07_beg.txt',\n",
       " 'level_main_14-07_end.txt',\n",
       " 'level_main_14-08_beg.txt',\n",
       " 'level_main_14-08_end.txt',\n",
       " 'level_main_14-09_beg.txt',\n",
       " 'level_main_14-09_end.txt',\n",
       " 'level_main_14-10_beg.txt',\n",
       " 'level_main_14-10_end.txt',\n",
       " 'level_main_14-11_beg.txt',\n",
       " 'level_main_14-11_end.txt',\n",
       " 'level_main_14-12_beg.txt',\n",
       " 'level_main_14-13_end.txt',\n",
       " 'level_main_14-14_beg.txt',\n",
       " 'level_main_14-14_end.txt',\n",
       " 'level_main_14-15_beg.txt',\n",
       " 'level_main_14-16_beg.txt',\n",
       " 'level_main_14-16_end.txt',\n",
       " 'level_main_14-17_beg.txt',\n",
       " 'level_main_14-17_end.txt',\n",
       " 'level_main_14-18_beg.txt',\n",
       " 'level_main_14-18_end.txt',\n",
       " 'level_main_14-19_beg.txt',\n",
       " 'level_main_14-19_end.txt',\n",
       " 'level_main_14-20_beg.txt',\n",
       " 'level_main_14-20_end.txt',\n",
       " 'level_spst_14-01.txt',\n",
       " 'level_st_14-01.txt',\n",
       " 'level_st_14-02.txt',\n",
       " 'level_st_14-03.txt',\n",
       " 'main_14-09_a.txt',\n",
       " 'main_14-09_b.txt',\n",
       " 'main_14-09_d.txt',\n",
       " 'main_14-09_e.txt',\n",
       " 'main_14-10_a.txt',\n",
       " 'main_14-10_b.txt',\n",
       " 'main_14-20_a.txt',\n",
       " 'main_14-20_b.txt',\n",
       " 'main_14-20_c.txt',\n",
       " 'main_14-20_d.txt',\n",
       " 'main_14_09_AVG.txt',\n",
       " 'story_aroma_1_1.txt',\n",
       " 'story_ascln_1_1.txt',\n",
       " 'story_shining_1_1.txt',\n",
       " 'story_siege_1_1.txt',\n",
       " 'story_swllow_1_1.txt',\n",
       " 'training_25_a.txt',\n",
       " 'training_25_b.txt',\n",
       " 'training_25_c.txt',\n",
       " 'training_25_d.txt'}"
      ]
     },
     "execution_count": 33,
     "metadata": {},
     "output_type": "execute_result"
    }
   ],
   "source": [
    "set(file1) - set(file2)"
   ]
  },
  {
   "cell_type": "code",
   "execution_count": 31,
   "id": "6714007c-96ee-40b4-aedc-226c945bcd17",
   "metadata": {},
   "outputs": [
    {
     "ename": "TypeError",
     "evalue": "'list' object is not callable",
     "output_type": "error",
     "traceback": [
      "\u001b[1;31m---------------------------------------------------------------------------\u001b[0m",
      "\u001b[1;31mTypeError\u001b[0m                                 Traceback (most recent call last)",
      "Cell \u001b[1;32mIn[31], line 1\u001b[0m\n\u001b[1;32m----> 1\u001b[0m \u001b[38;5;28;43mlist\u001b[39;49m\u001b[43m(\u001b[49m\u001b[38;5;28;43mset\u001b[39;49m\u001b[43m(\u001b[49m\u001b[43mfile2\u001b[49m\u001b[43m)\u001b[49m\u001b[43m \u001b[49m\u001b[38;5;241;43m-\u001b[39;49m\u001b[43m \u001b[49m\u001b[38;5;28;43mset\u001b[39;49m\u001b[43m(\u001b[49m\u001b[43mfile1\u001b[49m\u001b[43m)\u001b[49m\u001b[43m)\u001b[49m\n",
      "\u001b[1;31mTypeError\u001b[0m: 'list' object is not callable"
     ]
    }
   ],
   "source": [
    "list(set(file2) - set(file1))"
   ]
  },
  {
   "cell_type": "code",
   "execution_count": 34,
   "id": "94bff5e3-eca9-4da9-b9f3-8bd436ab3d83",
   "metadata": {},
   "outputs": [
    {
     "name": "stdout",
     "output_type": "stream",
     "text": [
      "string not found\n",
      "string not found\n",
      "string not found\n",
      "string not found\n",
      "string not found\n",
      "string not found\n",
      "found string in file level_main_14-04_beg.txt\n",
      "string not found\n",
      "string not found\n",
      "string not found\n",
      "string not found\n",
      "string not found\n",
      "string not found\n",
      "string not found\n",
      "string not found\n",
      "string not found\n",
      "string not found\n",
      "string not found\n",
      "string not found\n",
      "string not found\n",
      "string not found\n",
      "string not found\n",
      "string not found\n",
      "string not found\n",
      "string not found\n",
      "string not found\n",
      "string not found\n",
      "string not found\n",
      "string not found\n",
      "string not found\n",
      "string not found\n",
      "string not found\n",
      "string not found\n",
      "string not found\n",
      "string not found\n",
      "string not found\n",
      "string not found\n",
      "string not found\n",
      "found string in file level_st_14-02.txt\n",
      "found string in file level_st_14-03.txt\n"
     ]
    }
   ],
   "source": [
    "import os\n",
    "\n",
    "user_input = \"C://Users/shiha/PRTS/video/cache/unity/14/stages\"\n",
    "directory = os.listdir(user_input)\n",
    "\n",
    "searchstring = \"铣痕\"\n",
    "\n",
    "for fname in directory:\n",
    "    if os.path.isfile(user_input + os.sep + fname):\n",
    "        # Full path\n",
    "        f = open(user_input + os.sep + fname, 'r', encoding=\"utf-8\")\n",
    "\n",
    "        if searchstring in f.read():\n",
    "            print('found string in file %s' % fname)\n",
    "        else:\n",
    "            print('string not found')\n",
    "        f.close()"
   ]
  },
  {
   "cell_type": "code",
   "execution_count": 12,
   "id": "99597d76-9e0f-4ca4-87c3-5a3bd5835d76",
   "metadata": {},
   "outputs": [],
   "source": [
    "#write a json for the \n",
    "import os, json\n",
    "\n",
    "user_input = \"C://Users/shiha/PRTS/video/cache/unity/14/stages\"\n",
    "directory = os.listdir(user_input)\n",
    "\n",
    "list = []\n",
    "\n",
    "for fname in directory:\n",
    "    if os.path.isfile(user_input + os.sep + fname):\n",
    "        list.append({\"stageCN\": fname, \"stageEN\":fname, \"file\":fname})\n",
    "\n",
    "json_object = json.dumps(list, indent=4)\n",
    "\n",
    "# Writing to sample.json\n",
    "with open(\"sample.json\", \"w\") as outfile:\n",
    "    outfile.write(json_object)"
   ]
  },
  {
   "cell_type": "code",
   "execution_count": null,
   "id": "9c164ce0-5fbf-476d-bde9-6f7c7ac1955a",
   "metadata": {},
   "outputs": [],
   "source": []
  }
 ],
 "metadata": {
  "kernelspec": {
   "display_name": "Python 3 (ipykernel)",
   "language": "python",
   "name": "python3"
  },
  "language_info": {
   "codemirror_mode": {
    "name": "ipython",
    "version": 3
   },
   "file_extension": ".py",
   "mimetype": "text/x-python",
   "name": "python",
   "nbconvert_exporter": "python",
   "pygments_lexer": "ipython3",
   "version": "3.11.5"
  }
 },
 "nbformat": 4,
 "nbformat_minor": 5
}
