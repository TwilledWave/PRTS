{
 "cells": [
  {
   "cell_type": "code",
   "execution_count": 1,
   "id": "ffab1d33-677f-4138-bedc-d9019df6f49b",
   "metadata": {},
   "outputs": [],
   "source": [
    "import configparser, os, re\n",
    "config = configparser.ConfigParser()\n",
    "config.read('./keys.ini')\n",
    "os.environ['GOOGLE_API_KEY'] = config['GOOGLE']['GOOGLE_API_KEY']\n",
    "os.environ['GOOGLE_CSE_ID'] = config['GOOGLE']['GOOGLE_CSE_ID']\n",
    "openai_api_key = config['OPENAI']['OPENAI_API_KEY']\n",
    "os.environ['OPENAI_API_KEY'] = openai_api_key"
   ]
  },
  {
   "cell_type": "code",
   "execution_count": 19,
   "id": "2f45c56b-32a2-440e-844e-67e970c73888",
   "metadata": {},
   "outputs": [],
   "source": [
    "#use one 1 chain to summary the story dialogue from main page content of the URL\n",
    "def story_summary_stuff(docs, prompt_template = \"\"):\n",
    "    #input: docs of the web page\n",
    "    from langchain.chains.llm import LLMChain\n",
    "    from langchain.prompts import PromptTemplate\n",
    "    from langchain.chains.combine_documents.stuff import StuffDocumentsChain\n",
    "    # Define prompt\n",
    "    if prompt_template == \"\":\n",
    "        prompt_template = \"\"\"The input below is the SRT subtitle of a video. Who is the main character of this video? \n",
    "        List the major sections of the video with time stamp. Format the time stamp to seconds.\n",
    "        \"{text}\"\n",
    "        Output:\"\"\"\n",
    "    prompt = PromptTemplate.from_template(prompt_template)\n",
    "\n",
    "    # Define LLM chain\n",
    "    #llm = ChatOpenAI(temperature=0, model_name=\"gpt-3.5-turbo-16k\")\n",
    "    llm_chain = LLMChain(llm=llm, prompt=prompt)\n",
    "\n",
    "    # Define StuffDocumentsChain\n",
    "    stuff_chain = StuffDocumentsChain(\n",
    "        llm_chain=llm_chain, document_variable_name=\"text\"\n",
    "    )\n",
    "    \n",
    "    return stuff_chain.run(docs)\n",
    "\n",
    "#youtube loader and return docs for the transcript with time stamps\n",
    "def loader(link:str, language=[\"zh\"], db_loc = \"./cache/YTDBT\", overwrite = False):\n",
    "    #load video info from link\n",
    "    from langchain.document_loaders import YoutubeLoader\n",
    "    try:\n",
    "        loader = YoutubeLoader.from_youtube_url(\n",
    "            link, add_video_info=True, language=language\n",
    "        )\n",
    "        docs = loader.load()\n",
    "    except Exception as e:\n",
    "        return(None);\n",
    "        \n",
    "    #check whether the vid is already in the DB\n",
    "    this_id = docs[0].metadata['source']\n",
    "    from langchain.vectorstores import Chroma\n",
    "    from langchain.embeddings import OpenAIEmbeddings\n",
    "    db = Chroma(persist_directory=db_loc, embedding_function=OpenAIEmbeddings())\n",
    "    tmp = db.get()['ids']\n",
    "    this_db_list = [x.split(\"_\")[0] for x in tmp]\n",
    "    this_db_set = set(this_db_list)\n",
    "    if this_id in this_db_set:\n",
    "        if overwrite == False:\n",
    "            return(link+\" link already in the db, skip\");    \n",
    "            \n",
    "    #format the transcript into SRT\n",
    "    from youtube_transcript_api import YouTubeTranscriptApi\n",
    "    from youtube_transcript_api.formatters import SRTFormatter\n",
    "    transcript = YouTubeTranscriptApi.get_transcript(docs[0].metadata['source'],languages=language)\n",
    "    formatter = SRTFormatter()\n",
    "    srt_formatted = formatter.format_transcript(transcript)\n",
    "    \n",
    "    #summarize the SRT with time stamps\n",
    "    from langchain.chat_models import ChatOpenAI\n",
    "    llm = ChatOpenAI(temperature=0, model_name=\"gpt-4-1106-preview\")\n",
    "    from langchain.docstore.document import Document\n",
    "    output_srt = Document(page_content=\"Title: \"+docs[0].metadata['title']+\" \\nSRT: \"+srt_formatted, metadata=docs[0].metadata);\n",
    "    res = story_summary_stuff([output_srt])\n",
    "    \n",
    "    #write the summary into DB\n",
    "    from langchain.embeddings import OpenAIEmbeddings\n",
    "    from langchain.docstore.document import Document\n",
    "    output_doc = Document(page_content=res, metadata=docs[0].metadata);\n",
    "    db.add_documents([output_doc], ids = [docs[0].metadata['source']])\n",
    "    return(output_doc)\n",
    "\n"
   ]
  },
  {
   "cell_type": "code",
   "execution_count": 11,
   "id": "d5247c51-79be-4b88-8c64-5629cf53f3a1",
   "metadata": {},
   "outputs": [],
   "source": [
    "from langchain.chat_models import ChatOpenAI\n",
    "llm = ChatOpenAI(temperature=0, model_name=\"gpt-4-1106-preview\")\n",
    "res = loader(\"https://www.youtube.com/watch?v=whqlwGpMGsA\",[\"en\"])"
   ]
  },
  {
   "cell_type": "code",
   "execution_count": 13,
   "id": "2522cda7-ec8d-485c-b196-6634d9f7e146",
   "metadata": {},
   "outputs": [
    {
     "data": {
      "text/plain": [
       "'Genshin Impact lore - Fischl - Who is the Prinzessin Der Verurteilung?'"
      ]
     },
     "execution_count": 13,
     "metadata": {},
     "output_type": "execute_result"
    }
   ],
   "source": [
    "res.metadata['title']"
   ]
  },
  {
   "cell_type": "code",
   "execution_count": 15,
   "id": "db3e1d40-4860-4a8f-afa3-2e8932d2a21e",
   "metadata": {
    "collapsed": true,
    "jupyter": {
     "outputs_hidden": true
    }
   },
   "outputs": [
    {
     "name": "stdout",
     "output_type": "stream",
     "text": [
      "Genshin Impact lore - Fischl - Who is the Prinzessin Der Verurteilung?\n",
      "Genshin Impact - The Origins of Diluc\n",
      "Genshin Impact lore - The Story of Storm Terror\n"
     ]
    },
    {
     "ename": "NoTranscriptFound",
     "evalue": "\nCould not retrieve a transcript for the video https://www.youtube.com/watch?v=VdoqtjQJcZ0! This is most likely caused by:\n\nNo transcripts were found for any of the requested language codes: ['en']\n\nFor this video (VdoqtjQJcZ0) transcripts are available in the following languages:\n\n(MANUALLY CREATED)\nNone\n\n(GENERATED)\n - vi (\"Vietnamese (auto-generated)\")[TRANSLATABLE]\n\n(TRANSLATION LANGUAGES)\n - af (\"Afrikaans\")\n - ak (\"Akan\")\n - sq (\"Albanian\")\n - am (\"Amharic\")\n - ar (\"Arabic\")\n - hy (\"Armenian\")\n - as (\"Assamese\")\n - ay (\"Aymara\")\n - az (\"Azerbaijani\")\n - bn (\"Bangla\")\n - eu (\"Basque\")\n - be (\"Belarusian\")\n - bho (\"Bhojpuri\")\n - bs (\"Bosnian\")\n - bg (\"Bulgarian\")\n - my (\"Burmese\")\n - ca (\"Catalan\")\n - ceb (\"Cebuano\")\n - zh-Hans (\"Chinese (Simplified)\")\n - zh-Hant (\"Chinese (Traditional)\")\n - co (\"Corsican\")\n - hr (\"Croatian\")\n - cs (\"Czech\")\n - da (\"Danish\")\n - dv (\"Divehi\")\n - nl (\"Dutch\")\n - en (\"English\")\n - eo (\"Esperanto\")\n - et (\"Estonian\")\n - ee (\"Ewe\")\n - fil (\"Filipino\")\n - fi (\"Finnish\")\n - fr (\"French\")\n - gl (\"Galician\")\n - lg (\"Ganda\")\n - ka (\"Georgian\")\n - de (\"German\")\n - el (\"Greek\")\n - gn (\"Guarani\")\n - gu (\"Gujarati\")\n - ht (\"Haitian Creole\")\n - ha (\"Hausa\")\n - haw (\"Hawaiian\")\n - iw (\"Hebrew\")\n - hi (\"Hindi\")\n - hmn (\"Hmong\")\n - hu (\"Hungarian\")\n - is (\"Icelandic\")\n - ig (\"Igbo\")\n - id (\"Indonesian\")\n - ga (\"Irish\")\n - it (\"Italian\")\n - ja (\"Japanese\")\n - jv (\"Javanese\")\n - kn (\"Kannada\")\n - kk (\"Kazakh\")\n - km (\"Khmer\")\n - rw (\"Kinyarwanda\")\n - ko (\"Korean\")\n - kri (\"Krio\")\n - ku (\"Kurdish\")\n - ky (\"Kyrgyz\")\n - lo (\"Lao\")\n - la (\"Latin\")\n - lv (\"Latvian\")\n - ln (\"Lingala\")\n - lt (\"Lithuanian\")\n - lb (\"Luxembourgish\")\n - mk (\"Macedonian\")\n - mg (\"Malagasy\")\n - ms (\"Malay\")\n - ml (\"Malayalam\")\n - mt (\"Maltese\")\n - mi (\"Māori\")\n - mr (\"Marathi\")\n - mn (\"Mongolian\")\n - ne (\"Nepali\")\n - nso (\"Northern Sotho\")\n - no (\"Norwegian\")\n - ny (\"Nyanja\")\n - or (\"Odia\")\n - om (\"Oromo\")\n - ps (\"Pashto\")\n - fa (\"Persian\")\n - pl (\"Polish\")\n - pt (\"Portuguese\")\n - pa (\"Punjabi\")\n - qu (\"Quechua\")\n - ro (\"Romanian\")\n - ru (\"Russian\")\n - sm (\"Samoan\")\n - sa (\"Sanskrit\")\n - gd (\"Scottish Gaelic\")\n - sr (\"Serbian\")\n - sn (\"Shona\")\n - sd (\"Sindhi\")\n - si (\"Sinhala\")\n - sk (\"Slovak\")\n - sl (\"Slovenian\")\n - so (\"Somali\")\n - st (\"Southern Sotho\")\n - es (\"Spanish\")\n - su (\"Sundanese\")\n - sw (\"Swahili\")\n - sv (\"Swedish\")\n - tg (\"Tajik\")\n - ta (\"Tamil\")\n - tt (\"Tatar\")\n - te (\"Telugu\")\n - th (\"Thai\")\n - ti (\"Tigrinya\")\n - ts (\"Tsonga\")\n - tr (\"Turkish\")\n - tk (\"Turkmen\")\n - uk (\"Ukrainian\")\n - ur (\"Urdu\")\n - ug (\"Uyghur\")\n - uz (\"Uzbek\")\n - vi (\"Vietnamese\")\n - cy (\"Welsh\")\n - fy (\"Western Frisian\")\n - xh (\"Xhosa\")\n - yi (\"Yiddish\")\n - yo (\"Yoruba\")\n - zu (\"Zulu\")\n\nIf you are sure that the described cause is not responsible for this error and that a transcript should be retrievable, please create an issue at https://github.com/jdepoix/youtube-transcript-api/issues. Please add which version of youtube_transcript_api you are using and provide the information needed to replicate the error. Also make sure that there are no open issues which already describe your problem!",
     "output_type": "error",
     "traceback": [
      "\u001b[1;31m---------------------------------------------------------------------------\u001b[0m",
      "\u001b[1;31mNoTranscriptFound\u001b[0m                         Traceback (most recent call last)",
      "File \u001b[1;32m~\\anaconda3\\envs\\lang2\\Lib\\site-packages\\langchain\\document_loaders\\youtube.py:208\u001b[0m, in \u001b[0;36mYoutubeLoader.load\u001b[1;34m(self)\u001b[0m\n\u001b[0;32m    207\u001b[0m \u001b[38;5;28;01mtry\u001b[39;00m:\n\u001b[1;32m--> 208\u001b[0m     transcript \u001b[38;5;241m=\u001b[39m \u001b[43mtranscript_list\u001b[49m\u001b[38;5;241;43m.\u001b[39;49m\u001b[43mfind_transcript\u001b[49m\u001b[43m(\u001b[49m\u001b[38;5;28;43mself\u001b[39;49m\u001b[38;5;241;43m.\u001b[39;49m\u001b[43mlanguage\u001b[49m\u001b[43m)\u001b[49m\n\u001b[0;32m    209\u001b[0m \u001b[38;5;28;01mexcept\u001b[39;00m NoTranscriptFound:\n",
      "File \u001b[1;32m~\\anaconda3\\envs\\lang2\\Lib\\site-packages\\youtube_transcript_api\\_transcripts.py:183\u001b[0m, in \u001b[0;36mTranscriptList.find_transcript\u001b[1;34m(self, language_codes)\u001b[0m\n\u001b[0;32m    170\u001b[0m \u001b[38;5;250m\u001b[39m\u001b[38;5;124;03m\"\"\"\u001b[39;00m\n\u001b[0;32m    171\u001b[0m \u001b[38;5;124;03mFinds a transcript for a given language code. Manually created transcripts are returned first and only if none\u001b[39;00m\n\u001b[0;32m    172\u001b[0m \u001b[38;5;124;03mare found, generated transcripts are used. If you only want generated transcripts use\u001b[39;00m\n\u001b[1;32m   (...)\u001b[0m\n\u001b[0;32m    181\u001b[0m \u001b[38;5;124;03m:raises: NoTranscriptFound\u001b[39;00m\n\u001b[0;32m    182\u001b[0m \u001b[38;5;124;03m\"\"\"\u001b[39;00m\n\u001b[1;32m--> 183\u001b[0m \u001b[38;5;28;01mreturn\u001b[39;00m \u001b[38;5;28;43mself\u001b[39;49m\u001b[38;5;241;43m.\u001b[39;49m\u001b[43m_find_transcript\u001b[49m\u001b[43m(\u001b[49m\u001b[43mlanguage_codes\u001b[49m\u001b[43m,\u001b[49m\u001b[43m \u001b[49m\u001b[43m[\u001b[49m\u001b[38;5;28;43mself\u001b[39;49m\u001b[38;5;241;43m.\u001b[39;49m\u001b[43m_manually_created_transcripts\u001b[49m\u001b[43m,\u001b[49m\u001b[43m \u001b[49m\u001b[38;5;28;43mself\u001b[39;49m\u001b[38;5;241;43m.\u001b[39;49m\u001b[43m_generated_transcripts\u001b[49m\u001b[43m]\u001b[49m\u001b[43m)\u001b[49m\n",
      "File \u001b[1;32m~\\anaconda3\\envs\\lang2\\Lib\\site-packages\\youtube_transcript_api\\_transcripts.py:219\u001b[0m, in \u001b[0;36mTranscriptList._find_transcript\u001b[1;34m(self, language_codes, transcript_dicts)\u001b[0m\n\u001b[0;32m    217\u001b[0m             \u001b[38;5;28;01mreturn\u001b[39;00m transcript_dict[language_code]\n\u001b[1;32m--> 219\u001b[0m \u001b[38;5;28;01mraise\u001b[39;00m NoTranscriptFound(\n\u001b[0;32m    220\u001b[0m     \u001b[38;5;28mself\u001b[39m\u001b[38;5;241m.\u001b[39mvideo_id,\n\u001b[0;32m    221\u001b[0m     language_codes,\n\u001b[0;32m    222\u001b[0m     \u001b[38;5;28mself\u001b[39m\n\u001b[0;32m    223\u001b[0m )\n",
      "\u001b[1;31mNoTranscriptFound\u001b[0m: \nCould not retrieve a transcript for the video https://www.youtube.com/watch?v=VdoqtjQJcZ0! This is most likely caused by:\n\nNo transcripts were found for any of the requested language codes: ['en']\n\nFor this video (VdoqtjQJcZ0) transcripts are available in the following languages:\n\n(MANUALLY CREATED)\nNone\n\n(GENERATED)\n - vi (\"Vietnamese (auto-generated)\")[TRANSLATABLE]\n\n(TRANSLATION LANGUAGES)\n - af (\"Afrikaans\")\n - ak (\"Akan\")\n - sq (\"Albanian\")\n - am (\"Amharic\")\n - ar (\"Arabic\")\n - hy (\"Armenian\")\n - as (\"Assamese\")\n - ay (\"Aymara\")\n - az (\"Azerbaijani\")\n - bn (\"Bangla\")\n - eu (\"Basque\")\n - be (\"Belarusian\")\n - bho (\"Bhojpuri\")\n - bs (\"Bosnian\")\n - bg (\"Bulgarian\")\n - my (\"Burmese\")\n - ca (\"Catalan\")\n - ceb (\"Cebuano\")\n - zh-Hans (\"Chinese (Simplified)\")\n - zh-Hant (\"Chinese (Traditional)\")\n - co (\"Corsican\")\n - hr (\"Croatian\")\n - cs (\"Czech\")\n - da (\"Danish\")\n - dv (\"Divehi\")\n - nl (\"Dutch\")\n - en (\"English\")\n - eo (\"Esperanto\")\n - et (\"Estonian\")\n - ee (\"Ewe\")\n - fil (\"Filipino\")\n - fi (\"Finnish\")\n - fr (\"French\")\n - gl (\"Galician\")\n - lg (\"Ganda\")\n - ka (\"Georgian\")\n - de (\"German\")\n - el (\"Greek\")\n - gn (\"Guarani\")\n - gu (\"Gujarati\")\n - ht (\"Haitian Creole\")\n - ha (\"Hausa\")\n - haw (\"Hawaiian\")\n - iw (\"Hebrew\")\n - hi (\"Hindi\")\n - hmn (\"Hmong\")\n - hu (\"Hungarian\")\n - is (\"Icelandic\")\n - ig (\"Igbo\")\n - id (\"Indonesian\")\n - ga (\"Irish\")\n - it (\"Italian\")\n - ja (\"Japanese\")\n - jv (\"Javanese\")\n - kn (\"Kannada\")\n - kk (\"Kazakh\")\n - km (\"Khmer\")\n - rw (\"Kinyarwanda\")\n - ko (\"Korean\")\n - kri (\"Krio\")\n - ku (\"Kurdish\")\n - ky (\"Kyrgyz\")\n - lo (\"Lao\")\n - la (\"Latin\")\n - lv (\"Latvian\")\n - ln (\"Lingala\")\n - lt (\"Lithuanian\")\n - lb (\"Luxembourgish\")\n - mk (\"Macedonian\")\n - mg (\"Malagasy\")\n - ms (\"Malay\")\n - ml (\"Malayalam\")\n - mt (\"Maltese\")\n - mi (\"Māori\")\n - mr (\"Marathi\")\n - mn (\"Mongolian\")\n - ne (\"Nepali\")\n - nso (\"Northern Sotho\")\n - no (\"Norwegian\")\n - ny (\"Nyanja\")\n - or (\"Odia\")\n - om (\"Oromo\")\n - ps (\"Pashto\")\n - fa (\"Persian\")\n - pl (\"Polish\")\n - pt (\"Portuguese\")\n - pa (\"Punjabi\")\n - qu (\"Quechua\")\n - ro (\"Romanian\")\n - ru (\"Russian\")\n - sm (\"Samoan\")\n - sa (\"Sanskrit\")\n - gd (\"Scottish Gaelic\")\n - sr (\"Serbian\")\n - sn (\"Shona\")\n - sd (\"Sindhi\")\n - si (\"Sinhala\")\n - sk (\"Slovak\")\n - sl (\"Slovenian\")\n - so (\"Somali\")\n - st (\"Southern Sotho\")\n - es (\"Spanish\")\n - su (\"Sundanese\")\n - sw (\"Swahili\")\n - sv (\"Swedish\")\n - tg (\"Tajik\")\n - ta (\"Tamil\")\n - tt (\"Tatar\")\n - te (\"Telugu\")\n - th (\"Thai\")\n - ti (\"Tigrinya\")\n - ts (\"Tsonga\")\n - tr (\"Turkish\")\n - tk (\"Turkmen\")\n - uk (\"Ukrainian\")\n - ur (\"Urdu\")\n - ug (\"Uyghur\")\n - uz (\"Uzbek\")\n - vi (\"Vietnamese\")\n - cy (\"Welsh\")\n - fy (\"Western Frisian\")\n - xh (\"Xhosa\")\n - yi (\"Yiddish\")\n - yo (\"Yoruba\")\n - zu (\"Zulu\")\n\nIf you are sure that the described cause is not responsible for this error and that a transcript should be retrievable, please create an issue at https://github.com/jdepoix/youtube-transcript-api/issues. Please add which version of youtube_transcript_api you are using and provide the information needed to replicate the error. Also make sure that there are no open issues which already describe your problem!",
      "\nDuring handling of the above exception, another exception occurred:\n",
      "\u001b[1;31mNoTranscriptFound\u001b[0m                         Traceback (most recent call last)",
      "Cell \u001b[1;32mIn[15], line 4\u001b[0m\n\u001b[0;32m      2\u001b[0m p \u001b[38;5;241m=\u001b[39m Playlist(\u001b[38;5;124m'\u001b[39m\u001b[38;5;124mhttps://www.youtube.com/watch?v=whqlwGpMGsA&list=PLn2_heBLYy7-92SSW4nCc3i71-J85Dp5T&ab_channel=TeyvatHistoria\u001b[39m\u001b[38;5;124m'\u001b[39m)\n\u001b[0;32m      3\u001b[0m \u001b[38;5;28;01mfor\u001b[39;00m url \u001b[38;5;129;01min\u001b[39;00m p\u001b[38;5;241m.\u001b[39mvideo_urls:\n\u001b[1;32m----> 4\u001b[0m     res \u001b[38;5;241m=\u001b[39m \u001b[43mloader\u001b[49m\u001b[43m(\u001b[49m\u001b[43murl\u001b[49m\u001b[43m,\u001b[49m\u001b[43m[\u001b[49m\u001b[38;5;124;43m\"\u001b[39;49m\u001b[38;5;124;43men\u001b[39;49m\u001b[38;5;124;43m\"\u001b[39;49m\u001b[43m]\u001b[49m\u001b[43m)\u001b[49m\n\u001b[0;32m      5\u001b[0m     \u001b[38;5;28mprint\u001b[39m(res\u001b[38;5;241m.\u001b[39mmetadata[\u001b[38;5;124m'\u001b[39m\u001b[38;5;124mtitle\u001b[39m\u001b[38;5;124m'\u001b[39m])\n",
      "Cell \u001b[1;32mIn[10], line 33\u001b[0m, in \u001b[0;36mloader\u001b[1;34m(link, language)\u001b[0m\n\u001b[0;32m     29\u001b[0m \u001b[38;5;28;01mfrom\u001b[39;00m \u001b[38;5;21;01mlangchain\u001b[39;00m\u001b[38;5;21;01m.\u001b[39;00m\u001b[38;5;21;01mdocument_loaders\u001b[39;00m \u001b[38;5;28;01mimport\u001b[39;00m YoutubeLoader\n\u001b[0;32m     30\u001b[0m loader \u001b[38;5;241m=\u001b[39m YoutubeLoader\u001b[38;5;241m.\u001b[39mfrom_youtube_url(\n\u001b[0;32m     31\u001b[0m link, add_video_info\u001b[38;5;241m=\u001b[39m\u001b[38;5;28;01mTrue\u001b[39;00m, language\u001b[38;5;241m=\u001b[39mlanguage\n\u001b[0;32m     32\u001b[0m )\n\u001b[1;32m---> 33\u001b[0m docs \u001b[38;5;241m=\u001b[39m \u001b[43mloader\u001b[49m\u001b[38;5;241;43m.\u001b[39;49m\u001b[43mload\u001b[49m\u001b[43m(\u001b[49m\u001b[43m)\u001b[49m\n\u001b[0;32m     34\u001b[0m \u001b[38;5;66;03m#format the transcript into SRT\u001b[39;00m\n\u001b[0;32m     35\u001b[0m \u001b[38;5;28;01mfrom\u001b[39;00m \u001b[38;5;21;01myoutube_transcript_api\u001b[39;00m \u001b[38;5;28;01mimport\u001b[39;00m YouTubeTranscriptApi\n",
      "File \u001b[1;32m~\\anaconda3\\envs\\lang2\\Lib\\site-packages\\langchain\\document_loaders\\youtube.py:210\u001b[0m, in \u001b[0;36mYoutubeLoader.load\u001b[1;34m(self)\u001b[0m\n\u001b[0;32m    208\u001b[0m     transcript \u001b[38;5;241m=\u001b[39m transcript_list\u001b[38;5;241m.\u001b[39mfind_transcript(\u001b[38;5;28mself\u001b[39m\u001b[38;5;241m.\u001b[39mlanguage)\n\u001b[0;32m    209\u001b[0m \u001b[38;5;28;01mexcept\u001b[39;00m NoTranscriptFound:\n\u001b[1;32m--> 210\u001b[0m     transcript \u001b[38;5;241m=\u001b[39m \u001b[43mtranscript_list\u001b[49m\u001b[38;5;241;43m.\u001b[39;49m\u001b[43mfind_transcript\u001b[49m\u001b[43m(\u001b[49m\u001b[43m[\u001b[49m\u001b[38;5;124;43m\"\u001b[39;49m\u001b[38;5;124;43men\u001b[39;49m\u001b[38;5;124;43m\"\u001b[39;49m\u001b[43m]\u001b[49m\u001b[43m)\u001b[49m\n\u001b[0;32m    212\u001b[0m \u001b[38;5;28;01mif\u001b[39;00m \u001b[38;5;28mself\u001b[39m\u001b[38;5;241m.\u001b[39mtranslation \u001b[38;5;129;01mis\u001b[39;00m \u001b[38;5;129;01mnot\u001b[39;00m \u001b[38;5;28;01mNone\u001b[39;00m:\n\u001b[0;32m    213\u001b[0m     transcript \u001b[38;5;241m=\u001b[39m transcript\u001b[38;5;241m.\u001b[39mtranslate(\u001b[38;5;28mself\u001b[39m\u001b[38;5;241m.\u001b[39mtranslation)\n",
      "File \u001b[1;32m~\\anaconda3\\envs\\lang2\\Lib\\site-packages\\youtube_transcript_api\\_transcripts.py:183\u001b[0m, in \u001b[0;36mTranscriptList.find_transcript\u001b[1;34m(self, language_codes)\u001b[0m\n\u001b[0;32m    169\u001b[0m \u001b[38;5;28;01mdef\u001b[39;00m \u001b[38;5;21mfind_transcript\u001b[39m(\u001b[38;5;28mself\u001b[39m, language_codes):\n\u001b[0;32m    170\u001b[0m \u001b[38;5;250m    \u001b[39m\u001b[38;5;124;03m\"\"\"\u001b[39;00m\n\u001b[0;32m    171\u001b[0m \u001b[38;5;124;03m    Finds a transcript for a given language code. Manually created transcripts are returned first and only if none\u001b[39;00m\n\u001b[0;32m    172\u001b[0m \u001b[38;5;124;03m    are found, generated transcripts are used. If you only want generated transcripts use\u001b[39;00m\n\u001b[1;32m   (...)\u001b[0m\n\u001b[0;32m    181\u001b[0m \u001b[38;5;124;03m    :raises: NoTranscriptFound\u001b[39;00m\n\u001b[0;32m    182\u001b[0m \u001b[38;5;124;03m    \"\"\"\u001b[39;00m\n\u001b[1;32m--> 183\u001b[0m     \u001b[38;5;28;01mreturn\u001b[39;00m \u001b[38;5;28;43mself\u001b[39;49m\u001b[38;5;241;43m.\u001b[39;49m\u001b[43m_find_transcript\u001b[49m\u001b[43m(\u001b[49m\u001b[43mlanguage_codes\u001b[49m\u001b[43m,\u001b[49m\u001b[43m \u001b[49m\u001b[43m[\u001b[49m\u001b[38;5;28;43mself\u001b[39;49m\u001b[38;5;241;43m.\u001b[39;49m\u001b[43m_manually_created_transcripts\u001b[49m\u001b[43m,\u001b[49m\u001b[43m \u001b[49m\u001b[38;5;28;43mself\u001b[39;49m\u001b[38;5;241;43m.\u001b[39;49m\u001b[43m_generated_transcripts\u001b[49m\u001b[43m]\u001b[49m\u001b[43m)\u001b[49m\n",
      "File \u001b[1;32m~\\anaconda3\\envs\\lang2\\Lib\\site-packages\\youtube_transcript_api\\_transcripts.py:219\u001b[0m, in \u001b[0;36mTranscriptList._find_transcript\u001b[1;34m(self, language_codes, transcript_dicts)\u001b[0m\n\u001b[0;32m    216\u001b[0m         \u001b[38;5;28;01mif\u001b[39;00m language_code \u001b[38;5;129;01min\u001b[39;00m transcript_dict:\n\u001b[0;32m    217\u001b[0m             \u001b[38;5;28;01mreturn\u001b[39;00m transcript_dict[language_code]\n\u001b[1;32m--> 219\u001b[0m \u001b[38;5;28;01mraise\u001b[39;00m NoTranscriptFound(\n\u001b[0;32m    220\u001b[0m     \u001b[38;5;28mself\u001b[39m\u001b[38;5;241m.\u001b[39mvideo_id,\n\u001b[0;32m    221\u001b[0m     language_codes,\n\u001b[0;32m    222\u001b[0m     \u001b[38;5;28mself\u001b[39m\n\u001b[0;32m    223\u001b[0m )\n",
      "\u001b[1;31mNoTranscriptFound\u001b[0m: \nCould not retrieve a transcript for the video https://www.youtube.com/watch?v=VdoqtjQJcZ0! This is most likely caused by:\n\nNo transcripts were found for any of the requested language codes: ['en']\n\nFor this video (VdoqtjQJcZ0) transcripts are available in the following languages:\n\n(MANUALLY CREATED)\nNone\n\n(GENERATED)\n - vi (\"Vietnamese (auto-generated)\")[TRANSLATABLE]\n\n(TRANSLATION LANGUAGES)\n - af (\"Afrikaans\")\n - ak (\"Akan\")\n - sq (\"Albanian\")\n - am (\"Amharic\")\n - ar (\"Arabic\")\n - hy (\"Armenian\")\n - as (\"Assamese\")\n - ay (\"Aymara\")\n - az (\"Azerbaijani\")\n - bn (\"Bangla\")\n - eu (\"Basque\")\n - be (\"Belarusian\")\n - bho (\"Bhojpuri\")\n - bs (\"Bosnian\")\n - bg (\"Bulgarian\")\n - my (\"Burmese\")\n - ca (\"Catalan\")\n - ceb (\"Cebuano\")\n - zh-Hans (\"Chinese (Simplified)\")\n - zh-Hant (\"Chinese (Traditional)\")\n - co (\"Corsican\")\n - hr (\"Croatian\")\n - cs (\"Czech\")\n - da (\"Danish\")\n - dv (\"Divehi\")\n - nl (\"Dutch\")\n - en (\"English\")\n - eo (\"Esperanto\")\n - et (\"Estonian\")\n - ee (\"Ewe\")\n - fil (\"Filipino\")\n - fi (\"Finnish\")\n - fr (\"French\")\n - gl (\"Galician\")\n - lg (\"Ganda\")\n - ka (\"Georgian\")\n - de (\"German\")\n - el (\"Greek\")\n - gn (\"Guarani\")\n - gu (\"Gujarati\")\n - ht (\"Haitian Creole\")\n - ha (\"Hausa\")\n - haw (\"Hawaiian\")\n - iw (\"Hebrew\")\n - hi (\"Hindi\")\n - hmn (\"Hmong\")\n - hu (\"Hungarian\")\n - is (\"Icelandic\")\n - ig (\"Igbo\")\n - id (\"Indonesian\")\n - ga (\"Irish\")\n - it (\"Italian\")\n - ja (\"Japanese\")\n - jv (\"Javanese\")\n - kn (\"Kannada\")\n - kk (\"Kazakh\")\n - km (\"Khmer\")\n - rw (\"Kinyarwanda\")\n - ko (\"Korean\")\n - kri (\"Krio\")\n - ku (\"Kurdish\")\n - ky (\"Kyrgyz\")\n - lo (\"Lao\")\n - la (\"Latin\")\n - lv (\"Latvian\")\n - ln (\"Lingala\")\n - lt (\"Lithuanian\")\n - lb (\"Luxembourgish\")\n - mk (\"Macedonian\")\n - mg (\"Malagasy\")\n - ms (\"Malay\")\n - ml (\"Malayalam\")\n - mt (\"Maltese\")\n - mi (\"Māori\")\n - mr (\"Marathi\")\n - mn (\"Mongolian\")\n - ne (\"Nepali\")\n - nso (\"Northern Sotho\")\n - no (\"Norwegian\")\n - ny (\"Nyanja\")\n - or (\"Odia\")\n - om (\"Oromo\")\n - ps (\"Pashto\")\n - fa (\"Persian\")\n - pl (\"Polish\")\n - pt (\"Portuguese\")\n - pa (\"Punjabi\")\n - qu (\"Quechua\")\n - ro (\"Romanian\")\n - ru (\"Russian\")\n - sm (\"Samoan\")\n - sa (\"Sanskrit\")\n - gd (\"Scottish Gaelic\")\n - sr (\"Serbian\")\n - sn (\"Shona\")\n - sd (\"Sindhi\")\n - si (\"Sinhala\")\n - sk (\"Slovak\")\n - sl (\"Slovenian\")\n - so (\"Somali\")\n - st (\"Southern Sotho\")\n - es (\"Spanish\")\n - su (\"Sundanese\")\n - sw (\"Swahili\")\n - sv (\"Swedish\")\n - tg (\"Tajik\")\n - ta (\"Tamil\")\n - tt (\"Tatar\")\n - te (\"Telugu\")\n - th (\"Thai\")\n - ti (\"Tigrinya\")\n - ts (\"Tsonga\")\n - tr (\"Turkish\")\n - tk (\"Turkmen\")\n - uk (\"Ukrainian\")\n - ur (\"Urdu\")\n - ug (\"Uyghur\")\n - uz (\"Uzbek\")\n - vi (\"Vietnamese\")\n - cy (\"Welsh\")\n - fy (\"Western Frisian\")\n - xh (\"Xhosa\")\n - yi (\"Yiddish\")\n - yo (\"Yoruba\")\n - zu (\"Zulu\")\n\nIf you are sure that the described cause is not responsible for this error and that a transcript should be retrievable, please create an issue at https://github.com/jdepoix/youtube-transcript-api/issues. Please add which version of youtube_transcript_api you are using and provide the information needed to replicate the error. Also make sure that there are no open issues which already describe your problem!"
     ]
    }
   ],
   "source": [
    "from pytube import Playlist\n",
    "p = Playlist('https://www.youtube.com/watch?v=whqlwGpMGsA&list=PLn2_heBLYy7-92SSW4nCc3i71-J85Dp5T&ab_channel=TeyvatHistoria')\n",
    "for url in p.video_urls:\n",
    "    res = loader(url,[\"en\"])\n",
    "    print(res.metadata['title'])"
   ]
  },
  {
   "cell_type": "code",
   "execution_count": null,
   "id": "a85add3b-179c-42ac-89a5-d6ea9ec1ad1c",
   "metadata": {},
   "outputs": [],
   "source": []
  }
 ],
 "metadata": {
  "kernelspec": {
   "display_name": "Python 3 (ipykernel)",
   "language": "python",
   "name": "python3"
  },
  "language_info": {
   "codemirror_mode": {
    "name": "ipython",
    "version": 3
   },
   "file_extension": ".py",
   "mimetype": "text/x-python",
   "name": "python",
   "nbconvert_exporter": "python",
   "pygments_lexer": "ipython3",
   "version": "3.11.5"
  }
 },
 "nbformat": 4,
 "nbformat_minor": 5
}
