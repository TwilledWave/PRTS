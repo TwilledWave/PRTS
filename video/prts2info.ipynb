{
 "cells": [
  {
   "cell_type": "code",
   "execution_count": 1,
   "id": "7e2ca990-b620-4d88-9cca-0f065c901334",
   "metadata": {},
   "outputs": [],
   "source": [
    "#get the list of characters of the prts events\n",
    "import re\n",
    "def char(link:str):\n",
    "    import urllib\n",
    "    f = urllib.request.urlopen(link)  \n",
    "    html = f.readlines()\n",
    "    list = []\n",
    "    for t in range(len(html)):\n",
    "        line = html[t].decode(\"utf-8\");\n",
    "        if (\"[name=\" in line) and not(\"<\" in line):\n",
    "            names = re.findall('(?<=name=\\\")[^\\\"]+',line)\n",
    "            texts = re.findall('(?<=\\\"\\])[^\\n]+',line)\n",
    "            if len(names)>0 and len(texts)>0:\n",
    "                name = names[0]; text = texts[0];\n",
    "                list.append(name);\n",
    "        if \"cgitem\" in line:\n",
    "            print('Warnning CG item');\n",
    "            print(line);\n",
    "    return(list);\n",
    "                \n",
    "def run(query:str, path=\"../db/cndb\", lang = \"cn\"):\n",
    "    import chromadb\n",
    "    client = chromadb.PersistentClient(path=path)\n",
    "    db = client.get_collection(\"langchain\")\n",
    "    data = db.get()\n",
    "    tmp = []\n",
    "    for k in range(len(data[\"ids\"])):\n",
    "        if query in data[\"metadatas\"][k][\"stage\"]:\n",
    "            print(data[\"metadatas\"][k])\n",
    "            link = data[\"metadatas\"][k][\"source\"];\n",
    "            this = char(link)\n",
    "            tmp = tmp + this\n",
    "    return(tmp)"
   ]
  },
  {
   "cell_type": "code",
   "execution_count": 2,
   "id": "fcff75c8-135b-4713-a8aa-8775aeecd79a",
   "metadata": {},
   "outputs": [
    {
     "name": "stdout",
     "output_type": "stream",
     "text": [
      "{'cg': 'https://prts.wiki/images/thumb/c/cd/Avg_48_i01.png/640px-Avg_48_i01.png', 'indexed': True, 'source': 'https://prts.wiki/index.php?title=CR-ST-1_%E7%89%B9%E5%88%AB%E5%8F%82%E8%A7%82%E9%80%9A%E9%81%93/NBT&action=edit', 'stage': 'CR-ST-1 特别参观通道'}\n",
      "{'cg': '', 'indexed': True, 'source': 'https://prts.wiki/index.php?title=CR-1_%E5%9F%8E%E5%B8%82%E4%B8%BB%E9%A2%98%E5%B1%95/BEG&action=edit', 'stage': 'CR-1 城市主题展 行动前'}\n",
      "{'cg': 'https://prts.wiki/images/thumb/1/15/Avg_20_I01.png/640px-Avg_20_I01.png', 'indexed': True, 'source': 'https://prts.wiki/index.php?title=CR-1_%E5%9F%8E%E5%B8%82%E4%B8%BB%E9%A2%98%E5%B1%95/END&action=edit', 'stage': 'CR-1 城市主题展 行动后'}\n",
      "{'cg': '', 'indexed': True, 'source': 'https://prts.wiki/index.php?title=CR-2_%E4%B8%8D%E5%AF%B9%E7%A7%B0%E5%BA%AD%E5%9B%AD/BEG&action=edit', 'stage': 'CR-2 不对称庭园 行动前'}\n",
      "{'cg': '', 'indexed': True, 'source': 'https://prts.wiki/index.php?title=CR-2_%E4%B8%8D%E5%AF%B9%E7%A7%B0%E5%BA%AD%E5%9B%AD/END&action=edit', 'stage': 'CR-2 不对称庭园 行动后'}\n",
      "{'cg': '', 'indexed': True, 'source': 'https://prts.wiki/index.php?title=CR-3_%E5%81%87%E9%9D%A2%E8%88%9E%E6%B1%A0/BEG&action=edit', 'stage': 'CR-3 假面舞池 行动前'}\n",
      "{'cg': '', 'indexed': True, 'source': 'https://prts.wiki/index.php?title=CR-3_%E5%81%87%E9%9D%A2%E8%88%9E%E6%B1%A0/END&action=edit', 'stage': 'CR-3 假面舞池 行动后'}\n",
      "{'cg': '', 'indexed': True, 'source': 'https://prts.wiki/index.php?title=CR-4_%E9%9D%9E%E4%BC%A0%E7%BB%9F%E8%89%BA%E6%9C%AF%E7%A9%BA%E9%97%B4/BEG&action=edit', 'stage': 'CR-4 非传统艺术空间 行动前'}\n",
      "{'cg': '', 'indexed': True, 'source': 'https://prts.wiki/index.php?title=CR-4_%E9%9D%9E%E4%BC%A0%E7%BB%9F%E8%89%BA%E6%9C%AF%E7%A9%BA%E9%97%B4/END&action=edit', 'stage': 'CR-4 非传统艺术空间 行动后'}\n",
      "{'cg': '', 'indexed': True, 'source': 'https://prts.wiki/index.php?title=CR-5_%E6%B6%88%E9%98%B2%E9%80%9A%E9%81%93/BEG&action=edit', 'stage': 'CR-5 消防通道 行动前'}\n",
      "{'cg': '', 'indexed': True, 'source': 'https://prts.wiki/index.php?title=CR-5_%E6%B6%88%E9%98%B2%E9%80%9A%E9%81%93/END&action=edit', 'stage': 'CR-5 消防通道 行动后'}\n",
      "{'cg': '', 'indexed': True, 'source': 'https://prts.wiki/index.php?title=CR-6_%E5%8F%8D%E8%89%BA%E6%9C%AF%E8%BF%90%E5%8A%A8/BEG&action=edit', 'stage': 'CR-6 反艺术运动 行动前'}\n",
      "{'cg': 'https://prts.wiki/images/thumb/6/67/Avg_48_i02.png/640px-Avg_48_i02.png', 'indexed': True, 'source': 'https://prts.wiki/index.php?title=CR-6_%E5%8F%8D%E8%89%BA%E6%9C%AF%E8%BF%90%E5%8A%A8/END&action=edit', 'stage': 'CR-6 反艺术运动 行动后'}\n",
      "{'cg': 'https://prts.wiki/images/thumb/c/ca/Avg_48_i05.png/640px-Avg_48_i05.png', 'indexed': True, 'source': 'https://prts.wiki/index.php?title=CR-7_%E5%AE%89%E5%85%A8%E5%87%BA%E5%8F%A3/BEG&action=edit', 'stage': 'CR-7 安全出口 行动前'}\n",
      "{'cg': 'https://prts.wiki/images/thumb/5/5f/Avg_48_i06.png/640px-Avg_48_i06.png', 'indexed': True, 'source': 'https://prts.wiki/index.php?title=CR-7_%E5%AE%89%E5%85%A8%E5%87%BA%E5%8F%A3/END&action=edit', 'stage': 'CR-7 安全出口 行动后'}\n",
      "{'cg': 'https://prts.wiki/images/thumb/d/d2/Avg_48_i07.png/640px-Avg_48_i07.png', 'indexed': True, 'source': 'https://prts.wiki/index.php?title=CR-8_%E4%B8%80%E8%B7%83%E8%80%8C%E4%B8%8B/BEG&action=edit', 'stage': 'CR-8 一跃而下 行动前'}\n",
      "{'cg': 'https://prts.wiki/images/thumb/5/59/Avg_48_i10.png/640px-Avg_48_i10.png', 'indexed': True, 'source': 'https://prts.wiki/index.php?title=CR-8_%E4%B8%80%E8%B7%83%E8%80%8C%E4%B8%8B/END&action=edit', 'stage': 'CR-8 一跃而下 行动后'}\n",
      "{'cg': 'https://prts.wiki/images/thumb/2/2c/Avg_48_i12.png/640px-Avg_48_i12.png', 'indexed': True, 'source': 'https://prts.wiki/index.php?title=CR-ST-3_%E8%89%BA%E6%9C%AF%E9%A6%86%E9%A4%90%E5%8E%85/NBT&action=edit', 'stage': 'CR-ST-3 艺术馆餐厅'}\n"
     ]
    },
    {
     "data": {
      "text/plain": [
       "Counter({'艾拉': 383,\n",
       "         '雷内尔': 269,\n",
       "         '特克诺': 227,\n",
       "         '马特奥': 180,\n",
       "         '双月': 171,\n",
       "         '迪亚兹': 161,\n",
       "         '龙舌兰': 155,\n",
       "         '医生': 152,\n",
       "         '米沃什': 151,\n",
       "         '带队的军官': 126,\n",
       "         '导火索': 92,\n",
       "         '空爆': 73,\n",
       "         '社区居民': 50,\n",
       "         '电视里的声音': 49,\n",
       "         '偷懒的军人': 28,\n",
       "         '坎黛拉': 27,\n",
       "         '闪击': 25,\n",
       "         '作业人员': 22,\n",
       "         '暴躁的军人': 22,\n",
       "         '指挥人员': 21,\n",
       "         '社区画家': 20,\n",
       "         '市长保镖': 18,\n",
       "         '社区小贩': 14,\n",
       "         '喇叭里的声音': 14,\n",
       "         '修复师': 13,\n",
       "         '灰烬': 13,\n",
       "         '社区守卫': 12,\n",
       "         '记者': 12,\n",
       "         '懈怠的军人': 11,\n",
       "         '街头摄影师': 11,\n",
       "         '稚嫩的孩子': 11,\n",
       "         '投资界新人': 10,\n",
       "         '？？？': 9,\n",
       "         '右边窗内的声音': 9,\n",
       "         '门板后的声音': 9,\n",
       "         '战车': 9,\n",
       "         '窗户里的声音': 8,\n",
       "         '疲惫的军人': 8,\n",
       "         '仓库管理员': 7,\n",
       "         '社区电工': 7,\n",
       "         '恶劣的军官': 7,\n",
       "         '窘迫的贵族': 7,\n",
       "         '痛苦的军人': 6,\n",
       "         '殷勤的投资商': 6,\n",
       "         '谄媚的收藏家': 6,\n",
       "         '陌生的社区居民': 6,\n",
       "         '胆怯的军人': 6,\n",
       "         '拍卖会主持人': 5,\n",
       "         '整装的军人': 5,\n",
       "         '偷懒的军官': 5,\n",
       "         '掩体背后的声音': 5,\n",
       "         '霜华': 5,\n",
       "         '打扮夸张的杜林人': 4,\n",
       "         '工作人员': 4,\n",
       "         '雷内尔的声音': 4,\n",
       "         '街头艺术家': 4,\n",
       "         '进攻方保安A': 4,\n",
       "         '左边窗内的声音': 4,\n",
       "         '惊讶的居民': 4,\n",
       "         '军官的手下': 4,\n",
       "         '艺术馆安保人员': 4,\n",
       "         '惊恐的军人': 4,\n",
       "         '多索雷斯警察': 4,\n",
       "         '兴奋的游客': 4,\n",
       "         '机警的军人': 3,\n",
       "         '油滑的军人': 3,\n",
       "         '防守方保安C': 3,\n",
       "         '持铳的军人': 3,\n",
       "         '领头的军人': 3,\n",
       "         '疑惑的社区居民': 3,\n",
       "         '严肃的男人': 3,\n",
       "         '颤抖的声音': 3,\n",
       "         '专注的社区守卫': 3,\n",
       "         '疑惑的居民': 3,\n",
       "         '保安': 3,\n",
       "         '年迈的老人': 3,\n",
       "         '暴躁的军官': 3,\n",
       "         '古怪的社区居民': 3,\n",
       "         '被排挤的军人': 3,\n",
       "         '社区琴师': 3,\n",
       "         '赌场打手': 2,\n",
       "         '进攻方保安B': 2,\n",
       "         '防守方保安B': 2,\n",
       "         '进攻方保安C': 2,\n",
       "         '谨慎的路人': 2,\n",
       "         '胆小的出租车司机': 2,\n",
       "         '耳机里的声音': 2,\n",
       "         '特克诺&amp;医生': 2,\n",
       "         '众人': 2,\n",
       "         '旅客': 2,\n",
       "         '赌场荷官': 2,\n",
       "         '全副武装的军人': 2,\n",
       "         '早到的游客': 2,\n",
       "         '身体虚弱的琴师': 2,\n",
       "         '非常瘦弱的歌手': 2,\n",
       "         '艺术馆工作人员': 2,\n",
       "         '投资界前辈': 2,\n",
       "         '米沃什&amp;雷内尔': 1,\n",
       "         '疑惑的军人': 1,\n",
       "         '艺术馆保安': 1,\n",
       "         '广告': 1,\n",
       "         '兴奋的莱塔尼亚旅客': 1,\n",
       "         '高兴的莱塔尼亚旅客': 1,\n",
       "         '鬼祟的叙拉古游客': 1,\n",
       "         '可疑的叙拉古游客': 1,\n",
       "         '路过的萨科塔': 1,\n",
       "         '萨卡兹佣兵': 1,\n",
       "         '主持人的声音': 1,\n",
       "         '保安们': 1,\n",
       "         '多嘴的保安': 1,\n",
       "         '防守方保安A': 1,\n",
       "         '防守方保安D': 1,\n",
       "         '进攻方保安D': 1,\n",
       "         '迪亚兹的副手': 1,\n",
       "         '懒散的社区住户': 1,\n",
       "         '侍者': 1,\n",
       "         '艾拉&amp;龙舌兰': 1,\n",
       "         '特克诺&amp;艾拉': 1,\n",
       "         '摊贩': 1,\n",
       "         '游客': 1,\n",
       "         '不情愿的游客': 1,\n",
       "         '孱弱多病的画家': 1,\n",
       "         '体格强健的雕塑家': 1,\n",
       "         '远处的军人们': 1,\n",
       "         '吓破胆的军人们': 1,\n",
       "         '商业联合会员工': 1})"
      ]
     },
     "execution_count": 2,
     "metadata": {},
     "output_type": "execute_result"
    }
   ],
   "source": [
    "list = run(\"CR-\", lang = \"zh\", path=\"../db/cndb\")\n",
    "from collections import Counter\n",
    "Counter(list)"
   ]
  },
  {
   "cell_type": "code",
   "execution_count": 12,
   "id": "90026d3a-df6c-4283-878c-be85cb0d6200",
   "metadata": {
    "collapsed": true,
    "jupyter": {
     "outputs_hidden": true
    }
   },
   "outputs": [
    {
     "data": {
      "text/plain": [
       "{'“桥夹”克里夫',\n",
       " '不再慵懒的女声',\n",
       " '主持人',\n",
       " '伍德洛',\n",
       " '作乱的混混',\n",
       " '冷淡的银行员工',\n",
       " '冷漠的混混',\n",
       " '冷漠的银行员工',\n",
       " '冷漠的雪地匪帮',\n",
       " '冷静的黑钢佣兵',\n",
       " '卡尔',\n",
       " '地块居民',\n",
       " '头晕的老先生',\n",
       " '年老的猎人',\n",
       " '广告屏',\n",
       " '形容枯槁的男子',\n",
       " '惶恐的银行员工',\n",
       " '慵懒的女声',\n",
       " '担忧的银行员工',\n",
       " '无奈的黑钢佣兵',\n",
       " '无措的地块居民',\n",
       " '无聊的银行员工',\n",
       " '暴躁的女性',\n",
       " '本尼',\n",
       " '杰西卡',\n",
       " '模糊的声音',\n",
       " '残忍的雪地匪帮',\n",
       " '气愤的地块居民',\n",
       " '海伦娜',\n",
       " '海伦娜&amp;里昂',\n",
       " '温柔的声音',\n",
       " '温柔的女声',\n",
       " '潦倒的老太太',\n",
       " '激动的地块居民',\n",
       " '烦躁的黑钢佣兵',\n",
       " '焦急的地块居民',\n",
       " '焦急的老年女性',\n",
       " '焦虑的男性',\n",
       " '狠毒的混混',\n",
       " '狡诈的混混',\n",
       " '理智的黑钢佣兵',\n",
       " '祖父',\n",
       " '神经质的银行员工',\n",
       " '秘书',\n",
       " '粗鲁的混混',\n",
       " '罗拉',\n",
       " '芙兰卡',\n",
       " '落魄的店主',\n",
       " '蛮横的混混',\n",
       " '西尔维娅',\n",
       " '访谈嘉宾',\n",
       " '车队首领',\n",
       " '迈尔斯',\n",
       " '迟钝的混混',\n",
       " '通讯器',\n",
       " '通讯音',\n",
       " '里昂',\n",
       " '银行员工',\n",
       " '银行员工们',\n",
       " '银行经理',\n",
       " '银行行长',\n",
       " '镇长秘书',\n",
       " '闹事的混混',\n",
       " '雷蛇',\n",
       " '面色不快的地块居民',\n",
       " '面色苍白的男子',\n",
       " '面色阴沉的佣兵',\n",
       " '顽抗的雪地暴徒',\n",
       " '风尘仆仆的律师',\n",
       " '鬼祟的雪地匪帮',\n",
       " '鲁伯特',\n",
       " '黑钢佣兵',\n",
       " '黑钢佣兵小队成员',\n",
       " '黑钢工程小队成员',\n",
       " '黑钢干员',\n",
       " '黑钢情报小组成员',\n",
       " '黑钢技术员',\n",
       " '黑钢资深干员',\n",
       " '？？？'}"
      ]
     },
     "execution_count": 12,
     "metadata": {},
     "output_type": "execute_result"
    }
   ],
   "source": []
  },
  {
   "cell_type": "code",
   "execution_count": 19,
   "id": "bd6541f4-b2ed-45d8-8243-d75c725b8263",
   "metadata": {
    "collapsed": true,
    "jupyter": {
     "outputs_hidden": true
    }
   },
   "outputs": [
    {
     "data": {
      "text/plain": [
       "Counter({'Swire': 34,\n",
       "         'Adele': 28,\n",
       "         'Costa': 17,\n",
       "         'Kahn': 16,\n",
       "         'Enis': 15,\n",
       "         'Tired Voice': 14,\n",
       "         'Keller': 14,\n",
       "         'Cold Drinks Shop Owner': 10,\n",
       "         'Snowsant': 9,\n",
       "         'Ceylon': 9,\n",
       "         'Dolly': 7,\n",
       "         'Pelipper': 6,\n",
       "         'Tourist B': 5,\n",
       "         'Girl': 5,\n",
       "         'Tourist A': 4,\n",
       "         'Boy': 4,\n",
       "         'Byrd': 3,\n",
       "         'Instrument Shop Owner': 3,\n",
       "         'Surprised Tourist Scream': 3,\n",
       "         'Tourist C': 2,\n",
       "         'Unhappy Girl': 2,\n",
       "         'Tourist': 1,\n",
       "         'Little Tourist Exclaiming': 1,\n",
       "         'Very Happy Boy': 1,\n",
       "         'Boy & Girl': 1})"
      ]
     },
     "execution_count": 19,
     "metadata": {},
     "output_type": "execute_result"
    }
   ],
   "source": [
    "import os\n",
    "link = \"./cache/level_act27side_05_beg.txt\"\n",
    "link = 'file:///'+os.path.abspath(link)\n",
    "from collections import Counter\n",
    "Counter(char(link))"
   ]
  },
  {
   "cell_type": "code",
   "execution_count": 3,
   "id": "e5c7b18d-1d0e-4e16-808b-d9f972d9d400",
   "metadata": {},
   "outputs": [],
   "source": [
    "import os\n",
    "from collections import Counter\n",
    "from pathlib import Path\n",
    "#get the list of characters of the ab files\n",
    "def runab(query:str, folder = \"./cache/unity/SL-ST/\", lang = \"en\"):\n",
    "    import json, time\n",
    "    stage_dict = {}; stage_list = [];\n",
    "    # Opening JSON file\n",
    "    with open(folder + \"/\"+ query, encoding=\"utf-8\") as f:\n",
    "        file = json.load(f)\n",
    "    for l in file:\n",
    "        if l != None:\n",
    "            nameEN = l[\"stageEN\"];\n",
    "            nameCN = l[\"stageCN\"];\n",
    "            if (lang == \"zh\") or (lang == \"ja\"):\n",
    "                stage_list.append(nameCN);\n",
    "                stage_dict[nameCN]=l[\"file\"]\n",
    "            if lang == \"en\":\n",
    "                stage_list.append(nameEN);\n",
    "                stage_dict[nameEN]=l[\"file\"]\n",
    "    tmp = []\n",
    "    for k in range(len(stage_list)):\n",
    "        stage = stage_list[k]\n",
    "        link = folder + \"/\" + stage_dict[stage]\n",
    "        link = 'file:///'+os.path.abspath(link)\n",
    "        path = Path(folder+\"/\"+stage+\".mp4\")\n",
    "        this = char(link)\n",
    "        tmp = tmp + this\n",
    "    return(tmp)\n"
   ]
  },
  {
   "cell_type": "code",
   "execution_count": 5,
   "id": "34dc83a1-cba0-4228-9857-ddd806450378",
   "metadata": {},
   "outputs": [
    {
     "data": {
      "text/plain": [
       "Counter({'マゼラン': 25, 'サンタラ': 11, 'ティフォン': 8, 'アルゲス': 4})"
      ]
     },
     "execution_count": 5,
     "metadata": {},
     "output_type": "execute_result"
    }
   ],
   "source": [
    "list = runab(\"FD-ST.json\", folder = \"./cache/unity/IS4-JP/\", lang = \"ja\")\n",
    "Counter(list)"
   ]
  },
  {
   "cell_type": "code",
   "execution_count": 4,
   "id": "d8c930d9-bfb4-4a66-906d-1d11a5f865fd",
   "metadata": {},
   "outputs": [
    {
     "data": {
      "text/plain": [
       "Counter({'Magallan': 25, 'Santalla': 11, 'Typhon': 8, 'Arges': 4})"
      ]
     },
     "execution_count": 4,
     "metadata": {},
     "output_type": "execute_result"
    }
   ],
   "source": [
    "list = runab(\"FD-ST.json\", folder = \"./cache/unity/IS4/\", lang = \"en\")\n",
    "Counter(list)"
   ]
  },
  {
   "cell_type": "code",
   "execution_count": null,
   "id": "c1175978-4dba-4264-87d5-782397d7562e",
   "metadata": {},
   "outputs": [],
   "source": [
    "list = runab(\"SL-ST.json\", folder = \"./cache/unity/SL-ST/\", lang = \"en\")\n",
    "Counter(list)"
   ]
  },
  {
   "cell_type": "code",
   "execution_count": 24,
   "id": "91e88d0e-02a6-42bc-803f-563c2e9f3f82",
   "metadata": {},
   "outputs": [
    {
     "data": {
      "text/plain": [
       "{'level_act15mini_st01.txt',\n",
       " 'level_act15mini_st02.txt',\n",
       " 'level_act15mini_st03.txt',\n",
       " 'level_act15mini_st04.txt',\n",
       " 'level_act15mini_st05.txt',\n",
       " 'level_act15mini_st06.txt',\n",
       " 'level_act15mini_st07.txt'}"
      ]
     },
     "execution_count": 24,
     "metadata": {},
     "output_type": "execute_result"
    }
   ],
   "source": [
    "dir1 = r\"C:\\Users\\shiha\\PRTS\\video\\cache\\unity\\output\\TextAsset\"\n",
    "dir2 = r\"C:\\Users\\shiha\\Documents\\MuMuSharedFolder\\JP\\output\\TextAsset\"\n",
    "from os import listdir\n",
    "l1 = listdir(dir1)\n",
    "l2 = listdir(dir2)\n",
    "set(l2) - set(l1)"
   ]
  }
 ],
 "metadata": {
  "kernelspec": {
   "display_name": "Python 3 (ipykernel)",
   "language": "python",
   "name": "python3"
  },
  "language_info": {
   "codemirror_mode": {
    "name": "ipython",
    "version": 3
   },
   "file_extension": ".py",
   "mimetype": "text/x-python",
   "name": "python",
   "nbconvert_exporter": "python",
   "pygments_lexer": "ipython3",
   "version": "3.11.5"
  }
 },
 "nbformat": 4,
 "nbformat_minor": 5
}
