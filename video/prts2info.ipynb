{
 "cells": [
  {
   "cell_type": "code",
   "execution_count": 2,
   "id": "7e2ca990-b620-4d88-9cca-0f065c901334",
   "metadata": {},
   "outputs": [],
   "source": [
    "#get the list of characters of the prts events\n",
    "import re\n",
    "def char(link:str):\n",
    "    import urllib\n",
    "    f = urllib.request.urlopen(link)  \n",
    "    html = f.readlines()\n",
    "    list = []\n",
    "    for t in range(len(html)):\n",
    "        line = html[t].decode(\"utf-8\");\n",
    "        if (\"[name=\" in line) and not(\"<\" in line):\n",
    "            names = re.findall('(?<=name=\\\")[^\\\"]+',line)\n",
    "            texts = re.findall('(?<=\\\"\\])[^\\n]+',line)\n",
    "            if len(names)>0 and len(texts)>0:\n",
    "                name = names[0]; text = texts[0];\n",
    "                list.append(name);\n",
    "        if \"cgitem\" in line:\n",
    "            print('Warnning CG item');\n",
    "            print(line);\n",
    "    return(list);\n",
    "                \n",
    "def run(query:str, path=\"../db/cndb\", lang = \"cn\"):\n",
    "    import chromadb\n",
    "    client = chromadb.PersistentClient(path=path)\n",
    "    db = client.get_collection(\"langchain\")\n",
    "    data = db.get()\n",
    "    tmp = []\n",
    "    for k in range(len(data[\"ids\"])):\n",
    "        if query in data[\"metadatas\"][k][\"stage\"]:\n",
    "            print(data[\"metadatas\"][k])\n",
    "            link = data[\"metadatas\"][k][\"source\"];\n",
    "            this = char(link)\n",
    "            tmp = tmp + this\n",
    "    return(tmp)"
   ]
  },
  {
   "cell_type": "code",
   "execution_count": 27,
   "id": "fcff75c8-135b-4713-a8aa-8775aeecd79a",
   "metadata": {
    "collapsed": true,
    "jupyter": {
     "outputs_hidden": true
    }
   },
   "outputs": [
    {
     "name": "stdout",
     "output_type": "stream",
     "text": [
      "{'cg': 'https://prts.wiki/images/thumb/c/c9/Avg_40_i01.png/640px-Avg_40_i01.png', 'indexed': True, 'source': 'https://prts.wiki/index.php?title=FD-ST1_%E6%B2%89%E4%BA%8E%E5%86%B0%E5%AF%92/NBT&action=edit', 'stage': 'FD-ST-沉于冰寒'}\n",
      "{'cg': '', 'indexed': True, 'source': 'https://prts.wiki/index.php?title=FD-ST2_%E5%86%B0%E5%8E%9F%E7%9A%84%E5%A5%B3%E5%84%BF/NBT&action=edit', 'stage': 'FD-ST-冰原的女儿'}\n",
      "{'cg': 'https://prts.wiki/images/thumb/1/15/Avg_40_i03.png/640px-Avg_40_i03.png', 'indexed': True, 'source': 'https://prts.wiki/index.php?title=FD-ST3_%E6%A0%91%E5%BD%B1%E5%B9%A2%E5%B9%A2/NBT&action=edit', 'stage': 'FD-ST-树影幢幢'}\n",
      "{'cg': 'https://prts.wiki/images/thumb/7/77/Avg_40_i06.png/640px-Avg_40_i06.png', 'indexed': True, 'source': 'https://prts.wiki/index.php?title=FD-ST4_%E8%87%AA%E7%84%B6%E7%9A%84%E5%90%AF%E7%A4%BA/NBT&action=edit', 'stage': 'FD-ST-自然的启示'}\n",
      "{'cg': 'https://prts.wiki/images/thumb/d/d7/Avg_40_i05.png/640px-Avg_40_i05.png', 'indexed': True, 'source': 'https://prts.wiki/index.php?title=FD-ST5_%E5%BD%92%E4%B9%A1/NBT&action=edit', 'stage': 'FD-ST-归乡'}\n",
      "{'cg': 'https://prts.wiki/images/thumb/1/18/Avg_40_i02.png/640px-Avg_40_i02.png', 'indexed': True, 'source': 'https://prts.wiki/index.php?title=FD-ST6_%E7%BB%88%E6%9C%89%E4%B8%80%E6%97%A5/NBT&action=edit', 'stage': 'FD-ST-终有一日'}\n",
      "{'cg': '', 'indexed': True, 'source': 'https://prts.wiki/index.php?title=FD-ST7_%E6%9C%AA%E8%A7%81%E4%B9%8B%E6%99%AF/NBT&action=edit', 'stage': 'FD-ST-未见之景'}\n"
     ]
    },
    {
     "data": {
      "text/plain": [
       "Counter({'麦哲伦': 794,\n",
       "         '提丰': 522,\n",
       "         '寒檀': 315,\n",
       "         '橡杯': 110,\n",
       "         '远山': 89,\n",
       "         '伊万': 65,\n",
       "         '莱茵生命研究员': 52,\n",
       "         '？？？': 51,\n",
       "         '悲愁的萨满学徒': 33,\n",
       "         '主持仪式的萨满': 31,\n",
       "         '林地萨满': 29,\n",
       "         '埃克提尔尼尔': 27,\n",
       "         '萨米战士': 24,\n",
       "         '温和的萨满': 23,\n",
       "         '“长官”': 22,\n",
       "         '乌萨斯军官': 20,\n",
       "         '乌萨斯商队成员': 18,\n",
       "         '严厉的萨满': 16,\n",
       "         '萨米山地斥候': 15,\n",
       "         '“士兵”': 13,\n",
       "         '萨米泽地居民': 13,\n",
       "         '可疑的黎博利': 13,\n",
       "         '乌萨斯商队护卫': 12,\n",
       "         '科考科成员': 9,\n",
       "         '装置': 7,\n",
       "         '严肃的萨米山地战士': 6,\n",
       "         '萨米萨满': 5,\n",
       "         '萨米林地居民': 5,\n",
       "         '艾尔启': 5,\n",
       "         '坚忍的萨米山地战士': 3,\n",
       "         '陌生的少女': 3,\n",
       "         '岩角兽': 3,\n",
       "         '萨米泽地萨满': 3,\n",
       "         '莱茵生命特遣信使': 3,\n",
       "         '“斥候”': 2,\n",
       "         '断断续续的通讯音': 2,\n",
       "         '树痕部族战士': 2,\n",
       "         '哥伦比亚游客': 2,\n",
       "         '沙滩伞外派人员': 2,\n",
       "         '科考科主任？': 1,\n",
       "         '小岩角兽': 1,\n",
       "         '陌生的研究员': 1})"
      ]
     },
     "execution_count": 27,
     "metadata": {},
     "output_type": "execute_result"
    }
   ],
   "source": [
    "list = run(\"FD-ST-\", lang = \"zh\", path=\"../db/cndb\")\n",
    "from collections import Counter\n",
    "Counter(list)"
   ]
  },
  {
   "cell_type": "code",
   "execution_count": 12,
   "id": "90026d3a-df6c-4283-878c-be85cb0d6200",
   "metadata": {
    "collapsed": true,
    "jupyter": {
     "outputs_hidden": true
    }
   },
   "outputs": [
    {
     "data": {
      "text/plain": [
       "{'“桥夹”克里夫',\n",
       " '不再慵懒的女声',\n",
       " '主持人',\n",
       " '伍德洛',\n",
       " '作乱的混混',\n",
       " '冷淡的银行员工',\n",
       " '冷漠的混混',\n",
       " '冷漠的银行员工',\n",
       " '冷漠的雪地匪帮',\n",
       " '冷静的黑钢佣兵',\n",
       " '卡尔',\n",
       " '地块居民',\n",
       " '头晕的老先生',\n",
       " '年老的猎人',\n",
       " '广告屏',\n",
       " '形容枯槁的男子',\n",
       " '惶恐的银行员工',\n",
       " '慵懒的女声',\n",
       " '担忧的银行员工',\n",
       " '无奈的黑钢佣兵',\n",
       " '无措的地块居民',\n",
       " '无聊的银行员工',\n",
       " '暴躁的女性',\n",
       " '本尼',\n",
       " '杰西卡',\n",
       " '模糊的声音',\n",
       " '残忍的雪地匪帮',\n",
       " '气愤的地块居民',\n",
       " '海伦娜',\n",
       " '海伦娜&amp;里昂',\n",
       " '温柔的声音',\n",
       " '温柔的女声',\n",
       " '潦倒的老太太',\n",
       " '激动的地块居民',\n",
       " '烦躁的黑钢佣兵',\n",
       " '焦急的地块居民',\n",
       " '焦急的老年女性',\n",
       " '焦虑的男性',\n",
       " '狠毒的混混',\n",
       " '狡诈的混混',\n",
       " '理智的黑钢佣兵',\n",
       " '祖父',\n",
       " '神经质的银行员工',\n",
       " '秘书',\n",
       " '粗鲁的混混',\n",
       " '罗拉',\n",
       " '芙兰卡',\n",
       " '落魄的店主',\n",
       " '蛮横的混混',\n",
       " '西尔维娅',\n",
       " '访谈嘉宾',\n",
       " '车队首领',\n",
       " '迈尔斯',\n",
       " '迟钝的混混',\n",
       " '通讯器',\n",
       " '通讯音',\n",
       " '里昂',\n",
       " '银行员工',\n",
       " '银行员工们',\n",
       " '银行经理',\n",
       " '银行行长',\n",
       " '镇长秘书',\n",
       " '闹事的混混',\n",
       " '雷蛇',\n",
       " '面色不快的地块居民',\n",
       " '面色苍白的男子',\n",
       " '面色阴沉的佣兵',\n",
       " '顽抗的雪地暴徒',\n",
       " '风尘仆仆的律师',\n",
       " '鬼祟的雪地匪帮',\n",
       " '鲁伯特',\n",
       " '黑钢佣兵',\n",
       " '黑钢佣兵小队成员',\n",
       " '黑钢工程小队成员',\n",
       " '黑钢干员',\n",
       " '黑钢情报小组成员',\n",
       " '黑钢技术员',\n",
       " '黑钢资深干员',\n",
       " '？？？'}"
      ]
     },
     "execution_count": 12,
     "metadata": {},
     "output_type": "execute_result"
    }
   ],
   "source": []
  },
  {
   "cell_type": "code",
   "execution_count": 19,
   "id": "bd6541f4-b2ed-45d8-8243-d75c725b8263",
   "metadata": {
    "collapsed": true,
    "jupyter": {
     "outputs_hidden": true
    }
   },
   "outputs": [
    {
     "data": {
      "text/plain": [
       "Counter({'Swire': 34,\n",
       "         'Adele': 28,\n",
       "         'Costa': 17,\n",
       "         'Kahn': 16,\n",
       "         'Enis': 15,\n",
       "         'Tired Voice': 14,\n",
       "         'Keller': 14,\n",
       "         'Cold Drinks Shop Owner': 10,\n",
       "         'Snowsant': 9,\n",
       "         'Ceylon': 9,\n",
       "         'Dolly': 7,\n",
       "         'Pelipper': 6,\n",
       "         'Tourist B': 5,\n",
       "         'Girl': 5,\n",
       "         'Tourist A': 4,\n",
       "         'Boy': 4,\n",
       "         'Byrd': 3,\n",
       "         'Instrument Shop Owner': 3,\n",
       "         'Surprised Tourist Scream': 3,\n",
       "         'Tourist C': 2,\n",
       "         'Unhappy Girl': 2,\n",
       "         'Tourist': 1,\n",
       "         'Little Tourist Exclaiming': 1,\n",
       "         'Very Happy Boy': 1,\n",
       "         'Boy & Girl': 1})"
      ]
     },
     "execution_count": 19,
     "metadata": {},
     "output_type": "execute_result"
    }
   ],
   "source": [
    "import os\n",
    "link = \"./cache/level_act27side_05_beg.txt\"\n",
    "link = 'file:///'+os.path.abspath(link)\n",
    "from collections import Counter\n",
    "Counter(char(link))"
   ]
  },
  {
   "cell_type": "code",
   "execution_count": 3,
   "id": "e5c7b18d-1d0e-4e16-808b-d9f972d9d400",
   "metadata": {},
   "outputs": [],
   "source": [
    "import os\n",
    "from collections import Counter\n",
    "from pathlib import Path\n",
    "#get the list of characters of the ab files\n",
    "def runab(query:str, folder = \"./cache/unity/SL-ST/\", lang = \"en\"):\n",
    "    import json, time\n",
    "    stage_dict = {}; stage_list = [];\n",
    "    # Opening JSON file\n",
    "    with open(folder + \"/\"+ query, encoding=\"utf-8\") as f:\n",
    "        file = json.load(f)\n",
    "    for l in file:\n",
    "        if l != None:\n",
    "            nameEN = l[\"stageEN\"];\n",
    "            nameCN = l[\"stageCN\"];\n",
    "            if (lang == \"zh\") or (lang == \"ja\"):\n",
    "                stage_list.append(nameCN);\n",
    "                stage_dict[nameCN]=l[\"file\"]\n",
    "            if lang == \"en\":\n",
    "                stage_list.append(nameEN);\n",
    "                stage_dict[nameEN]=l[\"file\"]\n",
    "    tmp = []\n",
    "    for k in range(len(stage_list)):\n",
    "        stage = stage_list[k]\n",
    "        link = folder + \"/\" + stage_dict[stage]\n",
    "        link = 'file:///'+os.path.abspath(link)\n",
    "        path = Path(folder+\"/\"+stage+\".mp4\")\n",
    "        this = char(link)\n",
    "        tmp = tmp + this\n",
    "    return(tmp)\n"
   ]
  },
  {
   "cell_type": "code",
   "execution_count": 5,
   "id": "34dc83a1-cba0-4228-9857-ddd806450378",
   "metadata": {},
   "outputs": [
    {
     "data": {
      "text/plain": [
       "Counter({'マゼラン': 25, 'サンタラ': 11, 'ティフォン': 8, 'アルゲス': 4})"
      ]
     },
     "execution_count": 5,
     "metadata": {},
     "output_type": "execute_result"
    }
   ],
   "source": [
    "list = runab(\"FD-ST.json\", folder = \"./cache/unity/IS4-JP/\", lang = \"ja\")\n",
    "Counter(list)"
   ]
  },
  {
   "cell_type": "code",
   "execution_count": 4,
   "id": "d8c930d9-bfb4-4a66-906d-1d11a5f865fd",
   "metadata": {},
   "outputs": [
    {
     "data": {
      "text/plain": [
       "Counter({'Magallan': 25, 'Santalla': 11, 'Typhon': 8, 'Arges': 4})"
      ]
     },
     "execution_count": 4,
     "metadata": {},
     "output_type": "execute_result"
    }
   ],
   "source": [
    "list = runab(\"FD-ST.json\", folder = \"./cache/unity/IS4/\", lang = \"en\")\n",
    "Counter(list)"
   ]
  },
  {
   "cell_type": "code",
   "execution_count": null,
   "id": "c1175978-4dba-4264-87d5-782397d7562e",
   "metadata": {},
   "outputs": [],
   "source": [
    "list = runab(\"SL-ST.json\", folder = \"./cache/unity/SL-ST/\", lang = \"en\")\n",
    "Counter(list)"
   ]
  },
  {
   "cell_type": "code",
   "execution_count": 24,
   "id": "91e88d0e-02a6-42bc-803f-563c2e9f3f82",
   "metadata": {},
   "outputs": [
    {
     "data": {
      "text/plain": [
       "{'level_act15mini_st01.txt',\n",
       " 'level_act15mini_st02.txt',\n",
       " 'level_act15mini_st03.txt',\n",
       " 'level_act15mini_st04.txt',\n",
       " 'level_act15mini_st05.txt',\n",
       " 'level_act15mini_st06.txt',\n",
       " 'level_act15mini_st07.txt'}"
      ]
     },
     "execution_count": 24,
     "metadata": {},
     "output_type": "execute_result"
    }
   ],
   "source": [
    "dir1 = r\"C:\\Users\\shiha\\PRTS\\video\\cache\\unity\\output\\TextAsset\"\n",
    "dir2 = r\"C:\\Users\\shiha\\Documents\\MuMuSharedFolder\\JP\\output\\TextAsset\"\n",
    "from os import listdir\n",
    "l1 = listdir(dir1)\n",
    "l2 = listdir(dir2)\n",
    "set(l2) - set(l1)"
   ]
  }
 ],
 "metadata": {
  "kernelspec": {
   "display_name": "Python 3 (ipykernel)",
   "language": "python",
   "name": "python3"
  },
  "language_info": {
   "codemirror_mode": {
    "name": "ipython",
    "version": 3
   },
   "file_extension": ".py",
   "mimetype": "text/x-python",
   "name": "python",
   "nbconvert_exporter": "python",
   "pygments_lexer": "ipython3",
   "version": "3.11.5"
  }
 },
 "nbformat": 4,
 "nbformat_minor": 5
}
